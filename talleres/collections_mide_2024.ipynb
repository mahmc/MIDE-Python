{
  "cells": [
    {
      "cell_type": "markdown",
      "id": "c3477c13",
      "metadata": {
        "id": "c3477c13"
      },
      "source": [
        "# Colecciones: Listas, tuplas y conjuntos\n",
        "<a href=\"https://colab.research.google.com/github/milocortes/diplomado_ciencia_datos_mide/blob/edicion-2024/talleres/collections_mide_2024.ipynb\" target=\"_parent\"><img src=\"https://colab.research.google.com/assets/colab-badge.svg\" alt=\"Open In Colab\"/></a>\n",
        "\n",
        "![python-ecosystem](https://github.com/milocortes/python_course_summer_school_DMDU_2022/raw/main/notebooks/images/data_structures.jpg)\n",
        "<div style=\"text-align: center\"> https://www.youtube.com/watch?v=B31LgI4Y4DQ </div>\n",
        "\n",
        "\n",
        "\n"
      ]
    },
    {
      "cell_type": "markdown",
      "id": "8af6cdfc",
      "metadata": {
        "id": "8af6cdfc"
      },
      "source": [
        "## Estructuras de datos\n",
        "\n",
        "Una estructura de datos es una forma de organización, administración y almacenamiento que permite un acceso y modificación eficientes.\n",
        "\n",
        "Una de las cosas más importantes al escribir programas eficientes es comprender las garantías de las estructuras de datos que estamos utilizando.\n",
        "\n",
        "Una gran parte de una programación eficiente consiste en saber qué preguntas estamos tratando de responder con nuestros datos y elegir una estructura de datos que pueda responder estas preguntas rápidamente."
      ]
    },
    {
      "cell_type": "markdown",
      "id": "8d772263",
      "metadata": {
        "id": "8d772263"
      },
      "source": [
        "## Listas y tuplas\n",
        "\n",
        "Lista y tuplas son una clase de estructuras de datos llamadas *arreglos* (*arrays*).\n",
        "\n",
        "Un arreglo es una lista plana de datos con algún orden intrínseco.\n",
        "\n",
        "![array.png](attachment:array.png)\n",
        "\n",
        "Por lo general, en este tipo de estructuras de datos, el orden relativo de los elementos es tan importante como los propios elementos.\n",
        "\n",
        " El conocimiento *a priori* del orden es increíblemente valioso: al saber que los datos en nuestro arreglo están en una posición específica, podemos recuperarlos en $O(1)$.\n"
      ]
    },
    {
      "cell_type": "markdown",
      "id": "5ce7aeb5",
      "metadata": {
        "id": "5ce7aeb5"
      },
      "source": [
        "## Listas y tuplas\n",
        "\n",
        "En python tenemos dos tipos de arreglos: Listas y tuplas\n",
        "* **Listas** son arreglos dinámicos que nos permiten modificar y redimensionar los datos que estamos almacenando.\n",
        "* **Tuplas** son arreglos estáticos cuyo contenido es fijo e inmutable.\n",
        "\n"
      ]
    },
    {
      "cell_type": "markdown",
      "id": "f3c9c5d6",
      "metadata": {
        "id": "f3c9c5d6"
      },
      "source": [
        "## Listas y tuplas\n",
        "\n",
        "La memoria del sistema en una computadora se puede considerar como una serie de cubos numerados, cada uno capaz de contener un número.\n",
        "\n",
        "Python almacena datos en estos cubos *por referencia*, lo que significa que el número en sí simplemente apunta o se refiere a los datos que realmente nos interesan.\n",
        "\n",
        "Como resultado, estos cubos pueden almacenar cualquier tipo de datos que queramos."
      ]
    },
    {
      "cell_type": "markdown",
      "id": "af0b4ae4",
      "metadata": {
        "id": "af0b4ae4"
      },
      "source": [
        "## Listas y tuplas\n",
        "\n",
        "Cuando queremos crear un arreglo (y, por lo tanto, una lista o una tupla), primero debemos asignar un bloque de memoria del sistema (donde cada sección de este bloque se usará como un puntero de tamaño entero a los datos reales).\n",
        "\n",
        "Esto implica ir al kernel del sistema y solicitar el uso de $\\texttt{N}$ cubos consecutivos.\n",
        "\n",
        "![system_memory.png](attachment:system_memory.png)\n",
        "\n",
        "\n"
      ]
    },
    {
      "cell_type": "markdown",
      "id": "b6e87f98",
      "metadata": {
        "id": "b6e87f98"
      },
      "source": [
        "## Listas\n",
        "\n",
        "Una lista se crea encerrando una lista de elementos separados por comas entre corchetes cuadrados:"
      ]
    },
    {
      "cell_type": "code",
      "execution_count": null,
      "id": "9d7fa755",
      "metadata": {
        "id": "9d7fa755"
      },
      "outputs": [],
      "source": []
    },
    {
      "cell_type": "markdown",
      "id": "3e32e6b6",
      "metadata": {
        "id": "3e32e6b6"
      },
      "source": [
        "La lista de Python puede contener diferentes tipos de elementos; un elemento de una lista puede ser cualquier objeto de Python."
      ]
    },
    {
      "cell_type": "code",
      "execution_count": null,
      "id": "ebbded5b",
      "metadata": {
        "id": "ebbded5b"
      },
      "outputs": [],
      "source": []
    },
    {
      "cell_type": "markdown",
      "id": "091ff0b4",
      "metadata": {
        "id": "091ff0b4"
      },
      "source": [
        "La función de lista incorporada más básica es la $\\texttt{len}$ ,que devuelve el número de elementos en una lista:"
      ]
    },
    {
      "cell_type": "code",
      "execution_count": null,
      "id": "53e48dd2",
      "metadata": {
        "id": "53e48dd2"
      },
      "outputs": [],
      "source": []
    },
    {
      "cell_type": "markdown",
      "id": "beaef63e",
      "metadata": {
        "id": "beaef63e"
      },
      "source": [
        "## Indices de listas\n",
        "\n",
        "Python comienza a contar desde 0; pedir el elemento 0 devuelve el primer elemento de la lista, pedir el elemento 1 devuelve el segundo elemento, y así sucesivamente."
      ]
    },
    {
      "cell_type": "code",
      "execution_count": null,
      "id": "ffd1ac0c",
      "metadata": {
        "id": "ffd1ac0c"
      },
      "outputs": [],
      "source": []
    },
    {
      "cell_type": "markdown",
      "id": "ec1a0935",
      "metadata": {
        "id": "ec1a0935"
      },
      "source": [
        "Si los índices son números negativos, indican posiciones que cuentan desde el final de la lista, siendo -1 la última posición de la lista, -2 la penúltima posición, y así sucesivamente."
      ]
    },
    {
      "cell_type": "code",
      "execution_count": null,
      "id": "8b93467f",
      "metadata": {
        "id": "8b93467f"
      },
      "outputs": [],
      "source": []
    },
    {
      "cell_type": "markdown",
      "id": "fe394360",
      "metadata": {
        "id": "fe394360"
      },
      "source": [
        "## Segmentación de lista\n",
        "\n",
        "Python puede extraer o asignar a una sublista completa con una operación conocida como *slicing*. En vez de usar <code>list[index]</code> para extraer el elemento del índice, utilizamos <code>list[index1:index2]</code>\n",
        "para extraer todos los elementos, incluidos <code> index1</code> y hasta (pero sin incluir) <code> index2</code> en una nueva lista."
      ]
    },
    {
      "cell_type": "code",
      "execution_count": null,
      "id": "46777c08",
      "metadata": {
        "id": "46777c08"
      },
      "outputs": [],
      "source": []
    },
    {
      "cell_type": "code",
      "execution_count": null,
      "id": "bd5cddd7",
      "metadata": {
        "id": "bd5cddd7"
      },
      "outputs": [],
      "source": []
    },
    {
      "cell_type": "code",
      "execution_count": null,
      "id": "39d210e2",
      "metadata": {
        "id": "39d210e2"
      },
      "outputs": [],
      "source": []
    },
    {
      "cell_type": "markdown",
      "id": "dffa251c",
      "metadata": {
        "id": "dffa251c"
      },
      "source": [
        "También es posible no definir <code>index1</code> o <code>index2</code>. Dejando fuera <code>index1</code> significa \"Ir desde el principio de la lista\" y dejando fuera <code>index2</code> significa \"Ir al final de la lista\":"
      ]
    },
    {
      "cell_type": "code",
      "execution_count": null,
      "id": "122ea09e",
      "metadata": {
        "id": "122ea09e"
      },
      "outputs": [],
      "source": []
    },
    {
      "cell_type": "code",
      "execution_count": null,
      "id": "ed22621b",
      "metadata": {
        "id": "ed22621b"
      },
      "outputs": [],
      "source": []
    },
    {
      "cell_type": "markdown",
      "id": "0bd2ea2d",
      "metadata": {
        "id": "0bd2ea2d"
      },
      "source": [
        "\n",
        "Omitiendo ambos índices crea una nueva lista que va desde el principio hasta el final de la lista original, es decir, copia la lista."
      ]
    },
    {
      "cell_type": "code",
      "execution_count": null,
      "id": "ae120155",
      "metadata": {
        "id": "ae120155"
      },
      "outputs": [],
      "source": []
    },
    {
      "cell_type": "markdown",
      "id": "4fa41910",
      "metadata": {
        "id": "4fa41910"
      },
      "source": [
        "## Modificación de listas\n",
        "\n",
        "Puede usar la notación de índice de lista para modificar una lista, así como para extraer un elemento de ella. Coloque el índice en el lado izquierdo del operador de asignación:"
      ]
    },
    {
      "cell_type": "code",
      "execution_count": null,
      "id": "2082a12d",
      "metadata": {
        "id": "2082a12d"
      },
      "outputs": [],
      "source": []
    },
    {
      "cell_type": "markdown",
      "id": "38567d13",
      "metadata": {
        "id": "38567d13"
      },
      "source": [
        "La notación de slicing también se puede usar aquí. Escribir algo como <code>list_a[index1:index2] = list_b</code> ocasiona que todos los elementos de <code>list_a</code> entre <code>index1</code> y <code>index1</code> sean reemplazado por los elementos de <code>list_b</code>.\n",
        "\n",
        "<code>list_b</code> puede tener más o menos elementos de los que se eliminan <code>list_a</code>, en cuyo caso es alterado el tamaño de <code>list_a</code>.\n",
        "\n"
      ]
    },
    {
      "cell_type": "code",
      "execution_count": null,
      "id": "90f904d4",
      "metadata": {
        "id": "90f904d4"
      },
      "outputs": [],
      "source": []
    },
    {
      "cell_type": "code",
      "execution_count": null,
      "id": "2df01f64",
      "metadata": {
        "id": "2df01f64"
      },
      "outputs": [],
      "source": []
    },
    {
      "cell_type": "code",
      "execution_count": null,
      "id": "0e6bf00c",
      "metadata": {
        "id": "0e6bf00c"
      },
      "outputs": [],
      "source": []
    },
    {
      "cell_type": "markdown",
      "id": "7c3d826e",
      "metadata": {
        "id": "7c3d826e"
      },
      "source": [
        "Agregar un solo elemento a la lista es una operación tan común que hay un método especial <code>append</code> (función asociada) para ello"
      ]
    },
    {
      "cell_type": "code",
      "execution_count": null,
      "id": "ced19be3",
      "metadata": {
        "id": "ced19be3"
      },
      "outputs": [],
      "source": []
    },
    {
      "cell_type": "markdown",
      "id": "e3579d0b",
      "metadata": {
        "id": "e3579d0b"
      },
      "source": [
        "Puede ocurrir un problema si intenta agregar una lista a otra. La lista se agrega como un elemento único de la lista principal:"
      ]
    },
    {
      "cell_type": "code",
      "execution_count": null,
      "id": "9302ef0a",
      "metadata": {
        "id": "9302ef0a"
      },
      "outputs": [],
      "source": []
    },
    {
      "cell_type": "markdown",
      "id": "bd7ffd4c",
      "metadata": {
        "id": "bd7ffd4c"
      },
      "source": [
        "El método <code>extend</code> es como el método <code>append</code> excepto que le permite agregar una lista a otra:\n"
      ]
    },
    {
      "cell_type": "code",
      "execution_count": null,
      "id": "857300e3",
      "metadata": {
        "id": "857300e3"
      },
      "outputs": [],
      "source": []
    },
    {
      "cell_type": "markdown",
      "id": "c48a6289",
      "metadata": {
        "id": "c48a6289"
      },
      "source": [
        "Hay también un método especial <code>insert</code> para insertar un nuevo elemento de lista entre dos elementos existentes al principio de la lista. <code>insert</code> se utiliza como método de listas y toma dos argumentos adicionales.\n",
        "El primer argumento adicional es la posición del índice en la lista donde debe insertarse el nuevo elemento, y el segundo es el propio elemento nuevo:"
      ]
    },
    {
      "cell_type": "code",
      "execution_count": null,
      "id": "fc4ebbf8",
      "metadata": {
        "id": "fc4ebbf8"
      },
      "outputs": [],
      "source": []
    },
    {
      "cell_type": "code",
      "execution_count": null,
      "id": "0d460c58",
      "metadata": {
        "id": "0d460c58"
      },
      "outputs": [],
      "source": []
    },
    {
      "cell_type": "markdown",
      "id": "d289b3ed",
      "metadata": {
        "id": "d289b3ed"
      },
      "source": [
        "Es más fácil pensar en <code>list.insert(n,element)</code> como <code>insert</code> <code>elem</code> justo antes del *n*-ésimo elemento de la lista.\n",
        "\n",
        "\n",
        "Cualquier cosa que se pueda hacer con <code>insert</code> también se puede hacer con slicing."
      ]
    },
    {
      "cell_type": "markdown",
      "id": "235f24d4",
      "metadata": {
        "id": "235f24d4"
      },
      "source": [
        "La instrucción <code>del</code>  es el método preferido para eliminar elementos de las lista o segmentos. No hace nada que no se pueda hacer con slicing, pero por lo general es más fácil de recordar y de leer:"
      ]
    },
    {
      "cell_type": "code",
      "execution_count": null,
      "id": "2fd119a6",
      "metadata": {
        "id": "2fd119a6"
      },
      "outputs": [],
      "source": []
    },
    {
      "cell_type": "code",
      "execution_count": null,
      "id": "cc35a668",
      "metadata": {
        "id": "cc35a668"
      },
      "outputs": [],
      "source": []
    },
    {
      "cell_type": "markdown",
      "id": "1ffc1025",
      "metadata": {
        "id": "1ffc1025"
      },
      "source": [
        "El método <code>remove</code> no es lo contrario de <code>insert</code>. Mientras <code>insert</code> inserta un elemento en una ubicación específica, <code>remove</code> busca la primera instancia de un valor dado en una lista y elimina ese valor de la lista:"
      ]
    },
    {
      "cell_type": "code",
      "execution_count": null,
      "id": "3cc4792f",
      "metadata": {
        "id": "3cc4792f"
      },
      "outputs": [],
      "source": []
    },
    {
      "cell_type": "code",
      "execution_count": null,
      "id": "c70cecdd",
      "metadata": {
        "id": "c70cecdd"
      },
      "outputs": [],
      "source": []
    },
    {
      "cell_type": "code",
      "execution_count": null,
      "id": "4a3ccbd3",
      "metadata": {
        "id": "4a3ccbd3"
      },
      "outputs": [],
      "source": []
    },
    {
      "cell_type": "markdown",
      "id": "35ec15c7",
      "metadata": {
        "id": "35ec15c7"
      },
      "source": [
        "Si <code>remove</code> no puede encontrar nada para eliminar, genera un error."
      ]
    },
    {
      "cell_type": "markdown",
      "id": "9fb3ae9e",
      "metadata": {
        "id": "9fb3ae9e"
      },
      "source": [
        "El método <code>reverse</code> es un método de modificación de lista más especializado.\n",
        "<code>reverse</code> invierte eficientemente una lista:"
      ]
    },
    {
      "cell_type": "code",
      "execution_count": null,
      "id": "fc759de0",
      "metadata": {
        "id": "fc759de0"
      },
      "outputs": [],
      "source": []
    },
    {
      "cell_type": "markdown",
      "id": "7fc73d95",
      "metadata": {
        "id": "7fc73d95"
      },
      "source": [
        "## Ordenamiento de listas\n",
        "\n",
        "Las listas se pueden ordenar usando el método incorporado <code>sort</code> :"
      ]
    },
    {
      "cell_type": "code",
      "execution_count": null,
      "id": "6b043b07",
      "metadata": {
        "id": "6b043b07"
      },
      "outputs": [],
      "source": []
    },
    {
      "cell_type": "markdown",
      "id": "ea545955",
      "metadata": {
        "id": "ea545955"
      },
      "source": [
        "El ordenamiento también funciona con strings"
      ]
    },
    {
      "cell_type": "code",
      "execution_count": null,
      "id": "cf77442a",
      "metadata": {
        "id": "cf77442a"
      },
      "outputs": [],
      "source": []
    },
    {
      "cell_type": "markdown",
      "id": "94ed4a7f",
      "metadata": {
        "id": "94ed4a7f"
      },
      "source": [
        "El método <code>sort</code>  puede ordenar casi cualquier cosa porque Python puede comparar casi cualquier cosa. Pero hay una advertencia en el ordenamiento: El método de clave predeterminado utilizado por <code>sort</code> requiere que todos los elementos de la lista sean de tipos comparables."
      ]
    },
    {
      "cell_type": "code",
      "execution_count": null,
      "id": "685dd721",
      "metadata": {
        "id": "685dd721"
      },
      "outputs": [],
      "source": []
    },
    {
      "cell_type": "markdown",
      "id": "4e1b029d",
      "metadata": {
        "id": "4e1b029d"
      },
      "source": [
        "## Otras operaciones comunes con listas\n",
        "### Pertenencia a una lista con el operador <code>in</code>\n",
        "\n",
        "Es fácil probar si un valor está en una lista usando el operador <code>in</code>  que devuelve un valor booleano. También puede utilizar el inverso, el operador<code>not in</code> :"
      ]
    },
    {
      "cell_type": "code",
      "execution_count": null,
      "id": "43e584d3",
      "metadata": {
        "id": "43e584d3"
      },
      "outputs": [],
      "source": []
    },
    {
      "cell_type": "code",
      "execution_count": null,
      "id": "aa74f7a6",
      "metadata": {
        "id": "aa74f7a6"
      },
      "outputs": [],
      "source": []
    },
    {
      "cell_type": "code",
      "execution_count": null,
      "id": "b6213d0f",
      "metadata": {
        "id": "b6213d0f"
      },
      "outputs": [],
      "source": []
    },
    {
      "cell_type": "code",
      "execution_count": null,
      "id": "3566c7e8",
      "metadata": {
        "id": "3566c7e8"
      },
      "outputs": [],
      "source": []
    },
    {
      "cell_type": "markdown",
      "id": "ff5e667f",
      "metadata": {
        "id": "ff5e667f"
      },
      "source": [
        "# Concatenación de listas con el operador <code>+</code>\n",
        "\n",
        "Para crear una lista concatenando dos listas existentes, se utiliza el operador <code>+</code> (concatenación de listas), el cual deja las listas a concatenar sin cambios:"
      ]
    },
    {
      "cell_type": "code",
      "execution_count": null,
      "id": "1f806e02",
      "metadata": {
        "id": "1f806e02"
      },
      "outputs": [],
      "source": []
    },
    {
      "cell_type": "markdown",
      "id": "a788602b",
      "metadata": {
        "id": "a788602b"
      },
      "source": [
        "# Inicialización de listas con el operador <code>*</code>\n",
        "\n",
        "S puede usar el operador <code>*</code>  para producir una lista de un tamaño dado, que se inicializa a un valor dado. Esta operación es común para trabajar con listas grandes cuyo tamaño se conoce de antemano."
      ]
    },
    {
      "cell_type": "code",
      "execution_count": null,
      "id": "c2ccc50a",
      "metadata": {
        "id": "c2ccc50a"
      },
      "outputs": [],
      "source": []
    },
    {
      "cell_type": "markdown",
      "id": "80cf5e02",
      "metadata": {
        "id": "80cf5e02"
      },
      "source": [
        "## Elemento de la lista con el valor mínimo o máximo con <code>min</code> y <code>max</code>\n",
        "\n",
        "Se puede usar <code>min</code> y <code>max</code> para encontrar los elementos más pequeños y más grandes en una lista. Por lo general se utiliza <code>min</code> y <code>max</code> principalmente con listas numéricas\n",
        ", pero puedes usarlos con listas que contengan cualquier tipo de elemento.\n"
      ]
    },
    {
      "cell_type": "code",
      "execution_count": null,
      "id": "1cff1f34",
      "metadata": {
        "id": "1cff1f34"
      },
      "outputs": [],
      "source": []
    },
    {
      "cell_type": "code",
      "execution_count": null,
      "id": "c5733f32",
      "metadata": {
        "id": "c5733f32"
      },
      "outputs": [],
      "source": []
    },
    {
      "cell_type": "markdown",
      "id": "ae648d40",
      "metadata": {
        "id": "ae648d40"
      },
      "source": [
        "### Listar coincidencias con <code>count</code>\n",
        "\n",
        "<code>count</code>  también busca a través de una lista, buscando un valor dado, pero devuelve el número de veces que el valor se encuentra en la lista en lugar de información posicional:\n"
      ]
    },
    {
      "cell_type": "code",
      "execution_count": null,
      "id": "ceeda6b2",
      "metadata": {
        "id": "ceeda6b2"
      },
      "outputs": [],
      "source": []
    },
    {
      "cell_type": "code",
      "execution_count": null,
      "id": "ab3b323b",
      "metadata": {
        "id": "ab3b323b"
      },
      "outputs": [],
      "source": []
    },
    {
      "cell_type": "code",
      "execution_count": null,
      "id": "02347507",
      "metadata": {
        "id": "02347507"
      },
      "outputs": [],
      "source": []
    },
    {
      "cell_type": "markdown",
      "id": "62d91294",
      "metadata": {
        "id": "62d91294"
      },
      "source": [
        "## Resumen de operaciones de lista\n",
        "<img src=\"https://github.com/milocortes/diplomado_ciencia_datos_mide/blob/edicion-2024/templates/images/list_operations.png?raw=1\" alt=\"Drawing\" class=\"center\" style=\"width: 800px; \"/>\n"
      ]
    },
    {
      "cell_type": "markdown",
      "id": "b31b28b2",
      "metadata": {
        "id": "b31b28b2"
      },
      "source": [
        "# Tuplas\n",
        "\n",
        "*Tuples* son estructuras de datos que son muy similares a las listas, pero no se pueden modificar; solo se pueden crear. Las tuplas tienen roles importantes que las listas no pueden cumplir de manera eficiente, como ser llaves para los diccionarios.\n",
        "\n",
        "## Conceptos básicos de tuplas\n",
        "\n",
        "Crear una tupla es similar a crear una lista: asignando una secuencia de valores a una variable. Una lista es una secuencia encerrada entre <code>[]</code>;  una tupla es una secuencia encerrada entre<code>()</code>:"
      ]
    },
    {
      "cell_type": "code",
      "execution_count": null,
      "id": "6eee784f",
      "metadata": {
        "id": "6eee784f"
      },
      "outputs": [],
      "source": []
    },
    {
      "cell_type": "markdown",
      "id": "5e8b931d",
      "metadata": {
        "id": "5e8b931d"
      },
      "source": [
        "Después de crear una tupla, usarla es tan parecido a usar una lista que es fácil olvidar que las tuplas y las listas son tipos de datos diferentes:"
      ]
    },
    {
      "cell_type": "code",
      "execution_count": null,
      "id": "b97f4d8e",
      "metadata": {
        "id": "b97f4d8e"
      },
      "outputs": [],
      "source": []
    },
    {
      "cell_type": "code",
      "execution_count": null,
      "id": "d16f2828",
      "metadata": {
        "id": "d16f2828"
      },
      "outputs": [],
      "source": []
    },
    {
      "cell_type": "code",
      "execution_count": null,
      "id": "a0323a00",
      "metadata": {
        "id": "a0323a00"
      },
      "outputs": [],
      "source": []
    },
    {
      "cell_type": "code",
      "execution_count": null,
      "id": "9ac54671",
      "metadata": {
        "id": "9ac54671"
      },
      "outputs": [],
      "source": []
    },
    {
      "cell_type": "code",
      "execution_count": null,
      "id": "5fd0d6fb",
      "metadata": {
        "id": "5fd0d6fb"
      },
      "outputs": [],
      "source": []
    },
    {
      "cell_type": "code",
      "execution_count": null,
      "id": "49f6e892",
      "metadata": {
        "id": "49f6e892"
      },
      "outputs": [],
      "source": []
    },
    {
      "cell_type": "code",
      "execution_count": null,
      "id": "a7a7192b",
      "metadata": {
        "id": "a7a7192b"
      },
      "outputs": [],
      "source": []
    },
    {
      "cell_type": "markdown",
      "id": "69b2f5c4",
      "metadata": {
        "id": "69b2f5c4"
      },
      "source": [
        "La principal diferencia entre tuplas y listas es que las tuplas son inmutables. Un intento de modificar una tupla da como resultado un mensaje de error confuso, que es la forma en que Python dice que no sabe cómo asignar un elemento en una tupla:"
      ]
    },
    {
      "cell_type": "code",
      "execution_count": null,
      "id": "f77b4fe2",
      "metadata": {
        "id": "f77b4fe2"
      },
      "outputs": [],
      "source": []
    },
    {
      "cell_type": "markdown",
      "id": "9a1e25e3",
      "metadata": {
        "id": "9a1e25e3"
      },
      "source": [
        "Puede crear tuplas a partir de las existentes utilizando los operdores <code>+</code> y <code>*</code> :"
      ]
    },
    {
      "cell_type": "code",
      "execution_count": null,
      "id": "e3d0b1eb",
      "metadata": {
        "id": "e3d0b1eb"
      },
      "outputs": [],
      "source": []
    },
    {
      "cell_type": "code",
      "execution_count": null,
      "id": "775da6ed",
      "metadata": {
        "id": "775da6ed"
      },
      "outputs": [],
      "source": []
    },
    {
      "cell_type": "markdown",
      "id": "037d7764",
      "metadata": {
        "id": "037d7764"
      },
      "source": [
        "Se puede hacer una copia de una tupla de cualquiera de las mismas formas que para las listas:"
      ]
    },
    {
      "cell_type": "code",
      "execution_count": null,
      "id": "7680fa50",
      "metadata": {
        "id": "7680fa50"
      },
      "outputs": [],
      "source": []
    },
    {
      "cell_type": "markdown",
      "id": "03f824c1",
      "metadata": {
        "id": "03f824c1"
      },
      "source": [
        "\n",
        "En el caso de tuplas de un elemento, Python requiere que el elemento de la tupla vaya seguido de una coma. En el caso de tuplas de elemento cero (vacías), no hay problema."
      ]
    },
    {
      "cell_type": "code",
      "execution_count": null,
      "id": "69eae307",
      "metadata": {
        "id": "69eae307"
      },
      "outputs": [],
      "source": []
    },
    {
      "cell_type": "code",
      "execution_count": null,
      "id": "8b4a1f6d",
      "metadata": {
        "id": "8b4a1f6d"
      },
      "outputs": [],
      "source": []
    },
    {
      "cell_type": "code",
      "execution_count": null,
      "id": "cbfb27bb",
      "metadata": {
        "id": "cbfb27bb"
      },
      "outputs": [],
      "source": []
    },
    {
      "cell_type": "markdown",
      "id": "bf42451e",
      "metadata": {
        "id": "bf42451e"
      },
      "source": [
        "## Empaquetando y desempaquetando tuplas\n",
        "\n",
        "Python permite que aparezcan tuplas en el lado izquierdo de un operador de asignación, en cuyo caso las variables en la tupla reciben los valores correspondientes de la tupla en el lado derecho del operador de asignación:"
      ]
    },
    {
      "cell_type": "code",
      "execution_count": null,
      "id": "85f932d0",
      "metadata": {
        "id": "85f932d0"
      },
      "outputs": [],
      "source": []
    },
    {
      "cell_type": "code",
      "execution_count": null,
      "id": "60c322c2",
      "metadata": {
        "id": "60c322c2"
      },
      "outputs": [],
      "source": []
    },
    {
      "cell_type": "markdown",
      "id": "a677fab0",
      "metadata": {
        "id": "a677fab0"
      },
      "source": [
        "Este ejemplo se puede escribir de manera aún más simple, porque Python reconoce tuplas en un contexto de asignación incluso sin los paréntesis que las encierran:"
      ]
    },
    {
      "cell_type": "code",
      "execution_count": null,
      "id": "3f6a71a1",
      "metadata": {
        "id": "3f6a71a1"
      },
      "outputs": [],
      "source": []
    },
    {
      "cell_type": "markdown",
      "id": "7627c51c",
      "metadata": {
        "id": "7627c51c"
      },
      "source": [
        "Una línea de código ha reemplazado las siguientes cuatro líneas de código"
      ]
    },
    {
      "cell_type": "code",
      "execution_count": null,
      "id": "68f7741f",
      "metadata": {
        "id": "68f7741f"
      },
      "outputs": [],
      "source": []
    },
    {
      "cell_type": "markdown",
      "id": "a3294252",
      "metadata": {
        "id": "a3294252"
      },
      "source": [
        "\n",
        "El empaquetado y desempaquetado también se puede realizar utilizando delimitadores de lista:"
      ]
    },
    {
      "cell_type": "code",
      "execution_count": null,
      "id": "9b60fc70",
      "metadata": {
        "id": "9b60fc70"
      },
      "outputs": [],
      "source": []
    },
    {
      "cell_type": "code",
      "execution_count": null,
      "id": "dbed1278",
      "metadata": {
        "id": "dbed1278"
      },
      "outputs": [],
      "source": []
    },
    {
      "cell_type": "markdown",
      "id": "366b6d56",
      "metadata": {
        "id": "366b6d56"
      },
      "source": [
        "## Conversión entre listas y tuplas\n",
        "\n",
        "Las tuplas se pueden convertir fácilmente en listas con la función <code>list</code>, que toma cualquier secuencia como argumento y produce una nueva lista con los mismos elementos que la secuencia original.\n",
        "\n",
        "De manera similar, las listas se pueden convertir en tuplas con la función <code>tuple</code> ,\n",
        "que hace lo mismo pero produce una nueva tupla en lugar de una nueva lista:"
      ]
    },
    {
      "cell_type": "code",
      "execution_count": 5,
      "id": "0d01b7b0",
      "metadata": {
        "colab": {
          "base_uri": "https://localhost:8080/"
        },
        "id": "0d01b7b0",
        "outputId": "12df6969-c304-4018-919e-7f7fd9136e19"
      },
      "outputs": [
        {
          "data": {
            "text/plain": [
              "tuple"
            ]
          },
          "execution_count": 5,
          "metadata": {},
          "output_type": "execute_result"
        }
      ],
      "source": [
        "la_tupla = 1,2,3,4\n",
        "type(la_tupla)"
      ]
    },
    {
      "cell_type": "code",
      "execution_count": 11,
      "id": "e59d201e",
      "metadata": {
        "colab": {
          "base_uri": "https://localhost:8080/"
        },
        "id": "e59d201e",
        "outputId": "3566cbcf-7980-40f5-d8c8-1b9592eaee4e"
      },
      "outputs": [
        {
          "data": {
            "text/plain": [
              "[1, 2, 3, 4]"
            ]
          },
          "execution_count": 11,
          "metadata": {},
          "output_type": "execute_result"
        }
      ],
      "source": [
        "la_lista = list(la_tupla)\n",
        "la_lista"
      ]
    },
    {
      "cell_type": "code",
      "execution_count": 12,
      "id": "mk6YgmymY9BI",
      "metadata": {
        "colab": {
          "base_uri": "https://localhost:8080/"
        },
        "id": "mk6YgmymY9BI",
        "outputId": "b8e77972-1c75-44a9-f9d2-7a5fd34d72af"
      },
      "outputs": [
        {
          "data": {
            "text/plain": [
              "(1, 2, 3, 4)"
            ]
          },
          "execution_count": 12,
          "metadata": {},
          "output_type": "execute_result"
        }
      ],
      "source": [
        "tuple(la_lista)"
      ]
    },
    {
      "cell_type": "code",
      "execution_count": 9,
      "id": "8dPVyxUZYlr2",
      "metadata": {
        "colab": {
          "base_uri": "https://localhost:8080/"
        },
        "id": "8dPVyxUZYlr2",
        "outputId": "83b4f044-3a6e-429a-bed7-41210745aa87"
      },
      "outputs": [
        {
          "data": {
            "text/plain": [
              "[1, 2, 3, 4]"
            ]
          },
          "execution_count": 9,
          "metadata": {},
          "output_type": "execute_result"
        }
      ],
      "source": [
        "[elemento for elemento in la_tupla]"
      ]
    },
    {
      "cell_type": "markdown",
      "id": "c0883781",
      "metadata": {
        "id": "c0883781"
      },
      "source": [
        "# Conjuntos (Sets)\n",
        "\n",
        "Un *conjunto* en Python es una colección desordenada de objetos utilizados cuando la pertenencia y la unicidad en el conjunto son las cosas principales que necesita saber sobre ese objeto.\n",
        "\n",
        "Como las llaves de un diccionario, los elementos de un conjunto deben ser inmutables y hasheables.\n",
        "\n",
        "Esto significa que los números enteros, flotantes, strings y tuplas pueden ser miembros de un conjunto, pero las listas, los diccionarios y los conjuntos en sí mismos, no."
      ]
    },
    {
      "cell_type": "markdown",
      "id": "0fd0f951",
      "metadata": {
        "id": "0fd0f951"
      },
      "source": [
        "## Operaciones con conjuntos\n",
        "\n",
        "Además de las operaciones que aplican a las colecciones en general, tales como <code>in</code>, <code>len</code>, e iteración con <code>for</code> loops, los conjuntos tienen varias operaciones específicas del conjunto:"
      ]
    },
    {
      "cell_type": "code",
      "execution_count": 22,
      "id": "0bc676ff",
      "metadata": {
        "id": "0bc676ff"
      },
      "outputs": [],
      "source": [
        "el_conjunto = {1,23, 1.2, True, \"ervfvf\"}\n"
      ]
    },
    {
      "cell_type": "code",
      "execution_count": 27,
      "id": "b5c1ee10",
      "metadata": {
        "colab": {
          "base_uri": "https://localhost:8080/"
        },
        "id": "b5c1ee10",
        "outputId": "a67b945c-57ba-475b-fab4-14abc9039aec"
      },
      "outputs": [
        {
          "data": {
            "text/plain": [
              "{1, 2, 3, 4, 5, 6, 7, 8}"
            ]
          },
          "execution_count": 27,
          "metadata": {},
          "output_type": "execute_result"
        }
      ],
      "source": [
        "x = set([1,2,3,4,5,5,5,6,6,7,8])\n",
        "x"
      ]
    },
    {
      "cell_type": "code",
      "execution_count": null,
      "id": "cacf49b9",
      "metadata": {
        "id": "cacf49b9"
      },
      "outputs": [],
      "source": []
    },
    {
      "cell_type": "code",
      "execution_count": null,
      "id": "9f452ce1",
      "metadata": {
        "id": "9f452ce1"
      },
      "outputs": [],
      "source": []
    },
    {
      "cell_type": "code",
      "execution_count": null,
      "id": "04518e34",
      "metadata": {
        "id": "04518e34"
      },
      "outputs": [],
      "source": []
    },
    {
      "cell_type": "code",
      "execution_count": null,
      "id": "6f64c78e",
      "metadata": {
        "id": "6f64c78e"
      },
      "outputs": [],
      "source": []
    },
    {
      "cell_type": "code",
      "execution_count": null,
      "id": "7832a5e4",
      "metadata": {
        "id": "7832a5e4"
      },
      "outputs": [],
      "source": []
    },
    {
      "cell_type": "code",
      "execution_count": null,
      "id": "b5111fd9",
      "metadata": {
        "id": "b5111fd9"
      },
      "outputs": [],
      "source": []
    },
    {
      "cell_type": "code",
      "execution_count": null,
      "id": "0c8eeff8",
      "metadata": {
        "id": "0c8eeff8"
      },
      "outputs": [],
      "source": []
    }
  ],
  "metadata": {
    "celltoolbar": "Slideshow",
    "colab": {
      "provenance": []
    },
    "kernelspec": {
      "display_name": "Python 3 (ipykernel)",
      "language": "python",
      "name": "python3"
    },
    "language_info": {
      "codemirror_mode": {
        "name": "ipython",
        "version": 3
      },
      "file_extension": ".py",
      "mimetype": "text/x-python",
      "name": "python",
      "nbconvert_exporter": "python",
      "pygments_lexer": "ipython3",
      "version": "3.8.16"
    }
  },
  "nbformat": 4,
  "nbformat_minor": 5
}
