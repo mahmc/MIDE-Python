{
  "cells": [
    {
      "cell_type": "markdown",
      "id": "15c7788a",
      "metadata": {
        "id": "15c7788a"
      },
      "source": [
        "# Compresión de listas y diccionarios\n",
        "<a href=\"https://colab.research.google.com/github/milocortes/diplomado_ciencia_datos_mide/blob/edicion-2024/talleres/list_dictionary_comprehensions_mide_2024.ipynb\" target=\"_parent\"><img src=\"https://colab.research.google.com/assets/colab-badge.svg\" alt=\"Open In Colab\"/></a>\n",
        "![list_comprehensions-2.jpg](attachment:list_comprehensions-2.jpg)\n",
        "source : https://coderpad.io/blog/development/python-list-comprehension-guide/\n"
      ]
    },
    {
      "cell_type": "markdown",
      "id": "7d24f6dd",
      "metadata": {
        "id": "7d24f6dd"
      },
      "source": [
        "## Compresión de listas y diccionarios\n",
        "\n",
        "El patrón de usar un <code>for</code> loop para iterar a través de una lista, modificar o seleccionar elementos individuales y crear una nueva lista es muy común. Dichos loops a menudo se parecen mucho a lo siguiente:"
      ]
    },
    {
      "cell_type": "code",
      "execution_count": 4,
      "id": "d6eaea6d",
      "metadata": {
        "colab": {
          "base_uri": "https://localhost:8080/"
        },
        "id": "d6eaea6d",
        "outputId": "3790289d-47bc-49c3-aeb8-f24cafa7f44c"
      },
      "outputs": [
        {
          "data": {
            "text/plain": [
              "[1, 4, 9, 16]"
            ]
          },
          "execution_count": 4,
          "metadata": {},
          "output_type": "execute_result"
        }
      ],
      "source": [
        "x = [1,2,3,4]\n",
        "x_cuadro = []\n",
        "\n",
        "for i in x:\n",
        "  x_cuadro.append(\n",
        "      i**2\n",
        "  )\n",
        "x_cuadro"
      ]
    },
    {
      "cell_type": "code",
      "execution_count": 17,
      "id": "wFIX7dXizo9a",
      "metadata": {
        "colab": {
          "base_uri": "https://localhost:8080/"
        },
        "id": "wFIX7dXizo9a",
        "outputId": "f6a57eda-2bba-44ab-9101-b4a51f7eb77f"
      },
      "outputs": [
        {
          "data": {
            "text/plain": [
              "[9, 16]"
            ]
          },
          "execution_count": 17,
          "metadata": {},
          "output_type": "execute_result"
        }
      ],
      "source": [
        "[i**2 for i in x  if i > 2]"
      ]
    },
    {
      "cell_type": "code",
      "execution_count": 14,
      "id": "N7_A8MePzOEQ",
      "metadata": {
        "colab": {
          "base_uri": "https://localhost:8080/"
        },
        "id": "N7_A8MePzOEQ",
        "outputId": "1682d93f-0f09-4c05-fbb1-7c98cad2c207"
      },
      "outputs": [
        {
          "data": {
            "text/plain": [
              "{'6467878': 'Master', '6467902': 'Master'}"
            ]
          },
          "execution_count": 14,
          "metadata": {},
          "output_type": "execute_result"
        }
      ],
      "source": [
        "el_dict = {\n",
        "    \"6467878\" : \"Master\",\n",
        "    \"8787122\" : \"Visa\",\n",
        "    \"6467902\" : \"Master\",\n",
        "    \"8787298\" : \"Visa\"\n",
        "}\n",
        "\n",
        "#{k:v for k,v in el_dict.items() if k.startswith(\"6467\")}\n",
        "{k:v for k,v in el_dict.items() if v == \"Master\"}"
      ]
    },
    {
      "cell_type": "code",
      "execution_count": 15,
      "id": "n3x0p9l002FQ",
      "metadata": {
        "colab": {
          "base_uri": "https://localhost:8080/"
        },
        "id": "n3x0p9l002FQ",
        "outputId": "2138f887-b062-462d-db6e-6ea663e2ee1a"
      },
      "outputs": [
        {
          "data": {
            "text/plain": [
              "['6467878', '6467902']"
            ]
          },
          "execution_count": 15,
          "metadata": {},
          "output_type": "execute_result"
        }
      ],
      "source": [
        "[k for k,v in el_dict.items() if v == \"Master\"]"
      ]
    },
    {
      "cell_type": "code",
      "execution_count": 19,
      "id": "ybFtqKgH1QK6",
      "metadata": {
        "colab": {
          "base_uri": "https://localhost:8080/"
        },
        "id": "ybFtqKgH1QK6",
        "outputId": "8e81ff32-f4ba-4b0a-f862-fe3996b960b6"
      },
      "outputs": [
        {
          "data": {
            "text/plain": [
              "[(0, 10),\n",
              " (0, 11),\n",
              " (0, 12),\n",
              " (0, 13),\n",
              " (0, 14),\n",
              " (1, 10),\n",
              " (1, 11),\n",
              " (1, 12),\n",
              " (1, 13),\n",
              " (1, 14),\n",
              " (2, 10),\n",
              " (2, 11),\n",
              " (2, 12),\n",
              " (2, 13),\n",
              " (2, 14),\n",
              " (3, 10),\n",
              " (3, 11),\n",
              " (3, 12),\n",
              " (3, 13),\n",
              " (3, 14),\n",
              " (4, 10),\n",
              " (4, 11),\n",
              " (4, 12),\n",
              " (4, 13),\n",
              " (4, 14)]"
            ]
          },
          "execution_count": 19,
          "metadata": {},
          "output_type": "execute_result"
        }
      ],
      "source": [
        "[(i,j)  for i in range(5) for j in range(10,15)]"
      ]
    },
    {
      "cell_type": "code",
      "execution_count": 20,
      "id": "jKrs3Xrt1hkN",
      "metadata": {
        "colab": {
          "base_uri": "https://localhost:8080/"
        },
        "id": "jKrs3Xrt1hkN",
        "outputId": "d6a41fae-32d3-4910-b1b1-5ec147019744"
      },
      "outputs": [
        {
          "data": {
            "text/plain": [
              "[0, 1, 2, 3, 4]"
            ]
          },
          "execution_count": 20,
          "metadata": {},
          "output_type": "execute_result"
        }
      ],
      "source": [
        "[i for i in range(5)]"
      ]
    },
    {
      "cell_type": "code",
      "execution_count": 21,
      "id": "s9HM_F4Z1lMZ",
      "metadata": {
        "colab": {
          "base_uri": "https://localhost:8080/"
        },
        "id": "s9HM_F4Z1lMZ",
        "outputId": "5a3373c5-9fae-4934-9d18-10b8bf2901ea"
      },
      "outputs": [
        {
          "data": {
            "text/plain": [
              "{0: 0, 1: 1, 2: 4, 3: 9, 4: 16}"
            ]
          },
          "execution_count": 21,
          "metadata": {},
          "output_type": "execute_result"
        }
      ],
      "source": [
        "{i:i**2 for i in range(5)}"
      ]
    },
    {
      "cell_type": "code",
      "execution_count": 24,
      "id": "Iv4RKxxj1oo8",
      "metadata": {
        "colab": {
          "base_uri": "https://localhost:8080/"
        },
        "id": "Iv4RKxxj1oo8",
        "outputId": "edcbb639-5198-401d-ff1f-9c6ae5a5c5da"
      },
      "outputs": [
        {
          "name": "stdout",
          "output_type": "stream",
          "text": [
            "0\n",
            "1\n",
            "8\n",
            "27\n",
            "64\n"
          ]
        }
      ],
      "source": [
        "cubico = (i**3 for i in range(5))\n",
        "\n",
        "for i in cubico:\n",
        "  print(i)"
      ]
    },
    {
      "cell_type": "markdown",
      "id": "e1e9b133",
      "metadata": {
        "id": "e1e9b133"
      },
      "source": [
        "Este tipo de situación es tan común que Python que ofrece una forma especial para este tipo de operaciones que es denominada llama *comprensión*.\n",
        "\n",
        "Pensemos la compresión de listas o diccionarios como un  <code>for</code> loop de una línea que crea una nueva lista o diccionario a partir de una secuencia.\n",
        "\n",
        "El patrón de comprensión de una lista es el siguiente:"
      ]
    },
    {
      "cell_type": "code",
      "execution_count": null,
      "id": "dfae839f",
      "metadata": {
        "id": "dfae839f"
      },
      "outputs": [],
      "source": []
    },
    {
      "cell_type": "markdown",
      "id": "0d80c92a",
      "metadata": {
        "id": "0d80c92a"
      },
      "source": [
        "y una comprensión de diccionario se ve así:"
      ]
    },
    {
      "cell_type": "code",
      "execution_count": null,
      "id": "7f53ef49",
      "metadata": {
        "id": "7f53ef49"
      },
      "outputs": [],
      "source": []
    },
    {
      "cell_type": "markdown",
      "id": "4a8a1e19",
      "metadata": {
        "id": "4a8a1e19"
      },
      "source": [
        "El siguiente código hace exactamente lo mismo que el código anterior pero con una comprensión de lista:"
      ]
    },
    {
      "cell_type": "code",
      "execution_count": null,
      "id": "24cee948",
      "metadata": {
        "id": "24cee948"
      },
      "outputs": [],
      "source": []
    },
    {
      "cell_type": "markdown",
      "id": "af7b209f",
      "metadata": {
        "id": "af7b209f"
      },
      "source": [
        "Incluso se puede usar declaraciones <code>if</code> para seleccionar elementos de la lista:"
      ]
    },
    {
      "cell_type": "code",
      "execution_count": null,
      "id": "842f18de",
      "metadata": {
        "id": "842f18de"
      },
      "outputs": [],
      "source": []
    },
    {
      "cell_type": "markdown",
      "id": "924418ad",
      "metadata": {
        "id": "924418ad"
      },
      "source": [
        "Las comprensiones de diccionarios son similares, pero se debe proporcionar una llave y un valor.\n",
        "\n",
        "Si se desea hacer algo similar al ejemplo anterior pero que el número sea la llave y el cuadrado del número sea el valor en un diccionario, se puede usar una comprensión de diccionario, de la siguiente forma:"
      ]
    },
    {
      "cell_type": "code",
      "execution_count": null,
      "id": "95f8af1c",
      "metadata": {
        "id": "95f8af1c"
      },
      "outputs": [],
      "source": []
    },
    {
      "cell_type": "markdown",
      "id": "e15761e4",
      "metadata": {
        "id": "e15761e4"
      },
      "source": [
        "## Multiples declaraciones <code>for</code>\n",
        "\n",
        "Puede usar varias declaraciones <code>for</code> juntas y usar la declaración <code>if</code> para filtrar elementos."
      ]
    },
    {
      "cell_type": "code",
      "execution_count": null,
      "id": "5cd2372e",
      "metadata": {
        "id": "5cd2372e"
      },
      "outputs": [],
      "source": []
    },
    {
      "cell_type": "markdown",
      "id": "c4b28c48",
      "metadata": {
        "id": "c4b28c48"
      },
      "source": [
        "# Expresiones generadoras\n",
        "\n",
        "Las expresiones generadoras son similares a la comprensión de listas. Una expresión generadora se parece mucho a una comprensión de lista, excepto que en lugar de corchetes, usa paréntesis.\n",
        "\n",
        "El siguiente ejemplo es la versión en expresión generadora de la compresión de lista ya vista:"
      ]
    },
    {
      "cell_type": "code",
      "execution_count": null,
      "id": "133601a6",
      "metadata": {
        "id": "133601a6"
      },
      "outputs": [],
      "source": []
    },
    {
      "cell_type": "code",
      "execution_count": null,
      "id": "22df8457",
      "metadata": {
        "id": "22df8457"
      },
      "outputs": [],
      "source": []
    },
    {
      "cell_type": "markdown",
      "id": "b6a2ba5f",
      "metadata": {
        "id": "b6a2ba5f"
      },
      "source": [
        "Aparte del cambio de los corchetes, la expresión no devuelve una lista.\n",
        "\n",
        "En su lugar, devuelve un objeto generador que podría usarse como iterador en un  <code>for</code> loop, que es muy similar a lo que hace la función <code>range()</code>.\n",
        "\n",
        "La ventaja de usar una expresión generadora es que la lista completa no se genera en la memoria, por lo que se pueden generar secuencias arbitrariamente grandes con poca sobrecarga de memoria."
      ]
    },
    {
      "cell_type": "markdown",
      "id": "1a079e28",
      "metadata": {
        "id": "1a079e28"
      },
      "source": [
        "# Programación Funcional\n",
        "\n",
        "La programación funcional es un paradigma de programación que enfatiza la escritura de funciones que realizan cálculos sin modificar variables globales o cualquier estado externo (como archivos en el disco duro, conexiones a Internet o bases de datos).\n",
        "\n",
        "Algunos lenguajes de programación, como Erlang, Lisp y Haskell, están fuertemente diseñados en torno a conceptos de programación funcional.\n",
        "\n",
        "Python tiene algunas características de programación funcional como:\n",
        "\n",
        "* side-effect-free functions\n",
        "* higher-order functions\n",
        "* lambda functions\n"
      ]
    },
    {
      "cell_type": "markdown",
      "id": "52d4e591",
      "metadata": {
        "id": "52d4e591"
      },
      "source": [
        "## Side effect\n",
        "\n",
        "*Side effect*s son los cambios que hace una función a las partes del programa que existen fuera de su alcance."
      ]
    },
    {
      "cell_type": "code",
      "execution_count": 26,
      "id": "628aba4a",
      "metadata": {
        "id": "628aba4a"
      },
      "outputs": [],
      "source": [
        "def resta(a,b):\n",
        "  return a - b"
      ]
    },
    {
      "cell_type": "markdown",
      "id": "d15a9726",
      "metadata": {
        "id": "d15a9726"
      },
      "source": [
        "\n",
        "Esta función <code>subtract()</code> no tiene side effects. Es decir, no afecta nada en el programa que no sea parte de su código.\n",
        "\n",
        "Una función puede modificar variables locales dentro de la función, pero estos cambios permanecen aislados del resto del programa."
      ]
    },
    {
      "cell_type": "markdown",
      "id": "53d5e4a1",
      "metadata": {
        "id": "53d5e4a1"
      },
      "source": [
        "## Higher-Order Functions\n",
        "\n",
        "Las *Higher-order function*s puede aceptar otras funciones como argumentos o devolver funciones como valores de retorno.\n",
        "\n",
        "Las funciones <code>map()</code> y <code>filter()</code> son  higher-order functions comunes que transforman y filtran listas, a menudo con la ayuda de funciones lambda."
      ]
    },
    {
      "cell_type": "code",
      "execution_count": 29,
      "id": "zoqP3An32zwJ",
      "metadata": {
        "colab": {
          "base_uri": "https://localhost:8080/"
        },
        "id": "zoqP3An32zwJ",
        "outputId": "9b61237c-5132-4d81-e85b-b71cf42ae6cc"
      },
      "outputs": [
        {
          "data": {
            "text/plain": [
              "[1, 4, 9, 16, 25]"
            ]
          },
          "execution_count": 29,
          "metadata": {},
          "output_type": "execute_result"
        }
      ],
      "source": [
        "def cuadrado(valor):\n",
        "  return valor**2\n",
        "\n",
        "x = [1,2,3,4,5]\n",
        "\n",
        "list(map(cuadrado, x))"
      ]
    },
    {
      "cell_type": "code",
      "execution_count": 37,
      "id": "gk6HM3oH4Ouy",
      "metadata": {
        "colab": {
          "base_uri": "https://localhost:8080/"
        },
        "id": "gk6HM3oH4Ouy",
        "outputId": "224007b8-53e1-4000-9686-8c9c340f3e8b"
      },
      "outputs": [
        {
          "data": {
            "text/plain": [
              "[1, 4, 9, 16, 25]"
            ]
          },
          "execution_count": 37,
          "metadata": {},
          "output_type": "execute_result"
        }
      ],
      "source": [
        "list(map(lambda i : i**2, x))"
      ]
    },
    {
      "cell_type": "code",
      "execution_count": 40,
      "id": "WlMA5kal4lYH",
      "metadata": {
        "colab": {
          "base_uri": "https://localhost:8080/"
        },
        "id": "WlMA5kal4lYH",
        "outputId": "c70294df-d0e8-4e90-8a9f-2a47f4c2c4e3"
      },
      "outputs": [
        {
          "data": {
            "text/plain": [
              "[1156, 2025, 6241]"
            ]
          },
          "execution_count": 40,
          "metadata": {},
          "output_type": "execute_result"
        }
      ],
      "source": [
        "datos = [34,1,3,7,9,45,79]\n",
        "list(map(lambda z : z**2, filter(lambda i : i > 10, datos)))"
      ]
    },
    {
      "cell_type": "code",
      "execution_count": 41,
      "id": "SzKLeZW548C-",
      "metadata": {
        "colab": {
          "base_uri": "https://localhost:8080/"
        },
        "id": "SzKLeZW548C-",
        "outputId": "6b0674f6-287d-417b-e329-a9f86a717bb8"
      },
      "outputs": [
        {
          "data": {
            "text/plain": [
              "[1156, 2025, 6241]"
            ]
          },
          "execution_count": 41,
          "metadata": {},
          "output_type": "execute_result"
        }
      ],
      "source": [
        "[i**2 for i in datos if i > 10]"
      ]
    },
    {
      "cell_type": "code",
      "execution_count": 30,
      "id": "GpjIAvZ63OiE",
      "metadata": {
        "colab": {
          "base_uri": "https://localhost:8080/"
        },
        "id": "GpjIAvZ63OiE",
        "outputId": "9ef9d309-55ac-4932-8c77-04a000376716"
      },
      "outputs": [
        {
          "data": {
            "text/plain": [
              "[1, 4, 9, 16, 25]"
            ]
          },
          "execution_count": 30,
          "metadata": {},
          "output_type": "execute_result"
        }
      ],
      "source": [
        "[i**2 for i in x]"
      ]
    },
    {
      "cell_type": "code",
      "execution_count": null,
      "id": "CfMl2j114JD8",
      "metadata": {
        "id": "CfMl2j114JD8"
      },
      "outputs": [],
      "source": [
        "filter()"
      ]
    },
    {
      "cell_type": "code",
      "execution_count": null,
      "id": "7AqGj1p64JTN",
      "metadata": {
        "id": "7AqGj1p64JTN"
      },
      "outputs": [],
      "source": []
    },
    {
      "cell_type": "code",
      "execution_count": 34,
      "id": "CJ09Pujl3Ylz",
      "metadata": {
        "colab": {
          "base_uri": "https://localhost:8080/"
        },
        "id": "CJ09Pujl3Ylz",
        "outputId": "4fd77b89-4a59-41c9-df6c-c8ce1ff8a03c"
      },
      "outputs": [
        {
          "data": {
            "text/plain": [
              "['Tabasco', 'Tampico']"
            ]
          },
          "execution_count": 34,
          "metadata": {},
          "output_type": "execute_result"
        }
      ],
      "source": [
        "def evalua(valor):\n",
        "  return valor.startswith(\"T\")\n",
        "\n",
        "ciudades =  [\"Tabasco\", \"Ciudad de México\", \"Monterrey\", \"Tampico\"]\n",
        "\n",
        "list(filter(evalua,ciudades))"
      ]
    },
    {
      "cell_type": "code",
      "execution_count": 35,
      "id": "FlSdGtBY3xk6",
      "metadata": {
        "colab": {
          "base_uri": "https://localhost:8080/"
        },
        "id": "FlSdGtBY3xk6",
        "outputId": "689c3ddf-da7d-4633-dedc-782df8097e64"
      },
      "outputs": [
        {
          "data": {
            "text/plain": [
              "['Tabasco', 'Tampico']"
            ]
          },
          "execution_count": 35,
          "metadata": {},
          "output_type": "execute_result"
        }
      ],
      "source": [
        "[i for i in ciudades if i.startswith(\"T\")]"
      ]
    },
    {
      "cell_type": "markdown",
      "id": "8812da2e",
      "metadata": {
        "id": "8812da2e"
      },
      "source": [
        "### Aplicar funciones a elementos con <code>map()</code>\n",
        "\n",
        "La función <code>map()</code> toma la forma <code>map(function,iterable)</code> y aplica <code>function</code> a cada elemento en el <code>iterable</code > para devolver una lista en Python 2 o un objeto iterable <code>map</code> en Python 3:"
      ]
    },
    {
      "cell_type": "code",
      "execution_count": null,
      "id": "dc067319",
      "metadata": {
        "id": "dc067319"
      },
      "outputs": [],
      "source": []
    },
    {
      "cell_type": "code",
      "execution_count": null,
      "id": "9ffa0a26",
      "metadata": {
        "id": "9ffa0a26"
      },
      "outputs": [],
      "source": []
    },
    {
      "cell_type": "markdown",
      "id": "db41f15f",
      "metadata": {
        "id": "db41f15f"
      },
      "source": [
        "Podrías escribir un equivalente de <code>map()</code> usando la comprensión de listas, así:"
      ]
    },
    {
      "cell_type": "code",
      "execution_count": null,
      "id": "a7a31f1c",
      "metadata": {
        "id": "a7a31f1c"
      },
      "outputs": [],
      "source": []
    },
    {
      "cell_type": "code",
      "execution_count": null,
      "id": "ea8e3a53",
      "metadata": {
        "id": "ea8e3a53"
      },
      "outputs": [],
      "source": []
    },
    {
      "cell_type": "markdown",
      "id": "3e8510a4",
      "metadata": {
        "id": "3e8510a4"
      },
      "source": [
        "### Lista de filtrado con <code>filter()</code>\n",
        "\n",
        "La función <code>filter()</code> toma la forma <code>filter(function, iterable)</code> y filtra los elementos en <code>iterable</code> según el resultado devuelto por <code> function</code>. Devuelve una lista en Python 2 o un objeto iterable <code>filter</code> en Python 3:"
      ]
    },
    {
      "cell_type": "code",
      "execution_count": null,
      "id": "db70a0c4",
      "metadata": {
        "id": "db70a0c4"
      },
      "outputs": [],
      "source": []
    },
    {
      "cell_type": "code",
      "execution_count": null,
      "id": "5dc99298",
      "metadata": {
        "id": "5dc99298"
      },
      "outputs": [],
      "source": []
    },
    {
      "cell_type": "markdown",
      "id": "8f531f95",
      "metadata": {
        "id": "8f531f95"
      },
      "source": [
        "Usando la comprensión de listas obtenemos un equivalente de <code>filter()</code>:"
      ]
    },
    {
      "cell_type": "code",
      "execution_count": null,
      "id": "2accd94d",
      "metadata": {
        "id": "2accd94d"
      },
      "outputs": [],
      "source": []
    },
    {
      "cell_type": "code",
      "execution_count": null,
      "id": "98fd1db0",
      "metadata": {
        "id": "98fd1db0"
      },
      "outputs": [],
      "source": []
    },
    {
      "cell_type": "markdown",
      "id": "2f956d2d",
      "metadata": {
        "id": "2f956d2d"
      },
      "source": [
        "### Encontrar elementos que satisfagan condiciones con <code>any()</code> y <code>all()</code>\n",
        "\n",
        "Las funciones <code>any(iterable)</code> y <code>all(iterable)</code> devuelven un booleano dependiendo de los valores devueltos por <code>iterable</code>. Estas funciones son equivalentes a las siguientes implementaciones:"
      ]
    },
    {
      "cell_type": "code",
      "execution_count": null,
      "id": "511a2f9f",
      "metadata": {
        "id": "511a2f9f"
      },
      "outputs": [],
      "source": []
    },
    {
      "cell_type": "markdown",
      "id": "bb4b646e",
      "metadata": {
        "id": "bb4b646e"
      },
      "source": [
        "Estas funciones son útiles para verificar si alguno o todos los valores en un iterable satisfacen una condición dada."
      ]
    },
    {
      "cell_type": "markdown",
      "id": "526c8624",
      "metadata": {
        "id": "526c8624"
      },
      "source": [
        "Por ejemplo, lo siguiente verifica una lista para dos condiciones:"
      ]
    },
    {
      "cell_type": "code",
      "execution_count": null,
      "id": "6f5c1bf6",
      "metadata": {
        "id": "6f5c1bf6"
      },
      "outputs": [],
      "source": []
    },
    {
      "cell_type": "code",
      "execution_count": null,
      "id": "c9285d58",
      "metadata": {
        "id": "c9285d58"
      },
      "outputs": [],
      "source": []
    },
    {
      "cell_type": "markdown",
      "id": "4000abc9",
      "metadata": {
        "id": "4000abc9"
      },
      "source": [
        "La diferencia es que <code>any()</code> devuelve <code>True</code> cuando al menos un elemento cumple la condición, mientras que <code>all()</code> devuelve <code>True</code> solo si todos los elementos cumplen la condición. La función <code>all()</code> también devolverá <code>True</code> para un iterable vacío, ya que ninguno de los elementos es <code>False</code>."
      ]
    },
    {
      "cell_type": "markdown",
      "id": "6c78837e",
      "metadata": {
        "id": "6c78837e"
      },
      "source": [
        "# Python Tricks"
      ]
    },
    {
      "cell_type": "markdown",
      "id": "d0e699c6",
      "metadata": {
        "id": "d0e699c6"
      },
      "source": [
        "## Usar la comprensión de listas para encontrar quienes más ganan\n",
        "\n",
        "\n",
        "Supongamos que trabajas en el departamento de recursos humanos de una gran empresa y necesitas encontrar a todos los miembros del personal que ganen al menos $100,000 por año.\n",
        "\n",
        "El resultado deseado es una lista de tuplas, cada una de las cuales consta de dos valores: el nombre del empleado y el salario anual del empleado.\n"
      ]
    },
    {
      "cell_type": "code",
      "execution_count": 45,
      "id": "7557ce9b",
      "metadata": {
        "colab": {
          "base_uri": "https://localhost:8080/"
        },
        "id": "7557ce9b",
        "outputId": "b7da370e-5dd6-436e-d01c-90cf264a2642"
      },
      "outputs": [
        {
          "data": {
            "text/plain": [
              "[('Alice', 100000), ('Carol', 122908)]"
            ]
          },
          "execution_count": 45,
          "metadata": {},
          "output_type": "execute_result"
        }
      ],
      "source": [
        "employees = {\"Alice\" : 100000,\n",
        "             \"Bob\": 99817,\n",
        "             \"Carol\": 122908,\n",
        "             \"Frank\": 88123,\n",
        "             \"Eve\": 93121}\n",
        "\n",
        "[(empleado, salario) for empleado,salario in employees.items() if salario >= 100_000]"
      ]
    },
    {
      "cell_type": "markdown",
      "id": "32c3c97f",
      "metadata": {
        "id": "32c3c97f"
      },
      "source": [
        "Solución propuesta:"
      ]
    },
    {
      "cell_type": "code",
      "execution_count": null,
      "id": "8f81eadf",
      "metadata": {
        "id": "8f81eadf"
      },
      "outputs": [],
      "source": []
    },
    {
      "cell_type": "markdown",
      "id": "88afb992",
      "metadata": {
        "id": "88afb992"
      },
      "source": [
        "## Expresiones generadoras para encontrar empresas que pagan por debajo del salario mínimo\n",
        "\n",
        "\n",
        "Supon que trabajas en el Departamento de Trabajo de EE. UU. y tu trabajo consiste en encontrar empresas que pagan por debajo del salario mínimo para que puedan iniciar una investigación adicional.\n",
        "\n",
        "Tus datos son un diccionario de diccionarios que almacenan los salarios por hora de los empleados de la empresa. Se desea extraer una lista de empresas que pagan por debajo del salario mínimo de su estado (<$9) para al menos un empleado:"
      ]
    },
    {
      "cell_type": "code",
      "execution_count": 48,
      "id": "e944b600",
      "metadata": {
        "colab": {
          "base_uri": "https://localhost:8080/"
        },
        "id": "e944b600",
        "outputId": "ec116e63-f000-4793-9b9d-0530e8bab363"
      },
      "outputs": [
        {
          "data": {
            "text/plain": [
              "['CheapCompany', 'SosoCompany']"
            ]
          },
          "execution_count": 48,
          "metadata": {},
          "output_type": "execute_result"
        }
      ],
      "source": [
        "## Data\n",
        "\n",
        "companies = {\n",
        "                \"CoolCompany\" : {\"Alice\" : 33, \"Bob\" : 28, \"Frank\" : 29},\n",
        "                \"CheapCompany\": {\"Ann\" : 4, \"Lee\" : 9, \"Chrisi\" : 7},\n",
        "                \"SosoCompany\" : {\"Esther\" : 38, \"Cole\" : 8, \"Paris\" : 18}\n",
        "            }\n",
        "\n",
        "[empresa for empresa in companies if any(salario <9 for salario in companies[empresa].values() ) ]"
      ]
    },
    {
      "cell_type": "code",
      "execution_count": 60,
      "id": "3xKmUXpp8L79",
      "metadata": {
        "colab": {
          "base_uri": "https://localhost:8080/"
        },
        "id": "3xKmUXpp8L79",
        "outputId": "7a5ff1b1-4064-4f33-8add-2bed3faa9ffd"
      },
      "outputs": [
        {
          "data": {
            "text/plain": [
              "False"
            ]
          },
          "execution_count": 60,
          "metadata": {},
          "output_type": "execute_result"
        }
      ],
      "source": [
        "any( salario < 9 for salario in companies[\"CoolCompany\"].values())"
      ]
    },
    {
      "cell_type": "code",
      "execution_count": 53,
      "id": "Qlv-l_2E7Qb4",
      "metadata": {
        "colab": {
          "base_uri": "https://localhost:8080/"
        },
        "id": "Qlv-l_2E7Qb4",
        "outputId": "b2563769-16d2-4350-a0e5-d44b33dfb420"
      },
      "outputs": [
        {
          "data": {
            "text/plain": [
              "[('CheapCompany', 'Ann', 4),\n",
              " ('CheapCompany', 'Chrisi', 7),\n",
              " ('SosoCompany', 'Cole', 8)]"
            ]
          },
          "execution_count": 53,
          "metadata": {},
          "output_type": "execute_result"
        }
      ],
      "source": [
        "datos = [(empresa, empleado, salario) for empresa, nomina in companies.items() for empleado, salario in nomina.items() if salario < 9]\n",
        "\n",
        "import pandas as pd\n",
        "\n",
        "pd.DataFrame(datos, columns = [\"empresa\", \"empleado\", \"salario\"])"
      ]
    },
    {
      "cell_type": "markdown",
      "id": "3be5dcb3",
      "metadata": {
        "id": "3be5dcb3"
      },
      "source": [
        "Solución propuesta:"
      ]
    },
    {
      "cell_type": "code",
      "execution_count": 46,
      "id": "7c40f577",
      "metadata": {
        "colab": {
          "base_uri": "https://localhost:8080/"
        },
        "id": "7c40f577",
        "outputId": "56a49c0f-6e52-4fc9-ee9e-ad4e73ead74b"
      },
      "outputs": [
        {
          "data": {
            "text/plain": [
              "True"
            ]
          },
          "execution_count": 46,
          "metadata": {},
          "output_type": "execute_result"
        }
      ],
      "source": [
        "any([False, False, True])"
      ]
    },
    {
      "cell_type": "code",
      "execution_count": 47,
      "id": "QlZx_9uS6brH",
      "metadata": {
        "colab": {
          "base_uri": "https://localhost:8080/"
        },
        "id": "QlZx_9uS6brH",
        "outputId": "9b37cd44-cc7b-46df-dad3-32b181a0a5ee"
      },
      "outputs": [
        {
          "data": {
            "text/plain": [
              "False"
            ]
          },
          "execution_count": 47,
          "metadata": {},
          "output_type": "execute_result"
        }
      ],
      "source": [
        "all([False, False, True])"
      ]
    },
    {
      "cell_type": "markdown",
      "id": "PuS3ieIh6U9G",
      "metadata": {
        "id": "PuS3ieIh6U9G"
      },
      "source": []
    }
  ],
  "metadata": {
    "celltoolbar": "Slideshow",
    "colab": {
      "provenance": []
    },
    "kernelspec": {
      "display_name": "Python 3 (ipykernel)",
      "language": "python",
      "name": "python3"
    },
    "language_info": {
      "codemirror_mode": {
        "name": "ipython",
        "version": 3
      },
      "file_extension": ".py",
      "mimetype": "text/x-python",
      "name": "python",
      "nbconvert_exporter": "python",
      "pygments_lexer": "ipython3",
      "version": "3.7.11"
    }
  },
  "nbformat": 4,
  "nbformat_minor": 5
}
