{
 "cells": [
  {
   "cell_type": "markdown",
   "id": "81a93ba8",
   "metadata": {
    "id": "81a93ba8"
   },
   "source": [
    "# Introducción a Python\n",
    "\n",
    "<a href=\"https://colab.research.google.com/github/milocortes/diplomado_ciencia_datos_mide/blob/edicion-2024/talleres/variables_data_types_mide_2024.ipynb\" target=\"_parent\"><img src=\"https://colab.research.google.com/assets/colab-badge.svg\" alt=\"Open In Colab\"/></a>\n",
    "![images/Python_logo_and_wordmark.png](attachment:Python_logo_and_wordmark.png)\n"
   ]
  },
  {
   "cell_type": "markdown",
   "id": "385a2f9a",
   "metadata": {
    "id": "385a2f9a"
   },
   "source": [
    "## Lo que hace bien Python\n",
    "\n",
    "* Python es fácil de usar.\n",
    "* Python es expresivo.\n",
    "* Python es legible.\n",
    "* Python tiene \"batteries included\".\n",
    "* Python es multiplataforma.\n",
    "* Python es libre.\n"
   ]
  },
  {
   "cell_type": "markdown",
   "id": "58763457",
   "metadata": {
    "id": "58763457"
   },
   "source": [
    "## Lo que no hace bien Python\n",
    "\n",
    "* Python no es el lenguaje más rápido.\n",
    "* Python no verifica los tipos de variables en tiempo de compilación.\n",
    "* Python no tiene mucho soporte móvil\n",
    "* Python no usa bien múltiples procesadores"
   ]
  },
  {
   "cell_type": "code",
   "execution_count": null,
   "id": "0fc02ab7",
   "metadata": {
    "id": "0fc02ab7"
   },
   "outputs": [],
   "source": []
  },
  {
   "cell_type": "markdown",
   "id": "263de823",
   "metadata": {
    "id": "263de823"
   },
   "source": [
    "### Números\n",
    "\n",
    "\n",
    "Los cuatro tipos de números en Python son: enteros,flotantes, números complejos y booleanos:\n",
    "\n",
    "* *Enteros*: 1, -3, 42,355, 8888, -7777777 (los números enteros no están limitados en tamaño excepto por la memoria disponible)\n",
    "* *Flotantes*: 3.0, 31e12, -6e-4\n",
    "* *Números complejos*: 3+2j, -4-2j\n",
    "* *Booleanos*: True, False\n",
    "\n",
    "Puedes manipularlos usando los operadores aritméticos.: + (suma),-(resta), *(multiplicación), / (división), ** (exponenciación), y % (módulo)."
   ]
  },
  {
   "cell_type": "code",
   "execution_count": 4,
   "id": "3b0541cd",
   "metadata": {
    "colab": {
     "base_uri": "https://localhost:8080/"
    },
    "id": "3b0541cd",
    "outputId": "3206bca7-9250-4f1b-aa74-89704eb76463"
   },
   "outputs": [
    {
     "data": {
      "text/plain": [
       "float"
      ]
     },
     "execution_count": 4,
     "metadata": {},
     "output_type": "execute_result"
    }
   ],
   "source": [
    "type(5/2)"
   ]
  },
  {
   "cell_type": "code",
   "execution_count": 3,
   "id": "fd838458",
   "metadata": {
    "colab": {
     "base_uri": "https://localhost:8080/"
    },
    "id": "fd838458",
    "outputId": "ee4f2dca-df42-4404-8bfc-f93a9cd81bba"
   },
   "outputs": [
    {
     "data": {
      "text/plain": [
       "int"
      ]
     },
     "execution_count": 3,
     "metadata": {},
     "output_type": "execute_result"
    }
   ],
   "source": [
    "type(1)"
   ]
  },
  {
   "cell_type": "code",
   "execution_count": 5,
   "id": "c12a4626",
   "metadata": {
    "colab": {
     "base_uri": "https://localhost:8080/"
    },
    "id": "c12a4626",
    "outputId": "e1e517ba-16fc-4666-cb14-57bd0e000b33"
   },
   "outputs": [
    {
     "data": {
      "text/plain": [
       "2"
      ]
     },
     "execution_count": 5,
     "metadata": {},
     "output_type": "execute_result"
    }
   ],
   "source": [
    "5//2"
   ]
  },
  {
   "cell_type": "code",
   "execution_count": 7,
   "id": "197a3dcc",
   "metadata": {
    "colab": {
     "base_uri": "https://localhost:8080/"
    },
    "id": "197a3dcc",
    "outputId": "4a2f34ad-a128-4600-c358-43c48c952920"
   },
   "outputs": [
    {
     "data": {
      "text/plain": [
       "27"
      ]
     },
     "execution_count": 7,
     "metadata": {},
     "output_type": "execute_result"
    }
   ],
   "source": [
    "3**3"
   ]
  },
  {
   "cell_type": "code",
   "execution_count": 11,
   "id": "eeb20b5c",
   "metadata": {
    "colab": {
     "base_uri": "https://localhost:8080/"
    },
    "id": "eeb20b5c",
    "outputId": "283de6d0-b46a-42f8-b1a9-a99a6a07697d"
   },
   "outputs": [
    {
     "data": {
      "text/plain": [
       "0"
      ]
     },
     "execution_count": 11,
     "metadata": {},
     "output_type": "execute_result"
    }
   ],
   "source": [
    "False * 1"
   ]
  },
  {
   "cell_type": "markdown",
   "id": "3751e524",
   "metadata": {
    "id": "3751e524"
   },
   "source": [
    "### Variables y asignaciones\n",
    "\n",
    "Una variable es una ubicación de memoria a la que le asignamos un identificador o nombre para poder leerla y escribirla."
   ]
  },
  {
   "cell_type": "code",
   "execution_count": 14,
   "id": "33b5c4e1",
   "metadata": {
    "colab": {
     "base_uri": "https://localhost:8080/"
    },
    "id": "33b5c4e1",
    "outputId": "592af5fa-83fe-4b08-cba2-af4d0bcafda6"
   },
   "outputs": [
    {
     "data": {
      "text/plain": [
       "int"
      ]
     },
     "execution_count": 14,
     "metadata": {},
     "output_type": "execute_result"
    }
   ],
   "source": [
    "x = 5\n",
    "type(x)"
   ]
  },
  {
   "cell_type": "code",
   "execution_count": null,
   "id": "a4f50284",
   "metadata": {
    "id": "a4f50284"
   },
   "outputs": [],
   "source": []
  },
  {
   "cell_type": "code",
   "execution_count": 21,
   "id": "23ee8453",
   "metadata": {
    "colab": {
     "base_uri": "https://localhost:8080/"
    },
    "id": "23ee8453",
    "outputId": "5663aaa5-d02a-4462-f130-2337ec75dd4e"
   },
   "outputs": [
    {
     "data": {
      "text/plain": [
       "str"
      ]
     },
     "execution_count": 21,
     "metadata": {},
     "output_type": "execute_result"
    }
   ],
   "source": [
    "x : str = \"MIDE 2024\"\n",
    "type(x)"
   ]
  },
  {
   "cell_type": "code",
   "execution_count": 22,
   "id": "OSB3WKSvbpU9",
   "metadata": {
    "colab": {
     "base_uri": "https://localhost:8080/",
     "height": 36
    },
    "id": "OSB3WKSvbpU9",
    "outputId": "1e72891d-8126-44c1-bcd6-613c2bc662b5"
   },
   "outputs": [
    {
     "data": {
      "application/vnd.google.colaboratory.intrinsic+json": {
       "type": "string"
      },
      "text/plain": [
       "'MIDE 2024'"
      ]
     },
     "execution_count": 22,
     "metadata": {},
     "output_type": "execute_result"
    }
   ],
   "source": []
  },
  {
   "cell_type": "code",
   "execution_count": 17,
   "id": "MUuCSMqkb090",
   "metadata": {
    "colab": {
     "base_uri": "https://localhost:8080/"
    },
    "id": "MUuCSMqkb090",
    "outputId": "1b81c1a7-f1f0-4122-d9d5-8f832369e20c"
   },
   "outputs": [
    {
     "data": {
      "text/plain": [
       "6"
      ]
     },
     "execution_count": 17,
     "metadata": {},
     "output_type": "execute_result"
    }
   ],
   "source": []
  },
  {
   "cell_type": "markdown",
   "id": "2a596012",
   "metadata": {
    "id": "2a596012"
   },
   "source": [
    "### Expresiones\n"
   ]
  },
  {
   "cell_type": "code",
   "execution_count": 26,
   "id": "7d85a003",
   "metadata": {
    "colab": {
     "base_uri": "https://localhost:8080/"
    },
    "id": "7d85a003",
    "outputId": "6d92edde-b00a-4dd9-dbdb-87d6f8751bc0"
   },
   "outputs": [
    {
     "data": {
      "text/plain": [
       "3301.375"
      ]
     },
     "execution_count": 26,
     "metadata": {},
     "output_type": "execute_result"
    }
   ],
   "source": [
    "x = 7\n",
    "y = 4\n",
    "p = x**y\n",
    "z = ((x+y)/8)*p\n",
    "z"
   ]
  },
  {
   "cell_type": "markdown",
   "id": "29489c97",
   "metadata": {
    "id": "29489c97"
   },
   "source": [
    "### Strings"
   ]
  },
  {
   "cell_type": "code",
   "execution_count": 27,
   "id": "e8ecf310",
   "metadata": {
    "colab": {
     "base_uri": "https://localhost:8080/",
     "height": 36
    },
    "id": "e8ecf310",
    "outputId": "f49d809a-2653-41e6-b45b-fd0071090322"
   },
   "outputs": [
    {
     "data": {
      "application/vnd.google.colaboratory.intrinsic+json": {
       "type": "string"
      },
      "text/plain": [
       "'Hello,World'"
      ]
     },
     "execution_count": 27,
     "metadata": {},
     "output_type": "execute_result"
    }
   ],
   "source": [
    "x = \"Hello,World\"\n",
    "x"
   ]
  },
  {
   "cell_type": "code",
   "execution_count": 28,
   "id": "f5a6efc2",
   "metadata": {
    "colab": {
     "base_uri": "https://localhost:8080/",
     "height": 36
    },
    "id": "f5a6efc2",
    "outputId": "0ac73f0f-7c65-4834-e13a-c79b8259c8fd"
   },
   "outputs": [
    {
     "data": {
      "application/vnd.google.colaboratory.intrinsic+json": {
       "type": "string"
      },
      "text/plain": [
       "'Hello,World'"
      ]
     },
     "execution_count": 28,
     "metadata": {},
     "output_type": "execute_result"
    }
   ],
   "source": [
    "x = 'Hello,World'\n",
    "x"
   ]
  },
  {
   "cell_type": "code",
   "execution_count": 31,
   "id": "b9567b6a",
   "metadata": {
    "colab": {
     "base_uri": "https://localhost:8080/",
     "height": 36
    },
    "id": "b9567b6a",
    "outputId": "9e3c30c8-6ef9-45d1-addd-2768ffcdbd3b"
   },
   "outputs": [
    {
     "data": {
      "application/vnd.google.colaboratory.intrinsic+json": {
       "type": "string"
      },
      "text/plain": [
       "\"Don't need a backslash\""
      ]
     },
     "execution_count": 31,
     "metadata": {},
     "output_type": "execute_result"
    }
   ],
   "source": [
    "\"Don't need a backslash\""
   ]
  },
  {
   "cell_type": "code",
   "execution_count": 32,
   "id": "655a76c8",
   "metadata": {
    "colab": {
     "base_uri": "https://localhost:8080/",
     "height": 36
    },
    "id": "655a76c8",
    "outputId": "5e324a8a-7deb-4f8a-b3f1-1f8cbc4642ea"
   },
   "outputs": [
    {
     "data": {
      "application/vnd.google.colaboratory.intrinsic+json": {
       "type": "string"
      },
      "text/plain": [
       "'You can \"say\" '"
      ]
     },
     "execution_count": 32,
     "metadata": {},
     "output_type": "execute_result"
    }
   ],
   "source": [
    "'You can \"say\" '"
   ]
  },
  {
   "cell_type": "code",
   "execution_count": 33,
   "id": "uAYTRFW-d8Zn",
   "metadata": {
    "colab": {
     "base_uri": "https://localhost:8080/",
     "height": 36
    },
    "id": "uAYTRFW-d8Zn",
    "outputId": "5526d4bb-89e5-46f6-8213-99880cb33527"
   },
   "outputs": [
    {
     "data": {
      "application/vnd.google.colaboratory.intrinsic+json": {
       "type": "string"
      },
      "text/plain": [
       "\"edo=='01'\""
      ]
     },
     "execution_count": 33,
     "metadata": {},
     "output_type": "execute_result"
    }
   ],
   "source": [
    "\"edo=='01'\""
   ]
  },
  {
   "cell_type": "code",
   "execution_count": 37,
   "id": "2BLBowg2eImY",
   "metadata": {
    "id": "2BLBowg2eImY"
   },
   "outputs": [],
   "source": [
    "\"\"\"\n",
    "Este bloque genera algo ..\n",
    "\"\"\"\n",
    "\n",
    "x = 19\n",
    "y = 10\n"
   ]
  },
  {
   "cell_type": "code",
   "execution_count": 39,
   "id": "hoziVAo_eZ7l",
   "metadata": {
    "id": "hoziVAo_eZ7l"
   },
   "outputs": [],
   "source": [
    "def suma(a,b):\n",
    "  \"\"\"\n",
    "  La funcion suma suma dos valores a y q\n",
    "\n",
    "  Argumentos:\n",
    "  * a : int\n",
    "  * b : in\n",
    "  \"\"\"\n",
    "\n",
    "  return a+b\n",
    "?suma"
   ]
  },
  {
   "cell_type": "code",
   "execution_count": null,
   "id": "AY2DPtbwfCWE",
   "metadata": {
    "id": "AY2DPtbwfCWE"
   },
   "outputs": [],
   "source": [
    "paste0(\"Hello\", \"World\")"
   ]
  },
  {
   "cell_type": "code",
   "execution_count": 49,
   "id": "--HzlbU7eRRL",
   "metadata": {
    "colab": {
     "base_uri": "https://localhost:8080/"
    },
    "id": "--HzlbU7eRRL",
    "outputId": "52a555c6-eb8c-4ba8-81b0-c8ee8c80a764"
   },
   "outputs": [
    {
     "name": "stdout",
     "output_type": "stream",
     "text": [
      "Hello World \n",
      " HolaMundo \n",
      " Hola\n"
     ]
    }
   ],
   "source": [
    "x = \"Hello\" + \" World\"\n",
    "y = \"Hola\" + \"Mundo\"\n",
    "z = \"Hola\"\n",
    "print(x,\"\\n\",y,\"\\n\",z)"
   ]
  },
  {
   "cell_type": "code",
   "execution_count": 51,
   "id": "r2CR7ZHaftwR",
   "metadata": {
    "colab": {
     "base_uri": "https://localhost:8080/",
     "height": 36
    },
    "id": "r2CR7ZHaftwR",
    "outputId": "758039cb-6942-4630-a9e7-fdec9da3e80e"
   },
   "outputs": [
    {
     "data": {
      "application/vnd.google.colaboratory.intrinsic+json": {
       "type": "string"
      },
      "text/plain": [
       "'Hello WorldHello WorldHello World'"
      ]
     },
     "execution_count": 51,
     "metadata": {},
     "output_type": "execute_result"
    }
   ],
   "source": [
    "3*x"
   ]
  },
  {
   "cell_type": "code",
   "execution_count": 53,
   "id": "VcxxkXzRfzZY",
   "metadata": {
    "colab": {
     "base_uri": "https://localhost:8080/",
     "height": 36
    },
    "id": "VcxxkXzRfzZY",
    "outputId": "6fe1eafb-812a-492b-973b-9f529cd78a97"
   },
   "outputs": [
    {
     "data": {
      "application/vnd.google.colaboratory.intrinsic+json": {
       "type": "string"
      },
      "text/plain": [
       "'HELLO WORLD'"
      ]
     },
     "execution_count": 53,
     "metadata": {},
     "output_type": "execute_result"
    }
   ],
   "source": [
    "x.upper()"
   ]
  },
  {
   "cell_type": "code",
   "execution_count": 54,
   "id": "fDz_s3uegSrs",
   "metadata": {
    "colab": {
     "base_uri": "https://localhost:8080/",
     "height": 36
    },
    "id": "fDz_s3uegSrs",
    "outputId": "e711076a-d209-4ce5-871a-af9ad4f936c9"
   },
   "outputs": [
    {
     "data": {
      "application/vnd.google.colaboratory.intrinsic+json": {
       "type": "string"
      },
      "text/plain": [
       "'mide'"
      ]
     },
     "execution_count": 54,
     "metadata": {},
     "output_type": "execute_result"
    }
   ],
   "source": [
    "\"MIDE\".lower()"
   ]
  },
  {
   "cell_type": "code",
   "execution_count": 55,
   "id": "m3j-UFdxgXot",
   "metadata": {
    "colab": {
     "base_uri": "https://localhost:8080/",
     "height": 36
    },
    "id": "m3j-UFdxgXot",
    "outputId": "77e90820-ac9c-41a9-a528-a93d9760c5c8"
   },
   "outputs": [
    {
     "data": {
      "application/vnd.google.colaboratory.intrinsic+json": {
       "type": "string"
      },
      "text/plain": [
       "'Museo Interactivo De Economía'"
      ]
     },
     "execution_count": 55,
     "metadata": {},
     "output_type": "execute_result"
    }
   ],
   "source": [
    "\"museo interactivo de economía\".title()"
   ]
  },
  {
   "cell_type": "code",
   "execution_count": 57,
   "id": "dbcnH7W0gfiL",
   "metadata": {
    "colab": {
     "base_uri": "https://localhost:8080/"
    },
    "id": "dbcnH7W0gfiL",
    "outputId": "90125d1a-2680-4e81-f3ac-7e9554fcf545"
   },
   "outputs": [
    {
     "data": {
      "text/plain": [
       "False"
      ]
     },
     "execution_count": 57,
     "metadata": {},
     "output_type": "execute_result"
    }
   ],
   "source": [
    "\"museo interactivo de economía\".startswith(\"cdmx\")"
   ]
  },
  {
   "cell_type": "code",
   "execution_count": 58,
   "id": "diCQDLSbgrPN",
   "metadata": {
    "colab": {
     "base_uri": "https://localhost:8080/",
     "height": 36
    },
    "id": "diCQDLSbgrPN",
    "outputId": "5ff07183-43ca-4c9d-b6bb-3e9e468fab83"
   },
   "outputs": [
    {
     "data": {
      "application/vnd.google.colaboratory.intrinsic+json": {
       "type": "string"
      },
      "text/plain": [
       "'museo interactivo de geografía'"
      ]
     },
     "execution_count": 58,
     "metadata": {},
     "output_type": "execute_result"
    }
   ],
   "source": [
    "\"museo interactivo de economía\".replace(\"economía\",\"geografía\")"
   ]
  },
  {
   "cell_type": "code",
   "execution_count": 60,
   "id": "MSYmFBuPg30-",
   "metadata": {
    "colab": {
     "base_uri": "https://localhost:8080/"
    },
    "id": "MSYmFBuPg30-",
    "outputId": "789c9d3d-cd28-4ab0-9fb6-848e1fba9d4c"
   },
   "outputs": [
    {
     "data": {
      "text/plain": [
       "['museo', 'interactivo', 'de', 'economía']"
      ]
     },
     "execution_count": 60,
     "metadata": {},
     "output_type": "execute_result"
    }
   ],
   "source": [
    "\"museo interactivo de economía\".split(\" \")"
   ]
  },
  {
   "cell_type": "code",
   "execution_count": 61,
   "id": "tQWlgBP_hDCC",
   "metadata": {
    "colab": {
     "base_uri": "https://localhost:8080/",
     "height": 36
    },
    "id": "tQWlgBP_hDCC",
    "outputId": "24f7d0b9-a78e-40e0-e564-acb77b16ea7a"
   },
   "outputs": [
    {
     "data": {
      "application/vnd.google.colaboratory.intrinsic+json": {
       "type": "string"
      },
      "text/plain": [
       "'museo interactivo de economía'"
      ]
     },
     "execution_count": 61,
     "metadata": {},
     "output_type": "execute_result"
    }
   ],
   "source": [
    "\" \".join(['museo', 'interactivo', 'de', 'economía'])"
   ]
  },
  {
   "cell_type": "markdown",
   "id": "4500c8e2",
   "metadata": {
    "id": "4500c8e2"
   },
   "source": [
    "### Operaciones básicas de cadenas\n",
    "La forma más simple (y probablemente la más común) de combinar cadenas de Python es usar el operador de concatenación de cadenas <code>+</code> :"
   ]
  },
  {
   "cell_type": "code",
   "execution_count": null,
   "id": "9a1f44b7",
   "metadata": {
    "id": "9a1f44b7"
   },
   "outputs": [],
   "source": []
  },
  {
   "cell_type": "markdown",
   "id": "16a605c5",
   "metadata": {
    "id": "16a605c5"
   },
   "source": [
    "Python también tiene un operador de multiplicación de cadenas"
   ]
  },
  {
   "cell_type": "code",
   "execution_count": null,
   "id": "f69aab98",
   "metadata": {
    "id": "f69aab98"
   },
   "outputs": [],
   "source": []
  },
  {
   "cell_type": "markdown",
   "id": "23538026",
   "metadata": {
    "id": "23538026"
   },
   "source": [
    "El método <code>upper</code> convierte una cadena a mayúsculas:"
   ]
  },
  {
   "cell_type": "code",
   "execution_count": null,
   "id": "96a7701b",
   "metadata": {
    "id": "96a7701b"
   },
   "outputs": [],
   "source": []
  },
  {
   "cell_type": "markdown",
   "id": "4faf26c1",
   "metadata": {
    "id": "4faf26c1"
   },
   "source": [
    "El método <code>lower</code> convierte una cadena a minúsculas:"
   ]
  },
  {
   "cell_type": "code",
   "execution_count": null,
   "id": "87c269e6",
   "metadata": {
    "id": "87c269e6"
   },
   "outputs": [],
   "source": []
  },
  {
   "cell_type": "markdown",
   "id": "a3168273",
   "metadata": {
    "id": "a3168273"
   },
   "source": [
    "El método <code>title</code> escribe en mayúscula la primera letra de cada palabra en una cadena"
   ]
  },
  {
   "cell_type": "code",
   "execution_count": null,
   "id": "72757bd2",
   "metadata": {
    "id": "72757bd2"
   },
   "outputs": [],
   "source": []
  },
  {
   "cell_type": "markdown",
   "id": "dc94a317",
   "metadata": {
    "id": "dc94a317"
   },
   "source": [
    "Los métodos <code>startswith</code>, <code>endswith</code> verifica si al principio o al final de una cadena existe una coincidencia."
   ]
  },
  {
   "cell_type": "code",
   "execution_count": null,
   "id": "19390596",
   "metadata": {
    "id": "19390596"
   },
   "outputs": [],
   "source": []
  },
  {
   "cell_type": "code",
   "execution_count": null,
   "id": "ffccbabd",
   "metadata": {
    "id": "ffccbabd"
   },
   "outputs": [],
   "source": []
  },
  {
   "cell_type": "markdown",
   "id": "7e9d8f53",
   "metadata": {
    "id": "7e9d8f53"
   },
   "source": [
    "El método <code>replace</code> reemplaza el fragmento objetivo de la cadena con una nueva cadena"
   ]
  },
  {
   "cell_type": "code",
   "execution_count": 65,
   "id": "3a554c93",
   "metadata": {
    "colab": {
     "base_uri": "https://localhost:8080/",
     "height": 36
    },
    "id": "3a554c93",
    "outputId": "81fec119-7d73-45c5-de6c-8bc74a8e983f"
   },
   "outputs": [
    {
     "data": {
      "application/vnd.google.colaboratory.intrinsic+json": {
       "type": "string"
      },
      "text/plain": [
       "'Gómez'"
      ]
     },
     "execution_count": 65,
     "metadata": {},
     "output_type": "execute_result"
    }
   ],
   "source": [
    "x = \"Gómez\"\n",
    "x"
   ]
  },
  {
   "cell_type": "markdown",
   "id": "7589224f",
   "metadata": {
    "id": "7589224f"
   },
   "source": [
    "### Usando el método <code>format</code>\n",
    "\n",
    "Puede formatear cadenas en Python 3 de dos maneras. La forma más nueva es usar el método de la clase de cadena <code>format</code>.\n",
    "\n",
    "El método <code>format</code>  combina una cadena de formato que contiene campos de reemplazo marcados con { } con valores de reemplazo tomados de los parámetros dados al comando de formato.\n",
    "\n",
    "Una forma sencilla de utilizar el método <code>format</code> es numerar los campos de reemplazo que corresponden a los parámetros pasados al método <code>format</code>:"
   ]
  },
  {
   "cell_type": "code",
   "execution_count": 79,
   "id": "73ee958d",
   "metadata": {
    "colab": {
     "base_uri": "https://localhost:8080/"
    },
    "id": "73ee958d",
    "outputId": "909b3f20-4bb0-4a70-a801-439164b3f830"
   },
   "outputs": [
    {
     "name": "stdout",
     "output_type": "stream",
     "text": [
      "Hola\n",
      "Hola Mundo\n"
     ]
    }
   ],
   "source": [
    "x = \"Hola\"\n",
    "y = \"Hola Mundo\"\n",
    "\n",
    "print(\"{}\\n{}\".format(x,  y))"
   ]
  },
  {
   "cell_type": "code",
   "execution_count": 76,
   "id": "Iw6aggyricJr",
   "metadata": {
    "colab": {
     "base_uri": "https://localhost:8080/"
    },
    "id": "Iw6aggyricJr",
    "outputId": "231d2fd4-6fdd-422d-8fb1-644e3f816f45"
   },
   "outputs": [
    {
     "name": "stdout",
     "output_type": "stream",
     "text": [
      "Hola\n",
      "Hola Mundo\n"
     ]
    }
   ],
   "source": [
    "print(f\"{x}\\n{y}\")"
   ]
  },
  {
   "cell_type": "markdown",
   "id": "81db395c",
   "metadata": {
    "id": "81db395c"
   },
   "source": [
    "Podemos omitir el reemplazo numerado:"
   ]
  },
  {
   "cell_type": "code",
   "execution_count": 94,
   "id": "a546ab79",
   "metadata": {
    "colab": {
     "base_uri": "https://localhost:8080/",
     "height": 36
    },
    "id": "a546ab79",
    "outputId": "dbb1b5d5-597f-48d5-8c46-d8ef5c3f0fed"
   },
   "outputs": [
    {
     "data": {
      "application/vnd.google.colaboratory.intrinsic+json": {
       "type": "string"
      },
      "text/plain": [
       "'C:\\\\Users\\\\milo-\\\\Documents\\\\mide\\\\diplomado_ciencia_datos_mide\\\\censo_2020.csv'"
      ]
     },
     "execution_count": 94,
     "metadata": {},
     "output_type": "execute_result"
    }
   ],
   "source": [
    "PATH = r\"C:\\Users\\milo-\\Documents\\mide\\diplomado_ciencia_datos_mide\"\n",
    "FILE_NAME = \"censo_2020.csv\"\n",
    "\n",
    "f\"{PATH}\\\\{FILE_NAME}\""
   ]
  },
  {
   "cell_type": "code",
   "execution_count": 95,
   "id": "s8_29yxPlVxC",
   "metadata": {
    "colab": {
     "base_uri": "https://localhost:8080/",
     "height": 36
    },
    "id": "s8_29yxPlVxC",
    "outputId": "f62435bd-377e-4b0a-87b8-c1f2a4599e8f"
   },
   "outputs": [
    {
     "data": {
      "application/vnd.google.colaboratory.intrinsic+json": {
       "type": "string"
      },
      "text/plain": [
       "'C:\\\\Users\\\\milo-\\\\Documents\\\\mide\\\\diplomado_ciencia_datos_mide/censo_2020.csv'"
      ]
     },
     "execution_count": 95,
     "metadata": {},
     "output_type": "execute_result"
    }
   ],
   "source": [
    "import os\n",
    "\n",
    "os.path.join(PATH, FILE_NAME)"
   ]
  },
  {
   "cell_type": "markdown",
   "id": "1db07bb0",
   "metadata": {
    "id": "1db07bb0"
   },
   "source": [
    "El método <code>format</code>  también reconoce parámetros con nombre y campos de reemplazo:"
   ]
  },
  {
   "cell_type": "code",
   "execution_count": 92,
   "id": "c922a4c1",
   "metadata": {
    "colab": {
     "base_uri": "https://localhost:8080/",
     "height": 36
    },
    "id": "c922a4c1",
    "outputId": "cfaa8ae0-84c4-49d6-a512-d465136785a6"
   },
   "outputs": [
    {
     "data": {
      "application/vnd.google.colaboratory.intrinsic+json": {
       "type": "string"
      },
      "text/plain": [
       "\"Can't\""
      ]
     },
     "execution_count": 92,
     "metadata": {},
     "output_type": "execute_result"
    }
   ],
   "source": [
    "'Can\\'t'"
   ]
  },
  {
   "cell_type": "markdown",
   "id": "83e994ff",
   "metadata": {
    "id": "83e994ff"
   },
   "source": [
    "### Casteo de variables\n",
    "There may be times when you want to specify a type on to a variable.\n",
    "\n",
    "La conversión en python se realiza mediante funciones:\n",
    "\n",
    "* $\\texttt{int()}$ - construye un número entero a partir de un número entero, un flotante (eliminando todos los decimales) o una cadena (siempre que la cadena represente un número entero)\n",
    "\n",
    "* $\\texttt{float()}$- construye un número flotante a partir de un entero, un flotante o una cadena (siempre que la cadena represente un flotante o un entero)\n",
    "\n",
    "* $\\texttt{str()}$ - construye una cadena a partir de una amplia variedad de tipos de datos, incluidas cadenas, enteros y flotantes\n"
   ]
  },
  {
   "cell_type": "code",
   "execution_count": 81,
   "id": "45be4e63",
   "metadata": {
    "colab": {
     "base_uri": "https://localhost:8080/"
    },
    "id": "45be4e63",
    "outputId": "14d09db9-3ff8-4471-8edc-4616962e368f"
   },
   "outputs": [
    {
     "data": {
      "text/plain": [
       "5"
      ]
     },
     "execution_count": 81,
     "metadata": {},
     "output_type": "execute_result"
    }
   ],
   "source": [
    "int(5.6)"
   ]
  },
  {
   "cell_type": "code",
   "execution_count": 83,
   "id": "R9K69GI9i9Gi",
   "metadata": {
    "colab": {
     "base_uri": "https://localhost:8080/",
     "height": 141
    },
    "id": "R9K69GI9i9Gi",
    "outputId": "95455b63-4610-451b-a9ae-182104e082af"
   },
   "outputs": [
    {
     "ename": "ValueError",
     "evalue": "invalid literal for int() with base 10: '5.6'",
     "output_type": "error",
     "traceback": [
      "\u001b[0;31m---------------------------------------------------------------------------\u001b[0m",
      "\u001b[0;31mValueError\u001b[0m                                Traceback (most recent call last)",
      "\u001b[0;32m<ipython-input-83-10b34730264e>\u001b[0m in \u001b[0;36m<cell line: 1>\u001b[0;34m()\u001b[0m\n\u001b[0;32m----> 1\u001b[0;31m \u001b[0mint\u001b[0m\u001b[0;34m(\u001b[0m\u001b[0;34m\"5.6\"\u001b[0m\u001b[0;34m)\u001b[0m\u001b[0;34m\u001b[0m\u001b[0;34m\u001b[0m\u001b[0m\n\u001b[0m",
      "\u001b[0;31mValueError\u001b[0m: invalid literal for int() with base 10: '5.6'"
     ]
    }
   ],
   "source": [
    "int(\"5.6\")"
   ]
  },
  {
   "cell_type": "code",
   "execution_count": 85,
   "id": "TgK0h6PRjBzD",
   "metadata": {
    "colab": {
     "base_uri": "https://localhost:8080/"
    },
    "id": "TgK0h6PRjBzD",
    "outputId": "5d4d512f-c2bc-47f8-c57d-08fa62a9a6ee"
   },
   "outputs": [
    {
     "data": {
      "text/plain": [
       "5"
      ]
     },
     "execution_count": 85,
     "metadata": {},
     "output_type": "execute_result"
    }
   ],
   "source": [
    "int(float(\"5.6\"))"
   ]
  },
  {
   "cell_type": "code",
   "execution_count": 87,
   "id": "25868fe8",
   "metadata": {
    "colab": {
     "base_uri": "https://localhost:8080/",
     "height": 36
    },
    "id": "25868fe8",
    "outputId": "685abcc9-882c-481f-9351-fb70e364470a"
   },
   "outputs": [
    {
     "data": {
      "application/vnd.google.colaboratory.intrinsic+json": {
       "type": "string"
      },
      "text/plain": [
       "'5'"
      ]
     },
     "execution_count": 87,
     "metadata": {},
     "output_type": "execute_result"
    }
   ],
   "source": [
    "str(4.6)\n",
    "str(5)"
   ]
  },
  {
   "cell_type": "code",
   "execution_count": 88,
   "id": "9fc98138",
   "metadata": {
    "colab": {
     "base_uri": "https://localhost:8080/",
     "height": 106
    },
    "id": "9fc98138",
    "outputId": "825e8816-f5cb-44f6-b9c2-97d8b8dc89e2"
   },
   "outputs": [
    {
     "ename": "SyntaxError",
     "evalue": "invalid syntax (<ipython-input-88-bc822f064e50>, line 1)",
     "output_type": "error",
     "traceback": [
      "\u001b[0;36m  File \u001b[0;32m\"<ipython-input-88-bc822f064e50>\"\u001b[0;36m, line \u001b[0;32m1\u001b[0m\n\u001b[0;31m    def my.func(b):\u001b[0m\n\u001b[0m          ^\u001b[0m\n\u001b[0;31mSyntaxError\u001b[0m\u001b[0;31m:\u001b[0m invalid syntax\n"
     ]
    }
   ],
   "source": [
    "def my.func(b):\n",
    "  return b"
   ]
  },
  {
   "cell_type": "code",
   "execution_count": null,
   "id": "94d40b27",
   "metadata": {
    "id": "94d40b27"
   },
   "outputs": [],
   "source": []
  },
  {
   "cell_type": "markdown",
   "id": "f33a9f1b",
   "metadata": {
    "id": "f33a9f1b"
   },
   "source": [
    "### Obtener inputs del usuario\n",
    "\n",
    "La función $\\texttt{input}$ se utiliza para obtener inputs del usuario. Se puede designar una cadena de mensaje que desea mostrar al usuario como parámetros de entradas:"
   ]
  },
  {
   "cell_type": "code",
   "execution_count": null,
   "id": "74fbb165",
   "metadata": {
    "id": "74fbb165"
   },
   "outputs": [],
   "source": []
  },
  {
   "cell_type": "code",
   "execution_count": null,
   "id": "7e52ceef",
   "metadata": {
    "id": "7e52ceef"
   },
   "outputs": [],
   "source": []
  },
  {
   "cell_type": "markdown",
   "id": "5018fa43",
   "metadata": {
    "id": "5018fa43"
   },
   "source": [
    "### Estilo básico de Python\n",
    "\n",
    "Convenciones de codificación pitonista\n",
    "![pythonic_conventions.png](attachment:pythonic_conventions.png)\n"
   ]
  }
 ],
 "metadata": {
  "celltoolbar": "Slideshow",
  "colab": {
   "provenance": []
  },
  "kernelspec": {
   "display_name": "Python 3 (ipykernel)",
   "language": "python",
   "name": "python3"
  },
  "language_info": {
   "codemirror_mode": {
    "name": "ipython",
    "version": 3
   },
   "file_extension": ".py",
   "mimetype": "text/x-python",
   "name": "python",
   "nbconvert_exporter": "python",
   "pygments_lexer": "ipython3",
   "version": "3.9.19"
  }
 },
 "nbformat": 4,
 "nbformat_minor": 5
}
