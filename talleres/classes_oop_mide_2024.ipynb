{
 "cells": [
  {
   "cell_type": "markdown",
   "id": "4ca562a9",
   "metadata": {
    "slideshow": {
     "slide_type": "slide"
    }
   },
   "source": [
    "# Clases y programación orientada a objetos\n",
    "<a href=\"https://colab.research.google.com/github/milocortes/diplomado_ciencia_datos_mide/blob/edicion-2024/talleres/classes_oop_mide_2024.ipynb\" target=\"_parent\"><img src=\"https://colab.research.google.com/assets/colab-badge.svg\" alt=\"Open In Colab\"/></a>\n"
   ]
  },
  {
   "cell_type": "markdown",
   "id": "96e4376f-fe1a-4593-ae40-64ba12f2a1ac",
   "metadata": {},
   "source": [
    "* Herencia\n",
    "* Polimorfismo\n",
    "* Encapsulamiento"
   ]
  },
  {
   "cell_type": "code",
   "execution_count": 3,
   "id": "45f8d9b9-6f44-4ef8-acac-3af5d903ed61",
   "metadata": {},
   "outputs": [
    {
     "data": {
      "text/plain": [
       "'MIDE'"
      ]
     },
     "execution_count": 3,
     "metadata": {},
     "output_type": "execute_result"
    }
   ],
   "source": [
    "palabra = \"mide\"\n",
    "palabra.upper()"
   ]
  },
  {
   "cell_type": "code",
   "execution_count": 4,
   "id": "abe7a4d6-a714-42b0-9690-d02bec43f9d6",
   "metadata": {},
   "outputs": [
    {
     "data": {
      "text/plain": [
       "[2, 3, 4, 5, 56]"
      ]
     },
     "execution_count": 4,
     "metadata": {},
     "output_type": "execute_result"
    }
   ],
   "source": [
    "la_lista = [2,3,4,5]\n",
    "\n",
    "la_lista.append(56)\n",
    "la_lista"
   ]
  },
  {
   "cell_type": "code",
   "execution_count": 9,
   "id": "7d038a5e-ac1b-498f-9291-530b4bf2929c",
   "metadata": {},
   "outputs": [
    {
     "data": {
      "text/plain": [
       "['__class__',\n",
       " '__delattr__',\n",
       " '__dict__',\n",
       " '__dir__',\n",
       " '__doc__',\n",
       " '__eq__',\n",
       " '__format__',\n",
       " '__ge__',\n",
       " '__getattribute__',\n",
       " '__gt__',\n",
       " '__hash__',\n",
       " '__init__',\n",
       " '__init_subclass__',\n",
       " '__le__',\n",
       " '__lt__',\n",
       " '__module__',\n",
       " '__ne__',\n",
       " '__new__',\n",
       " '__reduce__',\n",
       " '__reduce_ex__',\n",
       " '__repr__',\n",
       " '__setattr__',\n",
       " '__sizeof__',\n",
       " '__str__',\n",
       " '__subclasshook__',\n",
       " '__weakref__',\n",
       " 'valor1']"
      ]
     },
     "execution_count": 9,
     "metadata": {},
     "output_type": "execute_result"
    }
   ],
   "source": [
    "class MiClase:\n",
    "    pass\n",
    "\n",
    "instancia = MiClase()\n",
    "\n",
    "instancia.valor1 = 10\n",
    "dir(instancia)"
   ]
  },
  {
   "cell_type": "code",
   "execution_count": 15,
   "id": "ad53164e-57ed-4415-9273-84dd370bad6f",
   "metadata": {},
   "outputs": [
    {
     "data": {
      "text/plain": [
       "31.416"
      ]
     },
     "execution_count": 15,
     "metadata": {},
     "output_type": "execute_result"
    }
   ],
   "source": [
    "class Circulo:\n",
    "    pass\n",
    "\n",
    "mi_circulo = Circulo()\n",
    "mi_circulo.radio = 5 \n",
    "perimetro = 2 * mi_circulo.radio * 3.1416\n",
    "perimetro"
   ]
  },
  {
   "cell_type": "code",
   "execution_count": null,
   "id": "10373a35-5f2b-496a-b364-c1123e39a626",
   "metadata": {},
   "outputs": [],
   "source": [
    "instancia u objeto es una estructura de datos (contenedor) definida mediante una clase.\n",
    "\n",
    "Clase permite personalizar una estructura de datos (o contendor).\n",
    "\n",
    "Instancias tienen variables de instancia y métodos. Las variables de instancia (o atributos) son valores que pertenecen a la instancia.\n",
    "Los métodos son funciones que pertenecen a la instancia.\n"
   ]
  },
  {
   "cell_type": "code",
   "execution_count": 24,
   "id": "3a1cef7e-5a73-4df8-8936-e71c325abea2",
   "metadata": {},
   "outputs": [
    {
     "data": {
      "text/plain": [
       "37.6992"
      ]
     },
     "execution_count": 24,
     "metadata": {},
     "output_type": "execute_result"
    }
   ],
   "source": [
    "class Circulo:\n",
    "    def __init__(self, radio_argumento : int) -> None:\n",
    "        self.radio = radio_argumento # Variable de instancia radio\n",
    "        \n",
    "    def calcula_perimetro(self): \n",
    "        \"\"\"\n",
    "        El método calcula_perimetro calcula el perimetro de la instancia\n",
    "        \"\"\"\n",
    "        return 2 * 3.1416* self.radio\n",
    "\n",
    "    @staticmethod\n",
    "    def saluda():\n",
    "        print(\"Hola!! cómo están?\")\n",
    "mi_circulo = Circulo(radio_argumento = 6)\n",
    "mi_circulo.calcula_perimetro()"
   ]
  },
  {
   "cell_type": "code",
   "execution_count": 25,
   "id": "9d835ccb-6162-41cd-b79e-be8c22ca38ec",
   "metadata": {},
   "outputs": [
    {
     "name": "stdout",
     "output_type": "stream",
     "text": [
      "Hola!! cómo están?\n"
     ]
    }
   ],
   "source": [
    "Circulo.saluda()"
   ]
  },
  {
   "cell_type": "markdown",
   "id": "df1a9646",
   "metadata": {
    "slideshow": {
     "slide_type": "slide"
    }
   },
   "source": [
    "## Definición de clases\n",
    "\n",
    "Una *clase* en Python es un tipo de dato.\n",
    "\n",
    "Una clase se define con la instrucción <code>class</code>:"
   ]
  },
  {
   "cell_type": "code",
   "execution_count": null,
   "id": "b7225f96",
   "metadata": {
    "slideshow": {
     "slide_type": "fragment"
    }
   },
   "outputs": [],
   "source": []
  },
  {
   "cell_type": "markdown",
   "id": "291953d6",
   "metadata": {
    "slideshow": {
     "slide_type": "fragment"
    }
   },
   "source": [
    "<code>body</code> son instrucciones de Python, por lo general, asignaciones de variables y definiciones de funciones. \n",
    "\n",
    "No se requieren asignaciones ni definiciones de funciones. El cuerpo puede ser solo una sola instrucción <code>pass</code>."
   ]
  },
  {
   "cell_type": "markdown",
   "id": "3c6bd670",
   "metadata": {
    "slideshow": {
     "slide_type": "slide"
    }
   },
   "source": [
    "Después de definir la clase, se puede crear un nuevo objeto de esa clase (una instancia de clase) llamando el nombre de la clase como una función:"
   ]
  },
  {
   "cell_type": "code",
   "execution_count": 1,
   "id": "ea429713",
   "metadata": {
    "slideshow": {
     "slide_type": "fragment"
    }
   },
   "outputs": [],
   "source": []
  },
  {
   "cell_type": "markdown",
   "id": "4fade9d4",
   "metadata": {
    "slideshow": {
     "slide_type": "slide"
    }
   },
   "source": [
    "###  Uso de una instancia de clase como estructura o registro"
   ]
  },
  {
   "cell_type": "markdown",
   "id": "1b0cce7b",
   "metadata": {
    "slideshow": {
     "slide_type": "fragment"
    }
   },
   "source": [
    "Las instancias de clase se pueden utilizar como estructuras o registros.\n",
    "\n",
    "A diferencia de las estructuras C o las clases Java, los campos de datos de una instancia no necesitan declararse con anticipación; se pueden crear sobre la marcha."
   ]
  },
  {
   "cell_type": "code",
   "execution_count": null,
   "id": "b779e420",
   "metadata": {
    "slideshow": {
     "slide_type": "fragment"
    }
   },
   "outputs": [],
   "source": []
  },
  {
   "cell_type": "markdown",
   "id": "1dc0d842",
   "metadata": {
    "slideshow": {
     "slide_type": "slide"
    }
   },
   "source": [
    "Se pueden inicializar los campos de una instancia automáticamente al incluir un método de inicialización <code>\\_\\_init\\_\\_</code> en el cuerpo de la clase.\n",
    "\n",
    "\n",
    "Esta función se ejecuta cada vez que se crea una instancia de la clase, con esa nueva instancia como primer argumento, <code>self</code> .\n",
    "\n",
    "Además, a diferencia de las clases de Java o C++, las clases de Python solo pueden tener un método <code>\\_\\_init\\_\\_</code>. Este ejemplo crea una clase <code>Circle</code> con radio igual a 1 por defecto:"
   ]
  },
  {
   "cell_type": "code",
   "execution_count": null,
   "id": "6380945f",
   "metadata": {
    "slideshow": {
     "slide_type": "fragment"
    }
   },
   "outputs": [],
   "source": []
  },
  {
   "cell_type": "code",
   "execution_count": null,
   "id": "5f5e5104",
   "metadata": {
    "slideshow": {
     "slide_type": "slide"
    }
   },
   "outputs": [],
   "source": []
  },
  {
   "cell_type": "markdown",
   "id": "c4334416",
   "metadata": {
    "slideshow": {
     "slide_type": "fragment"
    }
   },
   "source": [
    "Por convención, self es siempre el nombre del primer argumento de <code>\\_\\_init\\_\\_</code>. "
   ]
  },
  {
   "cell_type": "markdown",
   "id": "2080c237",
   "metadata": {
    "slideshow": {
     "slide_type": "slide"
    }
   },
   "source": [
    "## Variables de instancia\n",
    "\n",
    "Las variables de instancia son la característica más básica de OOP. "
   ]
  },
  {
   "cell_type": "code",
   "execution_count": null,
   "id": "1f319bdf",
   "metadata": {
    "slideshow": {
     "slide_type": "fragment"
    }
   },
   "outputs": [],
   "source": []
  },
  {
   "cell_type": "markdown",
   "id": "c2bf005b",
   "metadata": {
    "slideshow": {
     "slide_type": "fragment"
    }
   },
   "source": [
    "\n",
    "<code>radius</code> es una *variable de instancia* de las instancias de <code>Circle</code>. Es decir, cada instancia de la clase <code>Circle</code> tiene su propia copia de <code>radius</code> , y el valor almacenado en esa copia puede ser diferente de los valores almacenados en la variable <code>radius </code>  de otras instancias."
   ]
  },
  {
   "cell_type": "markdown",
   "id": "95693c9f",
   "metadata": {
    "slideshow": {
     "slide_type": "slide"
    }
   },
   "source": [
    "En Python, pueden crear tantas variables de instancia según sea necesario asignándolas a un campo de una instancia de clase:"
   ]
  },
  {
   "cell_type": "code",
   "execution_count": null,
   "id": "42174a22",
   "metadata": {
    "slideshow": {
     "slide_type": "fragment"
    }
   },
   "outputs": [],
   "source": [
    "instance.variable = value"
   ]
  },
  {
   "cell_type": "markdown",
   "id": "51c2e9f5",
   "metadata": {
    "slideshow": {
     "slide_type": "fragment"
    }
   },
   "source": [
    "\n",
    "Si la variable aún no existe, se crea automáticamente, que es tal como <code>\\_\\_init\\_\\_</code> crea la variable <code>radius</code>."
   ]
  },
  {
   "cell_type": "markdown",
   "id": "363e3424",
   "metadata": {
    "slideshow": {
     "slide_type": "slide"
    }
   },
   "source": [
    "## Metodos\n",
    "\n",
    "Un *método* es una función asociada con una clase particular.\n",
    "\n",
    "Ya vimos el método especial <code>\\_\\_init\\_\\_</code>, que se llama cuando se crea una nueva instancia.\n",
    "\n",
    "En el siguiente ejemplo define otro método, <code>area</code> , para la clase <code>Circle</code>; este método se puede usar para calcular y devolver el área para cualquier instancia de <code>Circle</code>"
   ]
  },
  {
   "cell_type": "code",
   "execution_count": null,
   "id": "b6869c27",
   "metadata": {
    "slideshow": {
     "slide_type": "fragment"
    }
   },
   "outputs": [],
   "source": []
  },
  {
   "cell_type": "markdown",
   "id": "5789a2ff",
   "metadata": {
    "slideshow": {
     "slide_type": "slide"
    }
   },
   "source": [
    "\n",
    "La sintaxis de invocación de métodos consta de una instancia, seguida de un punto, seguido del método de la instancia que se invocará."
   ]
  },
  {
   "cell_type": "markdown",
   "id": "0db7f7ff",
   "metadata": {
    "slideshow": {
     "slide_type": "slide"
    }
   },
   "source": [
    "\n",
    "Los métodos se pueden invocar con argumentos si las definiciones de métodos aceptan argumentos.\n",
    "\n",
    "Esta versión de <code>Circle</code> agrega un argumento al método <code>\\_\\_init\\_\\_</code> para que pueda crear círculos de un radio determinado sin necesidad de establecer el radio después de un se crea el círculo:"
   ]
  },
  {
   "cell_type": "code",
   "execution_count": 10,
   "id": "702c602c",
   "metadata": {
    "slideshow": {
     "slide_type": "fragment"
    }
   },
   "outputs": [],
   "source": []
  },
  {
   "cell_type": "markdown",
   "id": "5a3029db",
   "metadata": {
    "slideshow": {
     "slide_type": "slide"
    }
   },
   "source": [
    "\n",
    "Usando esta definición de <code>Circle</code> , se pueden crear círculos de cualquier radio con una llamada a la clase <code>Circle</code>. Lo siguiente crea un <code>Círculo</code> de radio 5:"
   ]
  },
  {
   "cell_type": "code",
   "execution_count": null,
   "id": "dcdbe5ec",
   "metadata": {
    "slideshow": {
     "slide_type": "fragment"
    }
   },
   "outputs": [],
   "source": []
  },
  {
   "cell_type": "code",
   "execution_count": 13,
   "id": "8e047b04",
   "metadata": {
    "slideshow": {
     "slide_type": "fragment"
    }
   },
   "outputs": [],
   "source": []
  },
  {
   "cell_type": "code",
   "execution_count": null,
   "id": "983be6d6",
   "metadata": {
    "slideshow": {
     "slide_type": "fragment"
    }
   },
   "outputs": [],
   "source": []
  },
  {
   "cell_type": "markdown",
   "id": "ef3377fe",
   "metadata": {
    "slideshow": {
     "slide_type": "slide"
    }
   },
   "source": [
    "## Métodos estáticos\n",
    "\n",
    "Las clases de Python también pueden tener métodos que corresponden con los métodos estáticos de Java.\n",
    "\n",
    "Al igual que en Java, se puede invocar métodos estáticos aunque no se haya creado ninguna instancia de esa clase, aunque también se puede llamarlos usando una instancia de clase. \n",
    "\n",
    "Para crear un método estático utilizamos el decorador <code>@staticmethod</code>:"
   ]
  },
  {
   "cell_type": "code",
   "execution_count": 20,
   "id": "fc5b1223",
   "metadata": {
    "slideshow": {
     "slide_type": "slide"
    }
   },
   "outputs": [],
   "source": [
    "class Circle:\n",
    "    \"\"\"Circle class\"\"\"\n",
    "    all_circles = []\n",
    "    pi = 3.14159\n",
    "    \n",
    "    def __init__(self,r = 1):\n",
    "        \"\"\"Create a Circle with the given radius\"\"\"\n",
    "        self.radius = r\n",
    "        self.__class__.all_circles.append(self)\n",
    "    \n",
    "    def area(self):\n",
    "        \"\"\"determine the area of the Circle\"\"\"\n",
    "        return self.__class__.pi * self.radius * self.radius\n",
    "    \n",
    "    @staticmethod\n",
    "    def total_area():\n",
    "        \"\"\"Static method to total the areas of all Circles\"\"\"\n",
    "        total = 0\n",
    "        for c in Circle.all_circles:\n",
    "            total = total + c.area()\n",
    "        return total\n",
    "    "
   ]
  },
  {
   "cell_type": "code",
   "execution_count": 21,
   "id": "e7e9dc26",
   "metadata": {
    "slideshow": {
     "slide_type": "slide"
    }
   },
   "outputs": [
    {
     "data": {
      "text/plain": [
       "15.70795"
      ]
     },
     "execution_count": 21,
     "metadata": {},
     "output_type": "execute_result"
    }
   ],
   "source": [
    "c1 = Circle(1)\n",
    "c2 = Circle(2)\n",
    "Circle.total_area()"
   ]
  },
  {
   "cell_type": "markdown",
   "id": "bae5365b",
   "metadata": {
    "slideshow": {
     "slide_type": "slide"
    }
   },
   "source": [
    "## Inheritance"
   ]
  },
  {
   "cell_type": "code",
   "execution_count": 26,
   "id": "99ea9e4c",
   "metadata": {
    "slideshow": {
     "slide_type": "fragment"
    }
   },
   "outputs": [],
   "source": [
    "# clase base\n",
    "\n",
    "class Vehiculo:\n",
    "    \n",
    "    def __init__(self, nombre='X', rapidez=0):\n",
    "        self.nombre = nombre\n",
    "        self.rapidez = rapidez\n",
    "        \n",
    "    def info(self):\n",
    "        print(f'Vehículo {self.nombre} va a {self.rapidez} km/h.')\n",
    "    \n",
    "    def acelerar(self, cantidad):\n",
    "        self.rapidez = self.rapidez + cantidad \n",
    "\n",
    "# Tamalero hereda de Vehiculo\n",
    "class Triciclo(Vehiculo):\n",
    "    \n",
    "    # reimplementamos el inicializador\n",
    "    def __init__(self,tamales,nombre='X', rapidez=10):\n",
    "        super().__init__(nombre, rapidez)\n",
    "        self.tamales = tamales\n",
    "    \n",
    "    # reimplementamos el método de acelerar\n",
    "    def acelerar(self, porcentaje):\n",
    "        self.rapidez = self.rapidez + self.rapidez * porcentaje "
   ]
  },
  {
   "cell_type": "markdown",
   "id": "d429a9e7",
   "metadata": {
    "slideshow": {
     "slide_type": "slide"
    }
   },
   "source": [
    "Hay (generalmente) dos requisitos para implementar herencia en una clase en Python.\n",
    "\n",
    "* El primer requisito es definir la jerarquía de herencia, lo que se hace dando la clase de la que se hereda, entre paréntesis, inmediatamente después del nombre de la clase que se está definiendo.\n",
    "\n",
    "* El segundo y más sutil elemento es la necesidad de llamar explícitamente al método <code>\\_\\_init\\_\\_</code> de las clases heredadas. Python no hace esto automáticamente por nosotros, pero podemos usar la función <code>super</code> para que Python de cuenta de qué clase se está obteniendo la herencia."
   ]
  },
  {
   "cell_type": "code",
   "execution_count": 27,
   "id": "e9759f98",
   "metadata": {
    "slideshow": {
     "slide_type": "slide"
    }
   },
   "outputs": [
    {
     "name": "stdout",
     "output_type": "stream",
     "text": [
      "Vehículo X va a 0 km/h.\n",
      "Vehículo X va a 25 km/h.\n"
     ]
    }
   ],
   "source": [
    "# instanciamos Vehiculo\n",
    "vehiculo = Vehiculo()\n",
    "# veamos su estado\n",
    "vehiculo.info()\n",
    "# modfiquemos el estado\n",
    "vehiculo.acelerar(25)\n",
    "# veamos su estado\n",
    "vehiculo.info()"
   ]
  },
  {
   "cell_type": "code",
   "execution_count": 29,
   "id": "7e410957",
   "metadata": {
    "slideshow": {
     "slide_type": "fragment"
    }
   },
   "outputs": [
    {
     "name": "stdout",
     "output_type": "stream",
     "text": [
      "Vehículo triciclo va a 10 km/h.\n",
      "Vehículo triciclo va a 12.5 km/h.\n"
     ]
    }
   ],
   "source": [
    "# instanciamos Triciclo\n",
    "tamalero = Triciclo(100,\"triciclo\",10)\n",
    "# veamos su estado\n",
    "tamalero.info()\n",
    "# modfiquemos el estado\n",
    "tamalero.acelerar(0.25)\n",
    "# veamos su estado\n",
    "tamalero.info()"
   ]
  }
 ],
 "metadata": {
  "celltoolbar": "Slideshow",
  "kernelspec": {
   "display_name": "Python 3 (ipykernel)",
   "language": "python",
   "name": "python3"
  },
  "language_info": {
   "codemirror_mode": {
    "name": "ipython",
    "version": 3
   },
   "file_extension": ".py",
   "mimetype": "text/x-python",
   "name": "python",
   "nbconvert_exporter": "python",
   "pygments_lexer": "ipython3",
   "version": "3.9.19"
  }
 },
 "nbformat": 4,
 "nbformat_minor": 5
}
