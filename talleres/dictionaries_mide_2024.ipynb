{
  "cells": [
    {
      "cell_type": "markdown",
      "id": "b63cd5f4",
      "metadata": {
        "id": "b63cd5f4"
      },
      "source": [
        "# Diccionarios\n",
        "<a href=\"https://colab.research.google.com/github/milocortes/diplomado_ciencia_datos_mide/blob/edicion-2024/talleres/dictionaries_mide_2024.ipynb\" target=\"_parent\"><img src=\"https://colab.research.google.com/assets/colab-badge.svg\" alt=\"Open In Colab\"/></a>\n",
        "![hash_table.png](attachment:hash_table.png)\n",
        "source: https://khalilstemmler.com/blogs/data-structures-algorithms/hash-tables/\n"
      ]
    },
    {
      "cell_type": "markdown",
      "id": "0d3abd8b",
      "metadata": {
        "id": "0d3abd8b"
      },
      "source": [
        "## Diccionarios\n",
        "\n",
        "Diccionarios es el nombre de Python para arreglos o mapeos asociativos, que implementa mediante el uso de tablas hash.\n",
        "\n",
        "Los diccionarios son increíblemente útiles, incluso en programas simples."
      ]
    },
    {
      "cell_type": "markdown",
      "id": "5469eb3b",
      "metadata": {
        "id": "5469eb3b"
      },
      "source": [
        "## ¿Qué es un diccionario?\n",
        "\n",
        "Una buena forma de empezar a entender el uso de los diccionarios es compararlos con listas:\n",
        "\n",
        "* Se accede a los valores en las listas por medio de números enteros llamados **índices**, que indican en qué parte de la lista se encuentra un valor dado.\n",
        "* Los diccionarios acceden a los valores por medio de números enteros, cadenas u otros objetos de Python llamados **llave**, que indican en qué parte del diccionario se encuentra un valor determinado. El mecanismo que utilizan los diccionarios para proporcionar acceso indizado es bastante diferente del que utilizan las listas.\n",
        "* Tanto las listas como los diccionarios pueden almacenar objetos de cualquier tipo..\n",
        "* Los valores almacenados en una lista están implícitamente *ordenados* por sus posiciones en la lista, porque los índices que acceden a estos valores son enteros consecutivos. Los valores almacenados en un diccionario *no* están ordenados implícitamente entre sí porque las claves del diccionario no son solo números."
      ]
    },
    {
      "cell_type": "markdown",
      "id": "3e5ce6e9",
      "metadata": {
        "id": "3e5ce6e9"
      },
      "source": [
        "El uso de diccionarios y listas a menudo parece ser el mismo. Un diccionario vacío se crea como una lista vacía, pero con corchetes en lugar de corchetes cuadrados:"
      ]
    },
    {
      "cell_type": "code",
      "execution_count": 2,
      "id": "ea204224",
      "metadata": {
        "colab": {
          "base_uri": "https://localhost:8080/"
        },
        "id": "ea204224",
        "outputId": "26059b4a-ca0a-43d0-9d96-3b10d2ad1ec7"
      },
      "outputs": [
        {
          "data": {
            "text/plain": [
              "list"
            ]
          },
          "execution_count": 2,
          "metadata": {},
          "output_type": "execute_result"
        }
      ],
      "source": [
        "x = [] # lista vacia\n",
        "type(x)"
      ]
    },
    {
      "cell_type": "code",
      "execution_count": 3,
      "id": "o7tlbedVd3ng",
      "metadata": {
        "colab": {
          "base_uri": "https://localhost:8080/"
        },
        "id": "o7tlbedVd3ng",
        "outputId": "940c9f84-2c13-4164-a785-5371a4d99b27"
      },
      "outputs": [
        {
          "data": {
            "text/plain": [
              "dict"
            ]
          },
          "execution_count": 3,
          "metadata": {},
          "output_type": "execute_result"
        }
      ],
      "source": [
        "y = {} # diccionario vacio\n",
        "type(y)"
      ]
    },
    {
      "cell_type": "markdown",
      "id": "88ec11ab",
      "metadata": {
        "id": "88ec11ab"
      },
      "source": [
        "Después de crear un diccionario, puede almacenar valores en él como si fuera una lista:"
      ]
    },
    {
      "cell_type": "code",
      "execution_count": 5,
      "id": "7b68f0c6",
      "metadata": {
        "colab": {
          "base_uri": "https://localhost:8080/"
        },
        "id": "7b68f0c6",
        "outputId": "92bdbbfb-b06a-4877-dd27-60beff9044d0"
      },
      "outputs": [
        {
          "data": {
            "text/plain": [
              "1"
            ]
          },
          "execution_count": 5,
          "metadata": {},
          "output_type": "execute_result"
        }
      ],
      "source": [
        "y = {\"uno\" : 1, \"dos\" : 2}\n",
        "y[\"uno\"]"
      ]
    },
    {
      "cell_type": "code",
      "execution_count": 10,
      "id": "lG1y7eduedcE",
      "metadata": {
        "colab": {
          "base_uri": "https://localhost:8080/"
        },
        "id": "lG1y7eduedcE",
        "outputId": "e0ecfb73-6f9c-46b2-a612-c1954b1f05cc"
      },
      "outputs": [
        {
          "data": {
            "text/plain": [
              "{'uno': 1, 'dos': 2}"
            ]
          },
          "execution_count": 10,
          "metadata": {},
          "output_type": "execute_result"
        }
      ],
      "source": [
        "y"
      ]
    },
    {
      "cell_type": "code",
      "execution_count": 11,
      "id": "PHLrNl8EeoE7",
      "metadata": {
        "colab": {
          "base_uri": "https://localhost:8080/"
        },
        "id": "PHLrNl8EeoE7",
        "outputId": "9d3f7362-4c9e-4d4b-b30a-cb557e19804b"
      },
      "outputs": [
        {
          "data": {
            "text/plain": [
              "{'uno': 1, 'dos': 2, 'tres': 3}"
            ]
          },
          "execution_count": 11,
          "metadata": {},
          "output_type": "execute_result"
        }
      ],
      "source": [
        "y[\"tres\"] = 3\n",
        "y"
      ]
    },
    {
      "cell_type": "code",
      "execution_count": 18,
      "id": "8yo_6P40fHox",
      "metadata": {
        "colab": {
          "base_uri": "https://localhost:8080/"
        },
        "id": "8yo_6P40fHox",
        "outputId": "11ad3be8-0edd-4715-bd07-f4b8d186ba68"
      },
      "outputs": [
        {
          "data": {
            "text/plain": [
              "{'uno': 1, 'dos': 2, 'tres': 3, 4: 'cuatro', (98.56, 45.97): 'Chapultepec'}"
            ]
          },
          "execution_count": 18,
          "metadata": {},
          "output_type": "execute_result"
        }
      ],
      "source": [
        "y[4] = \"cuatro\"\n",
        "y[(98.56,45.97)] = \"Chapultepec\"\n",
        "y"
      ]
    },
    {
      "cell_type": "code",
      "execution_count": 14,
      "id": "lFcZ7n5ueZpO",
      "metadata": {
        "colab": {
          "base_uri": "https://localhost:8080/"
        },
        "id": "lFcZ7n5ueZpO",
        "outputId": "dc80d2d6-b7ab-43da-a383-8c86b366a48a"
      },
      "outputs": [
        {
          "data": {
            "text/plain": [
              "[1, 2, 3, 2100]"
            ]
          },
          "execution_count": 14,
          "metadata": {},
          "output_type": "execute_result"
        }
      ],
      "source": [
        "x = [1,2,3]\n",
        "x.append(2100)\n",
        "x"
      ]
    },
    {
      "cell_type": "markdown",
      "id": "76378069",
      "metadata": {
        "id": "76378069"
      },
      "source": [
        "Intentar hacer lo mismo con una lista daría como resultado un error, porque en python es ilegal asignar una posición que no existe en una lista."
      ]
    },
    {
      "cell_type": "code",
      "execution_count": null,
      "id": "c3da7429",
      "metadata": {
        "id": "c3da7429"
      },
      "outputs": [],
      "source": []
    },
    {
      "cell_type": "markdown",
      "id": "b34c6ce0",
      "metadata": {
        "id": "b34c6ce0"
      },
      "source": [
        "Habiendo almacenado algunos valores en el diccionario, ahora puede acceder a ellos y usarlos:"
      ]
    },
    {
      "cell_type": "code",
      "execution_count": null,
      "id": "7e861b59",
      "metadata": {
        "id": "7e861b59"
      },
      "outputs": [],
      "source": []
    },
    {
      "cell_type": "markdown",
      "id": "5e905008",
      "metadata": {
        "id": "5e905008"
      },
      "source": [
        "La gran diferencia con respecto a las listas: almacena (y usa) algunos valores con llaves que no son números enteros:"
      ]
    },
    {
      "cell_type": "code",
      "execution_count": null,
      "id": "bba762e5",
      "metadata": {
        "id": "bba762e5"
      },
      "outputs": [],
      "source": []
    },
    {
      "cell_type": "markdown",
      "id": "31669e69",
      "metadata": {
        "id": "31669e69"
      },
      "source": [
        "Mientras que los índices de lista deben ser números enteros, las llaves de los diccionario están mucho menos restringidas: pueden ser números, strings, y una amplia gama mas de otros objetos de Python.\n",
        "\n",
        "Tiene más sentido implementar un directorio telefónico con diccionarios que con una lista porque el número de teléfono de una persona puede almacenarse utilizando como llave el apellido de esa persona.\n",
        "\n",
        "**Un diccionario es una forma de asignar una asociación entre un conjunto de objetos arbitrarios a otro conjunto de objetos igualmente arbitrario**\n",
        "\n",
        "\n",
        "Un diccionario de traducción es un buen ejemplo:"
      ]
    },
    {
      "cell_type": "code",
      "execution_count": 19,
      "id": "f452b11c",
      "metadata": {
        "colab": {
          "base_uri": "https://localhost:8080/"
        },
        "id": "f452b11c",
        "outputId": "de6e4991-4985-4302-e0e3-ad520a045a6e"
      },
      "outputs": [
        {
          "data": {
            "text/plain": [
              "{'red': 'rojo', 'azul': 'azul'}"
            ]
          },
          "execution_count": 19,
          "metadata": {},
          "output_type": "execute_result"
        }
      ],
      "source": [
        "ingles_a_espaniol = {}\n",
        "\n",
        "ingles_a_espaniol[\"red\"] = \"rojo\"\n",
        "ingles_a_espaniol[\"azul\"] = \"azul\"\n",
        "ingles_a_espaniol"
      ]
    },
    {
      "cell_type": "code",
      "execution_count": 20,
      "id": "a74t1wd0gCCf",
      "metadata": {
        "colab": {
          "base_uri": "https://localhost:8080/"
        },
        "id": "a74t1wd0gCCf",
        "outputId": "785752b0-239d-4684-ebe7-7f75a046e4ca"
      },
      "outputs": [
        {
          "data": {
            "text/plain": [
              "{'red': 'rojo', 'blue': 'azul'}"
            ]
          },
          "execution_count": 20,
          "metadata": {},
          "output_type": "execute_result"
        }
      ],
      "source": [
        "ingles_a_espaniol = {\"red\" : \"rojo\", \"blue\": \"azul\"}\n",
        "ingles_a_espaniol"
      ]
    },
    {
      "cell_type": "code",
      "execution_count": 22,
      "id": "sw9p9wKIgLJj",
      "metadata": {
        "colab": {
          "base_uri": "https://localhost:8080/"
        },
        "id": "sw9p9wKIgLJj",
        "outputId": "b9f08173-6a30-4dc1-aa43-6861ae10578b"
      },
      "outputs": [
        {
          "data": {
            "text/plain": [
              "dict_values(['rojo', 'azul'])"
            ]
          },
          "execution_count": 22,
          "metadata": {},
          "output_type": "execute_result"
        }
      ],
      "source": [
        "ingles_a_espaniol.values()\n"
      ]
    },
    {
      "cell_type": "code",
      "execution_count": 25,
      "id": "UZQLkChKgRk0",
      "metadata": {
        "colab": {
          "base_uri": "https://localhost:8080/"
        },
        "id": "UZQLkChKgRk0",
        "outputId": "40ec1278-d1e7-43f2-8958-25174fe4009d"
      },
      "outputs": [
        {
          "name": "stdout",
          "output_type": "stream",
          "text": [
            "La llave es red y su valor es rojo\n",
            "La llave es blue y su valor es azul\n"
          ]
        }
      ],
      "source": [
        "for key,value in ingles_a_espaniol.items():\n",
        "  print(f\"La llave es {key} y su valor es {value}\")"
      ]
    },
    {
      "cell_type": "code",
      "execution_count": 28,
      "id": "glyL2zgdgwvX",
      "metadata": {
        "colab": {
          "base_uri": "https://localhost:8080/"
        },
        "id": "glyL2zgdgwvX",
        "outputId": "c598bd98-b268-4b40-996b-a851c817ea45"
      },
      "outputs": [
        {
          "data": {
            "text/plain": [
              "False"
            ]
          },
          "execution_count": 28,
          "metadata": {},
          "output_type": "execute_result"
        }
      ],
      "source": [
        "\"orange\" in ingles_a_espaniol"
      ]
    },
    {
      "cell_type": "code",
      "execution_count": 30,
      "id": "VPAFZiXQhbzT",
      "metadata": {
        "id": "VPAFZiXQhbzT"
      },
      "outputs": [],
      "source": [
        "if \"orange\" in ingles_a_espaniol:\n",
        "  ingles_a_espaniol[\"orange\"]"
      ]
    },
    {
      "cell_type": "code",
      "execution_count": 38,
      "id": "v8nHYgEHhuUh",
      "metadata": {
        "colab": {
          "base_uri": "https://localhost:8080/",
          "height": 36
        },
        "id": "v8nHYgEHhuUh",
        "outputId": "369f0d2a-8657-46db-bdf8-7fcaef1025f7"
      },
      "outputs": [
        {
          "data": {
            "application/vnd.google.colaboratory.intrinsic+json": {
              "type": "string"
            },
            "text/plain": [
              "'No existe traducción'"
            ]
          },
          "execution_count": 38,
          "metadata": {},
          "output_type": "execute_result"
        }
      ],
      "source": [
        "resultado = ingles_a_espaniol.get(\"orange\", \"No existe traducción\")\n",
        "resultado"
      ]
    },
    {
      "cell_type": "code",
      "execution_count": 41,
      "id": "QIqkPei0iJwg",
      "metadata": {
        "colab": {
          "base_uri": "https://localhost:8080/",
          "height": 36
        },
        "id": "QIqkPei0iJwg",
        "outputId": "12d471d1-4164-42e0-9fe1-6af57b8017c6"
      },
      "outputs": [
        {
          "data": {
            "application/vnd.google.colaboratory.intrinsic+json": {
              "type": "string"
            },
            "text/plain": [
              "'naranja'"
            ]
          },
          "execution_count": 41,
          "metadata": {},
          "output_type": "execute_result"
        }
      ],
      "source": [
        "ingles_a_espaniol.setdefault(\"orange\", \"naranja\")\n"
      ]
    },
    {
      "cell_type": "code",
      "execution_count": 42,
      "id": "ZkODP8PFiaDb",
      "metadata": {
        "colab": {
          "base_uri": "https://localhost:8080/"
        },
        "id": "ZkODP8PFiaDb",
        "outputId": "f0cdd5ec-9d5c-465e-ab58-836ecc83cf09"
      },
      "outputs": [
        {
          "data": {
            "text/plain": [
              "{'red': 'rojo', 'blue': 'azul', 'orange': 'naranja'}"
            ]
          },
          "execution_count": 42,
          "metadata": {},
          "output_type": "execute_result"
        }
      ],
      "source": [
        "ingles_a_espaniol"
      ]
    },
    {
      "cell_type": "code",
      "execution_count": 35,
      "id": "tYEFUyxGh5cl",
      "metadata": {
        "colab": {
          "base_uri": "https://localhost:8080/"
        },
        "id": "tYEFUyxGh5cl",
        "outputId": "299a9346-538b-4b14-f876-996c66ed01b0"
      },
      "outputs": [
        {
          "data": {
            "text/plain": [
              "NoneType"
            ]
          },
          "execution_count": 35,
          "metadata": {},
          "output_type": "execute_result"
        }
      ],
      "source": [
        "type(None)"
      ]
    },
    {
      "cell_type": "markdown",
      "id": "84833796",
      "metadata": {
        "id": "84833796"
      },
      "source": [
        "## Otras operaciones con diccionarios\n",
        "\n",
        "Puede definir un diccionario explícitamente como una serie de parejas llave-valor separados por comas:"
      ]
    },
    {
      "cell_type": "code",
      "execution_count": 47,
      "id": "3ac3da07",
      "metadata": {
        "colab": {
          "base_uri": "https://localhost:8080/"
        },
        "id": "3ac3da07",
        "outputId": "ea383be8-aead-4774-a918-f69d00c27b1f"
      },
      "outputs": [
        {
          "data": {
            "text/plain": [
              "{0: 'cero', 1: 'uno'}"
            ]
          },
          "execution_count": 47,
          "metadata": {},
          "output_type": "execute_result"
        }
      ],
      "source": [
        "x = { 0 : \"cero\", 1 : \"uno\"}\n",
        "y = x.copy()\n",
        "y[1] = \"cien\"\n",
        "\n",
        "x\n"
      ]
    },
    {
      "cell_type": "code",
      "execution_count": 58,
      "id": "cfdPaBy7jDul",
      "metadata": {
        "colab": {
          "base_uri": "https://localhost:8080/"
        },
        "id": "cfdPaBy7jDul",
        "outputId": "ec357bae-29f0-4377-8570-67921d92dae3"
      },
      "outputs": [
        {
          "data": {
            "text/plain": [
              "{1: 'uno', 2: 'Dos', 0: 'Cero', 3: 'Tres'}"
            ]
          },
          "execution_count": 58,
          "metadata": {},
          "output_type": "execute_result"
        }
      ],
      "source": [
        "z = {1 : \"Uno\", 2 : \"Dos\"}\n",
        "x = {0 : \"Cero\", 1 : \"uno\", 3 : \"Tres\"}\n",
        "z.update(x)\n",
        "z"
      ]
    },
    {
      "cell_type": "code",
      "execution_count": null,
      "id": "AAHzO4d6kfn2",
      "metadata": {
        "id": "AAHzO4d6kfn2"
      },
      "outputs": [],
      "source": [
        "agenda = {\n",
        "    \"Juan\" : {\n",
        "        \"casa\" : \"232323\",\n",
        "        \"oficina\" : \"6767668\"\n",
        "    },\n",
        "    \"Helena\" : {\n",
        "        \"casa\" : \"576767\",\n",
        "        \"oficina\" : \"56667\"\n",
        "    }\n",
        "}"
      ]
    },
    {
      "cell_type": "code",
      "execution_count": 59,
      "id": "Crwr8A-blCQf",
      "metadata": {
        "colab": {
          "base_uri": "https://localhost:8080/",
          "height": 143
        },
        "id": "Crwr8A-blCQf",
        "outputId": "c94d7cb6-029c-4ddd-d42a-4704eaa97bdd"
      },
      "outputs": [
        {
          "data": {
            "application/vnd.google.colaboratory.intrinsic+json": {
              "summary": "{\n  \"name\": \"pd\",\n  \"rows\": 3,\n  \"fields\": [\n    {\n      \"column\": \"a\",\n      \"properties\": {\n        \"dtype\": \"number\",\n        \"std\": 2,\n        \"min\": 1,\n        \"max\": 5,\n        \"num_unique_values\": 3,\n        \"samples\": [\n          1,\n          3,\n          5\n        ],\n        \"semantic_type\": \"\",\n        \"description\": \"\"\n      }\n    },\n    {\n      \"column\": \"b\",\n      \"properties\": {\n        \"dtype\": \"number\",\n        \"std\": 2,\n        \"min\": 2,\n        \"max\": 7,\n        \"num_unique_values\": 3,\n        \"samples\": [\n          2,\n          4,\n          7\n        ],\n        \"semantic_type\": \"\",\n        \"description\": \"\"\n      }\n    }\n  ]\n}",
              "type": "dataframe"
            },
            "text/html": [
              "\n",
              "  <div id=\"df-3af75388-049f-4191-a50a-e124e4e5f920\" class=\"colab-df-container\">\n",
              "    <div>\n",
              "<style scoped>\n",
              "    .dataframe tbody tr th:only-of-type {\n",
              "        vertical-align: middle;\n",
              "    }\n",
              "\n",
              "    .dataframe tbody tr th {\n",
              "        vertical-align: top;\n",
              "    }\n",
              "\n",
              "    .dataframe thead th {\n",
              "        text-align: right;\n",
              "    }\n",
              "</style>\n",
              "<table border=\"1\" class=\"dataframe\">\n",
              "  <thead>\n",
              "    <tr style=\"text-align: right;\">\n",
              "      <th></th>\n",
              "      <th>a</th>\n",
              "      <th>b</th>\n",
              "    </tr>\n",
              "  </thead>\n",
              "  <tbody>\n",
              "    <tr>\n",
              "      <th>0</th>\n",
              "      <td>1</td>\n",
              "      <td>2</td>\n",
              "    </tr>\n",
              "    <tr>\n",
              "      <th>1</th>\n",
              "      <td>3</td>\n",
              "      <td>4</td>\n",
              "    </tr>\n",
              "    <tr>\n",
              "      <th>2</th>\n",
              "      <td>5</td>\n",
              "      <td>7</td>\n",
              "    </tr>\n",
              "  </tbody>\n",
              "</table>\n",
              "</div>\n",
              "    <div class=\"colab-df-buttons\">\n",
              "\n",
              "  <div class=\"colab-df-container\">\n",
              "    <button class=\"colab-df-convert\" onclick=\"convertToInteractive('df-3af75388-049f-4191-a50a-e124e4e5f920')\"\n",
              "            title=\"Convert this dataframe to an interactive table.\"\n",
              "            style=\"display:none;\">\n",
              "\n",
              "  <svg xmlns=\"http://www.w3.org/2000/svg\" height=\"24px\" viewBox=\"0 -960 960 960\">\n",
              "    <path d=\"M120-120v-720h720v720H120Zm60-500h600v-160H180v160Zm220 220h160v-160H400v160Zm0 220h160v-160H400v160ZM180-400h160v-160H180v160Zm440 0h160v-160H620v160ZM180-180h160v-160H180v160Zm440 0h160v-160H620v160Z\"/>\n",
              "  </svg>\n",
              "    </button>\n",
              "\n",
              "  <style>\n",
              "    .colab-df-container {\n",
              "      display:flex;\n",
              "      gap: 12px;\n",
              "    }\n",
              "\n",
              "    .colab-df-convert {\n",
              "      background-color: #E8F0FE;\n",
              "      border: none;\n",
              "      border-radius: 50%;\n",
              "      cursor: pointer;\n",
              "      display: none;\n",
              "      fill: #1967D2;\n",
              "      height: 32px;\n",
              "      padding: 0 0 0 0;\n",
              "      width: 32px;\n",
              "    }\n",
              "\n",
              "    .colab-df-convert:hover {\n",
              "      background-color: #E2EBFA;\n",
              "      box-shadow: 0px 1px 2px rgba(60, 64, 67, 0.3), 0px 1px 3px 1px rgba(60, 64, 67, 0.15);\n",
              "      fill: #174EA6;\n",
              "    }\n",
              "\n",
              "    .colab-df-buttons div {\n",
              "      margin-bottom: 4px;\n",
              "    }\n",
              "\n",
              "    [theme=dark] .colab-df-convert {\n",
              "      background-color: #3B4455;\n",
              "      fill: #D2E3FC;\n",
              "    }\n",
              "\n",
              "    [theme=dark] .colab-df-convert:hover {\n",
              "      background-color: #434B5C;\n",
              "      box-shadow: 0px 1px 3px 1px rgba(0, 0, 0, 0.15);\n",
              "      filter: drop-shadow(0px 1px 2px rgba(0, 0, 0, 0.3));\n",
              "      fill: #FFFFFF;\n",
              "    }\n",
              "  </style>\n",
              "\n",
              "    <script>\n",
              "      const buttonEl =\n",
              "        document.querySelector('#df-3af75388-049f-4191-a50a-e124e4e5f920 button.colab-df-convert');\n",
              "      buttonEl.style.display =\n",
              "        google.colab.kernel.accessAllowed ? 'block' : 'none';\n",
              "\n",
              "      async function convertToInteractive(key) {\n",
              "        const element = document.querySelector('#df-3af75388-049f-4191-a50a-e124e4e5f920');\n",
              "        const dataTable =\n",
              "          await google.colab.kernel.invokeFunction('convertToInteractive',\n",
              "                                                    [key], {});\n",
              "        if (!dataTable) return;\n",
              "\n",
              "        const docLinkHtml = 'Like what you see? Visit the ' +\n",
              "          '<a target=\"_blank\" href=https://colab.research.google.com/notebooks/data_table.ipynb>data table notebook</a>'\n",
              "          + ' to learn more about interactive tables.';\n",
              "        element.innerHTML = '';\n",
              "        dataTable['output_type'] = 'display_data';\n",
              "        await google.colab.output.renderOutput(dataTable, element);\n",
              "        const docLink = document.createElement('div');\n",
              "        docLink.innerHTML = docLinkHtml;\n",
              "        element.appendChild(docLink);\n",
              "      }\n",
              "    </script>\n",
              "  </div>\n",
              "\n",
              "\n",
              "<div id=\"df-25e6891f-6117-41b8-8c78-77a16cff6421\">\n",
              "  <button class=\"colab-df-quickchart\" onclick=\"quickchart('df-25e6891f-6117-41b8-8c78-77a16cff6421')\"\n",
              "            title=\"Suggest charts\"\n",
              "            style=\"display:none;\">\n",
              "\n",
              "<svg xmlns=\"http://www.w3.org/2000/svg\" height=\"24px\"viewBox=\"0 0 24 24\"\n",
              "     width=\"24px\">\n",
              "    <g>\n",
              "        <path d=\"M19 3H5c-1.1 0-2 .9-2 2v14c0 1.1.9 2 2 2h14c1.1 0 2-.9 2-2V5c0-1.1-.9-2-2-2zM9 17H7v-7h2v7zm4 0h-2V7h2v10zm4 0h-2v-4h2v4z\"/>\n",
              "    </g>\n",
              "</svg>\n",
              "  </button>\n",
              "\n",
              "<style>\n",
              "  .colab-df-quickchart {\n",
              "      --bg-color: #E8F0FE;\n",
              "      --fill-color: #1967D2;\n",
              "      --hover-bg-color: #E2EBFA;\n",
              "      --hover-fill-color: #174EA6;\n",
              "      --disabled-fill-color: #AAA;\n",
              "      --disabled-bg-color: #DDD;\n",
              "  }\n",
              "\n",
              "  [theme=dark] .colab-df-quickchart {\n",
              "      --bg-color: #3B4455;\n",
              "      --fill-color: #D2E3FC;\n",
              "      --hover-bg-color: #434B5C;\n",
              "      --hover-fill-color: #FFFFFF;\n",
              "      --disabled-bg-color: #3B4455;\n",
              "      --disabled-fill-color: #666;\n",
              "  }\n",
              "\n",
              "  .colab-df-quickchart {\n",
              "    background-color: var(--bg-color);\n",
              "    border: none;\n",
              "    border-radius: 50%;\n",
              "    cursor: pointer;\n",
              "    display: none;\n",
              "    fill: var(--fill-color);\n",
              "    height: 32px;\n",
              "    padding: 0;\n",
              "    width: 32px;\n",
              "  }\n",
              "\n",
              "  .colab-df-quickchart:hover {\n",
              "    background-color: var(--hover-bg-color);\n",
              "    box-shadow: 0 1px 2px rgba(60, 64, 67, 0.3), 0 1px 3px 1px rgba(60, 64, 67, 0.15);\n",
              "    fill: var(--button-hover-fill-color);\n",
              "  }\n",
              "\n",
              "  .colab-df-quickchart-complete:disabled,\n",
              "  .colab-df-quickchart-complete:disabled:hover {\n",
              "    background-color: var(--disabled-bg-color);\n",
              "    fill: var(--disabled-fill-color);\n",
              "    box-shadow: none;\n",
              "  }\n",
              "\n",
              "  .colab-df-spinner {\n",
              "    border: 2px solid var(--fill-color);\n",
              "    border-color: transparent;\n",
              "    border-bottom-color: var(--fill-color);\n",
              "    animation:\n",
              "      spin 1s steps(1) infinite;\n",
              "  }\n",
              "\n",
              "  @keyframes spin {\n",
              "    0% {\n",
              "      border-color: transparent;\n",
              "      border-bottom-color: var(--fill-color);\n",
              "      border-left-color: var(--fill-color);\n",
              "    }\n",
              "    20% {\n",
              "      border-color: transparent;\n",
              "      border-left-color: var(--fill-color);\n",
              "      border-top-color: var(--fill-color);\n",
              "    }\n",
              "    30% {\n",
              "      border-color: transparent;\n",
              "      border-left-color: var(--fill-color);\n",
              "      border-top-color: var(--fill-color);\n",
              "      border-right-color: var(--fill-color);\n",
              "    }\n",
              "    40% {\n",
              "      border-color: transparent;\n",
              "      border-right-color: var(--fill-color);\n",
              "      border-top-color: var(--fill-color);\n",
              "    }\n",
              "    60% {\n",
              "      border-color: transparent;\n",
              "      border-right-color: var(--fill-color);\n",
              "    }\n",
              "    80% {\n",
              "      border-color: transparent;\n",
              "      border-right-color: var(--fill-color);\n",
              "      border-bottom-color: var(--fill-color);\n",
              "    }\n",
              "    90% {\n",
              "      border-color: transparent;\n",
              "      border-bottom-color: var(--fill-color);\n",
              "    }\n",
              "  }\n",
              "</style>\n",
              "\n",
              "  <script>\n",
              "    async function quickchart(key) {\n",
              "      const quickchartButtonEl =\n",
              "        document.querySelector('#' + key + ' button');\n",
              "      quickchartButtonEl.disabled = true;  // To prevent multiple clicks.\n",
              "      quickchartButtonEl.classList.add('colab-df-spinner');\n",
              "      try {\n",
              "        const charts = await google.colab.kernel.invokeFunction(\n",
              "            'suggestCharts', [key], {});\n",
              "      } catch (error) {\n",
              "        console.error('Error during call to suggestCharts:', error);\n",
              "      }\n",
              "      quickchartButtonEl.classList.remove('colab-df-spinner');\n",
              "      quickchartButtonEl.classList.add('colab-df-quickchart-complete');\n",
              "    }\n",
              "    (() => {\n",
              "      let quickchartButtonEl =\n",
              "        document.querySelector('#df-25e6891f-6117-41b8-8c78-77a16cff6421 button');\n",
              "      quickchartButtonEl.style.display =\n",
              "        google.colab.kernel.accessAllowed ? 'block' : 'none';\n",
              "    })();\n",
              "  </script>\n",
              "</div>\n",
              "\n",
              "    </div>\n",
              "  </div>\n"
            ],
            "text/plain": [
              "   a  b\n",
              "0  1  2\n",
              "1  3  4\n",
              "2  5  7"
            ]
          },
          "execution_count": 59,
          "metadata": {},
          "output_type": "execute_result"
        }
      ],
      "source": [
        "import pandas as pd\n",
        "\n",
        "pd.DataFrame([[1,2], [3,4], [5,7]] , columns = [\"a\", \"b\"])"
      ]
    },
    {
      "cell_type": "code",
      "execution_count": 64,
      "id": "fLIfBf4IlUvb",
      "metadata": {
        "colab": {
          "base_uri": "https://localhost:8080/"
        },
        "id": "fLIfBf4IlUvb",
        "outputId": "f0968201-fcb0-4838-a3d9-6a96ff3a1619"
      },
      "outputs": [
        {
          "data": {
            "text/plain": [
              "{'01': 'aguascalientes', '02': 'Baja Norte', '03': 'Baja Sur'}"
            ]
          },
          "execution_count": 64,
          "metadata": {},
          "output_type": "execute_result"
        }
      ],
      "source": [
        "df = pd.DataFrame(\n",
        "    {\n",
        "        \"clave\" : [\"01\", \"02\", \"03\"],\n",
        "        \"edo\" : [\"aguascalientes\", \"Baja Norte\", \"Baja Sur\"]\n",
        "    }\n",
        ")\n",
        "{i:j for i,j in df.to_records(index = False)}"
      ]
    },
    {
      "cell_type": "code",
      "execution_count": 56,
      "id": "kLBF4dWGkIBM",
      "metadata": {
        "colab": {
          "base_uri": "https://localhost:8080/",
          "height": 141
        },
        "id": "kLBF4dWGkIBM",
        "outputId": "543056a0-f900-455c-c65b-f0bf2d29b079"
      },
      "outputs": [
        {
          "ename": "KeyError",
          "evalue": "1",
          "output_type": "error",
          "traceback": [
            "\u001b[0;31m---------------------------------------------------------------------------\u001b[0m",
            "\u001b[0;31mKeyError\u001b[0m                                  Traceback (most recent call last)",
            "\u001b[0;32m<ipython-input-56-3e82ac652218>\u001b[0m in \u001b[0;36m<cell line: 1>\u001b[0;34m()\u001b[0m\n\u001b[0;32m----> 1\u001b[0;31m \u001b[0;32mdel\u001b[0m \u001b[0mz\u001b[0m\u001b[0;34m[\u001b[0m\u001b[0;36m1\u001b[0m\u001b[0;34m]\u001b[0m\u001b[0;34m\u001b[0m\u001b[0;34m\u001b[0m\u001b[0m\n\u001b[0m",
            "\u001b[0;31mKeyError\u001b[0m: 1"
          ]
        }
      ],
      "source": [
        "del z[1]"
      ]
    },
    {
      "cell_type": "code",
      "execution_count": 55,
      "id": "n4jszPGokLsB",
      "metadata": {
        "colab": {
          "base_uri": "https://localhost:8080/"
        },
        "id": "n4jszPGokLsB",
        "outputId": "f2880e1c-7963-46a2-c909-17dd475c5943"
      },
      "outputs": [
        {
          "data": {
            "text/plain": [
              "{2: 'Dos', 0: 'Cero'}"
            ]
          },
          "execution_count": 55,
          "metadata": {},
          "output_type": "execute_result"
        }
      ],
      "source": [
        "z"
      ]
    },
    {
      "cell_type": "code",
      "execution_count": 67,
      "id": "1mFWnKyDjgAi",
      "metadata": {
        "colab": {
          "base_uri": "https://localhost:8080/"
        },
        "id": "1mFWnKyDjgAi",
        "outputId": "1ffd1a0e-79dd-4519-f7ae-0d9d790b0bca"
      },
      "outputs": [
        {
          "data": {
            "text/plain": [
              "{('Juan', '12121989', 'México'): 'CUEDEN2323',\n",
              " ('Juan', '12121989', 'Canadá'): 'FEBINBINT5'}"
            ]
          },
          "execution_count": 67,
          "metadata": {},
          "output_type": "execute_result"
        }
      ],
      "source": [
        "{(\"Juan\", \"12121989\", \"México\") : \"CUEDEN2323\",\n",
        " (\"Juan\", \"12121989\", \"Canadá\") : \"FEBINBINT5\"}"
      ]
    },
    {
      "cell_type": "code",
      "execution_count": 46,
      "id": "yyofLZcAi59s",
      "metadata": {
        "id": "yyofLZcAi59s"
      },
      "outputs": [],
      "source": []
    },
    {
      "cell_type": "markdown",
      "id": "c66c1098",
      "metadata": {
        "id": "c66c1098"
      },
      "source": [
        "<code>len</code> devuelve el número de parejas en un diccionario:"
      ]
    },
    {
      "cell_type": "code",
      "execution_count": null,
      "id": "ce100266",
      "metadata": {
        "id": "ce100266"
      },
      "outputs": [],
      "source": []
    },
    {
      "cell_type": "markdown",
      "id": "ad8f74b8",
      "metadata": {
        "id": "ad8f74b8"
      },
      "source": [
        "Puedes obtener todas las claves del diccionario con el método <code>keys</code>."
      ]
    },
    {
      "cell_type": "code",
      "execution_count": null,
      "id": "dbdbf112",
      "metadata": {
        "id": "dbdbf112"
      },
      "outputs": [],
      "source": []
    },
    {
      "cell_type": "markdown",
      "id": "dda01360",
      "metadata": {
        "id": "dda01360"
      },
      "source": [
        "También es posible obtener todos los valores almacenados en un diccionario usando  <code>values</code>:"
      ]
    },
    {
      "cell_type": "code",
      "execution_count": null,
      "id": "1841d07c",
      "metadata": {
        "id": "1841d07c"
      },
      "outputs": [],
      "source": []
    },
    {
      "cell_type": "markdown",
      "id": "0664ccc0",
      "metadata": {
        "id": "0664ccc0"
      },
      "source": [
        "Puede usar el método <code>items</code> para devolver todas las llaves y sus valores asociados como una secuencia de tuplas:"
      ]
    },
    {
      "cell_type": "code",
      "execution_count": null,
      "id": "6d10eb26",
      "metadata": {
        "id": "6d10eb26"
      },
      "outputs": [],
      "source": []
    },
    {
      "cell_type": "markdown",
      "id": "8ff29632",
      "metadata": {
        "id": "8ff29632"
      },
      "source": [
        "Intentar acceder a una clave que no está en un diccionario es un error en Python"
      ]
    },
    {
      "cell_type": "code",
      "execution_count": null,
      "id": "5d6b8a13",
      "metadata": {
        "id": "5d6b8a13"
      },
      "outputs": [],
      "source": []
    },
    {
      "cell_type": "markdown",
      "id": "0076e783",
      "metadata": {
        "id": "0076e783"
      },
      "source": [
        "Para manejar este error, puede probar si la llave se encuentra en el diccionario con la palabra reservada <code>in</code>, que devuelve <code>True</code> si un diccionario tiene un valor almacenado bajo la llave dada y <code>Falso</code> en caso contrario:"
      ]
    },
    {
      "cell_type": "code",
      "execution_count": null,
      "id": "2f4b1722",
      "metadata": {
        "id": "2f4b1722"
      },
      "outputs": [],
      "source": []
    },
    {
      "cell_type": "code",
      "execution_count": null,
      "id": "acf0b09c",
      "metadata": {
        "id": "acf0b09c"
      },
      "outputs": [],
      "source": []
    },
    {
      "cell_type": "markdown",
      "id": "f66570f3",
      "metadata": {
        "id": "f66570f3"
      },
      "source": [
        "Alternativamente, se puede utilizar la función <code>get</code>. Esta función devuelve el valor asociado\n",
        "con una llave si el diccionario contiene esa clave, pero devuelve su segundo argumento si el\n",
        "el diccionario no contiene la clave:"
      ]
    },
    {
      "cell_type": "code",
      "execution_count": null,
      "id": "71998aa4",
      "metadata": {
        "id": "71998aa4"
      },
      "outputs": [],
      "source": []
    },
    {
      "cell_type": "code",
      "execution_count": null,
      "id": "6011326c",
      "metadata": {
        "id": "6011326c"
      },
      "outputs": [],
      "source": [
        "\n"
      ]
    },
    {
      "cell_type": "markdown",
      "id": "c350ae14",
      "metadata": {
        "id": "c350ae14"
      },
      "source": [
        "El segundo argumento es opcional. Si la llave no se encuentra en el diccionario, <code>get</code> devuelve <code>None</code>."
      ]
    },
    {
      "cell_type": "markdown",
      "id": "27dcb627",
      "metadata": {
        "id": "27dcb627"
      },
      "source": [
        "Si se desea obtener de forma segura el valor de una clave y asegurarse de que esté definida en un valor\n",
        "predeterminado en el diccionario, se puede usar el método <code>setdefault</code>:\n"
      ]
    },
    {
      "cell_type": "code",
      "execution_count": null,
      "id": "7a8f7c44",
      "metadata": {
        "id": "7a8f7c44"
      },
      "outputs": [],
      "source": []
    },
    {
      "cell_type": "code",
      "execution_count": null,
      "id": "27d5cad1",
      "metadata": {
        "id": "27d5cad1"
      },
      "outputs": [],
      "source": []
    },
    {
      "cell_type": "markdown",
      "id": "6b39f4fe",
      "metadata": {
        "id": "6b39f4fe"
      },
      "source": [
        "La diferencia entre <code>get</code> y <code>setdefault</code> es que después de la llamada a <code>setdefault</code>, hay una llave en el diccionario 'orange' con el valor 'naranja'."
      ]
    },
    {
      "cell_type": "markdown",
      "id": "a000d34b",
      "metadata": {
        "id": "a000d34b"
      },
      "source": [
        "Puede obtener una copia de un diccionario utilizando el método de <code>copy</code>:"
      ]
    },
    {
      "cell_type": "code",
      "execution_count": null,
      "id": "fad73e5f",
      "metadata": {
        "id": "fad73e5f"
      },
      "outputs": [],
      "source": []
    },
    {
      "cell_type": "markdown",
      "id": "ba63b2ce",
      "metadata": {
        "id": "ba63b2ce"
      },
      "source": [
        "Este método hace una copia superficial (*shallow copy*) del diccionario, que probablemente sea todo lo que necesite en la mayoría de las situaciones.\n",
        "\n",
        "\n",
        "Para los diccionarios que contienen objetos modificables como valores (por ejemplo, una lista u otros diccionarios), es posible que desee realizar una copia en profundidad (*deepcopy*) mediante el método <code>deepcopy</code>"
      ]
    },
    {
      "cell_type": "markdown",
      "id": "f8e04510",
      "metadata": {
        "id": "f8e04510"
      },
      "source": [
        "El método <code>update</code> actualiza un primer diccionario con todas las parejas llave-valor de un segundo diccionario. Para las llaves que son comunes a ambos diccionarios, los valores del segundo diccionario sobreescriben a los valores del primero:"
      ]
    },
    {
      "cell_type": "code",
      "execution_count": null,
      "id": "f5362fd6",
      "metadata": {
        "id": "f5362fd6"
      },
      "outputs": [],
      "source": []
    },
    {
      "cell_type": "markdown",
      "id": "326288c5",
      "metadata": {
        "id": "326288c5"
      },
      "source": [
        "Los métodos de diccionario brindan un conjunto completo de herramientas para manipular y usar diccionarios. Para una referencia rápida, la siguiente tabla enumera algunas de las principales funciones del diccionario.\n",
        "![dictionaries_operations.png](attachment:dictionaries_operations.png)"
      ]
    },
    {
      "cell_type": "markdown",
      "id": "05355191",
      "metadata": {
        "id": "05355191"
      },
      "source": [
        "## Conteo de palabras\n",
        "Suponga que tenemos un archivo que contiene una lista de palabras, una palabra por línea. Queremos saber cuántas veces aparece cada palabra en el archivo. Podemos usar los diccionarios para realizar esta tarea."
      ]
    },
    {
      "cell_type": "code",
      "execution_count": null,
      "id": "4207669f",
      "metadata": {
        "id": "4207669f"
      },
      "outputs": [],
      "source": []
    },
    {
      "cell_type": "markdown",
      "id": "5cd13fd6",
      "metadata": {
        "id": "5cd13fd6"
      },
      "source": [
        "## ¿Qué se puede utilizar como llave?\n",
        "\n",
        "Los ejemplos anteriores usan cadenas como claves, pero Python permite usar más que solo cadenas de esta manera. Cualquier objeto de Python que sea inmutable y hashable se puede usar como llave para un diccionario.\n",
        "\n",
        "En Python, un objeto que se puede modificar se denomina **mutable**. Ejemplos:\n",
        "\n",
        "* Listas\n",
        "* Diccionarios\n",
        "\n",
        "\n",
        "Los enteros, cadenas y tuplas son **inmutables**. De manera que podemos usarlos como llaves.\n",
        "\n",
        "Hay una restricción adicional: la llave también debe ser hashable. Para ser hashable, un valor debe tener un valor hash (proporcionado por un método <code>__hash__</code>) que nunca cambia a lo largo de la vida del valor.\n",
        "\n",
        "Eso significa que las tuplas que contienen valores mutables **no** se pueden modificar, aunque las tuplas mismas son técnicamente inmutables."
      ]
    },
    {
      "cell_type": "code",
      "execution_count": null,
      "id": "b9994f3b",
      "metadata": {
        "id": "b9994f3b"
      },
      "outputs": [],
      "source": []
    },
    {
      "cell_type": "markdown",
      "id": "c3283def",
      "metadata": {
        "id": "c3283def"
      },
      "source": [
        "La siguiente tabla ilustra cuáles de los tipos incorporados de Python son inmutables, hashables y elegibles para ser claves de diccionario:\n",
        "\n",
        "![dictionaries_keys.png](attachment:dictionaries_keys.png)"
      ]
    },
    {
      "cell_type": "markdown",
      "id": "1a2864f3",
      "metadata": {
        "id": "1a2864f3"
      },
      "source": [
        "## Matrices dispersas\n",
        "\n",
        "Se presenta un ejemplo de cómo las tuplas y los diccionarios pueden funcionar juntos.\n",
        "\n",
        "En términos matemáticos, una **matriz** es una grid bidimensional de números, generalmente definida en los libros de texto como un grid con corchetes a cada lado.\n",
        "\n",
        "\\begin{bmatrix}\n",
        "    3 & 0 & -2 & 11 \\\\\n",
        "    0 & 9 &  0 & 0 \\\\\n",
        "    0 & 7 &  0 & 0 \\\\\n",
        "    0 & 0 &  0 & -5     \n",
        "\\end{bmatrix}\n",
        "\n",
        "Una forma bastante estándar de representar una matriz de este tipo es mediante una lista de listas. En Python, una matriz se presenta así:"
      ]
    },
    {
      "cell_type": "code",
      "execution_count": null,
      "id": "5383a66f",
      "metadata": {
        "id": "5383a66f"
      },
      "outputs": [],
      "source": []
    },
    {
      "cell_type": "markdown",
      "id": "7d130f7a",
      "metadata": {
        "id": "7d130f7a"
      },
      "source": [
        "Se puede acceder a los elementos de la matriz por número de fila y columna:\n",
        "\n",
        "<code>element  = matrix[rownum][colnum</code>"
      ]
    },
    {
      "cell_type": "markdown",
      "id": "fe902434",
      "metadata": {
        "id": "fe902434"
      },
      "source": [
        "En algunas aplicaciones, como el pronóstico del tiempo, es común que las matrices sean muy grandes. También es común que tales matrices contengan muchos elementos iguales a cero.\n",
        "\n",
        "Para conservar la memoria, es común que dichas matrices se almacenen en una forma en la que solo se almacenan los elementos distintos de cero. Tal representación se denomina **matrices dispersas**.\n",
        "\n",
        "Es simple implementar matrices dispersas usando diccionarios con tuplas como llaves. La matriz dispersa anterior se puede representar de la siguiente manera:"
      ]
    },
    {
      "cell_type": "code",
      "execution_count": null,
      "id": "8748f3c9",
      "metadata": {
        "id": "8748f3c9"
      },
      "outputs": [],
      "source": []
    },
    {
      "cell_type": "markdown",
      "id": "3f400879",
      "metadata": {
        "id": "3f400879"
      },
      "source": [
        "Ahora se puede acceder a un elemento de matriz individual en una fila y un número de columna dados con este código:"
      ]
    },
    {
      "cell_type": "code",
      "execution_count": null,
      "id": "3eea9b82",
      "metadata": {
        "id": "3eea9b82"
      },
      "outputs": [],
      "source": []
    }
  ],
  "metadata": {
    "celltoolbar": "Slideshow",
    "colab": {
      "provenance": []
    },
    "kernelspec": {
      "display_name": "Python 3 (ipykernel)",
      "language": "python",
      "name": "python3"
    },
    "language_info": {
      "codemirror_mode": {
        "name": "ipython",
        "version": 3
      },
      "file_extension": ".py",
      "mimetype": "text/x-python",
      "name": "python",
      "nbconvert_exporter": "python",
      "pygments_lexer": "ipython3",
      "version": "3.7.11"
    }
  },
  "nbformat": 4,
  "nbformat_minor": 5
}
