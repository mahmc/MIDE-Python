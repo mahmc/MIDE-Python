{
  "cells": [
    {
      "cell_type": "markdown",
      "id": "22c92620",
      "metadata": {
        "id": "22c92620"
      },
      "source": [
        "# Numpy\n",
        "<a href=\"https://colab.research.google.com/github/milocortes/diplomado_ciencia_datos_mide/blob/edicion-2024/talleres/numpy_mide_2024.ipynb\" target=\"_parent\"><img src=\"https://colab.research.google.com/assets/colab-badge.svg\" alt=\"Open In Colab\"/></a>\n",
        "\n",
        "\n",
        "![numpy-2.png](attachment:numpy-2.png)\n",
        "source : https://www.oreilly.com/library/view/elegant-scipy/9781491922927/ch01.html\n"
      ]
    },
    {
      "cell_type": "markdown",
      "id": "wJVt3rqxyf1X",
      "metadata": {
        "id": "wJVt3rqxyf1X"
      },
      "source": [
        "# ¿CONOCEN LAS OPERACIONES VECTORIZADAS?"
      ]
    },
    {
      "cell_type": "markdown",
      "id": "9c8c4682",
      "metadata": {
        "id": "9c8c4682"
      },
      "source": [
        "# Numpy\n",
        "\n",
        "**Numpy** es una biblioteca especializada en cálculos numéricos.\n",
        "\n",
        "Numpy es la base de muchas bibliotecas de alto nivel para ciencia de datos y aprendizaje de máquina (Pandas, scikit-learn, TensorFlow, Pytorch, etc.).\n",
        "\n",
        "La estructura básica de Numpy son los **numpy arrays**.\n",
        "\n",
        "Las arreglos de Numpy son similares a la lista de Python pero con algunas ventajas adicionales:\n",
        "\n",
        "* Los Numpy arrays utilizan una cantidad de memoria más pequeña y son más rápidos en la mayoría de los casos.\n",
        "* Los Numpy arrays son más convenientes cuando se accede a más de dos ejes, conocidos como datos *multidimensionales* (las listas multidimensionales son difíciles de acceder y modificar).\n",
        "* Los Numpy arrays tienen una funcionalidad de acceso más poderosa, como es el caso del bradcasting.\n",
        "* **Numpy almacena datos en fragmentos (chunks) contiguos de memoria y admite operaciones vectorizadas en sus datos.**"
      ]
    },
    {
      "cell_type": "code",
      "execution_count": 1,
      "id": "old7pEOTzRQl",
      "metadata": {
        "colab": {
          "base_uri": "https://localhost:8080/"
        },
        "id": "old7pEOTzRQl",
        "outputId": "df89cab0-f763-4dfb-811e-85426d769ff0"
      },
      "outputs": [
        {
          "data": {
            "text/plain": [
              "[[1, 2, 3], [2, 3, 5]]"
            ]
          },
          "execution_count": 1,
          "metadata": {},
          "output_type": "execute_result"
        }
      ],
      "source": [
        "[[1,2,3], [2,3,5]]"
      ]
    },
    {
      "cell_type": "code",
      "execution_count": null,
      "id": "omMVdyOtzRUL",
      "metadata": {
        "id": "omMVdyOtzRUL"
      },
      "outputs": [],
      "source": []
    },
    {
      "cell_type": "markdown",
      "id": "b004404e",
      "metadata": {
        "id": "b004404e"
      },
      "source": [
        "# Dependencias de Numpy\n",
        "\n",
        "![numpy_dependencies.jpeg](attachment:numpy_dependencies.jpeg)"
      ]
    },
    {
      "cell_type": "code",
      "execution_count": 4,
      "id": "1a99c2fa",
      "metadata": {
        "colab": {
          "base_uri": "https://localhost:8080/"
        },
        "id": "1a99c2fa",
        "outputId": "fb901d13-83be-4ae9-fc1a-04ce95e32fd7"
      },
      "outputs": [
        {
          "name": "stdout",
          "output_type": "stream",
          "text": [
            "Build Dependencies:\n",
            "  blas:\n",
            "    detection method: pkgconfig\n",
            "    found: true\n",
            "    include directory: /usr/local/include\n",
            "    lib directory: /usr/local/lib\n",
            "    name: openblas64\n",
            "    openblas configuration: USE_64BITINT=1 DYNAMIC_ARCH=1 DYNAMIC_OLDER= NO_CBLAS=\n",
            "      NO_LAPACK= NO_LAPACKE= NO_AFFINITY=1 USE_OPENMP= HASWELL MAX_THREADS=2\n",
            "    pc file directory: /usr/local/lib/pkgconfig\n",
            "    version: 0.3.23.dev\n",
            "  lapack:\n",
            "    detection method: internal\n",
            "    found: true\n",
            "    include directory: unknown\n",
            "    lib directory: unknown\n",
            "    name: dep139863411681952\n",
            "    openblas configuration: unknown\n",
            "    pc file directory: unknown\n",
            "    version: 1.26.4\n",
            "Compilers:\n",
            "  c:\n",
            "    args: -fno-strict-aliasing\n",
            "    commands: cc\n",
            "    linker: ld.bfd\n",
            "    linker args: -Wl,--strip-debug, -fno-strict-aliasing\n",
            "    name: gcc\n",
            "    version: 10.2.1\n",
            "  c++:\n",
            "    commands: c++\n",
            "    linker: ld.bfd\n",
            "    linker args: -Wl,--strip-debug\n",
            "    name: gcc\n",
            "    version: 10.2.1\n",
            "  cython:\n",
            "    commands: cython\n",
            "    linker: cython\n",
            "    name: cython\n",
            "    version: 3.0.8\n",
            "Machine Information:\n",
            "  build:\n",
            "    cpu: x86_64\n",
            "    endian: little\n",
            "    family: x86_64\n",
            "    system: linux\n",
            "  host:\n",
            "    cpu: x86_64\n",
            "    endian: little\n",
            "    family: x86_64\n",
            "    system: linux\n",
            "Python Information:\n",
            "  path: /opt/python/cp310-cp310/bin/python\n",
            "  version: '3.10'\n",
            "SIMD Extensions:\n",
            "  baseline:\n",
            "  - SSE\n",
            "  - SSE2\n",
            "  - SSE3\n",
            "  found:\n",
            "  - SSSE3\n",
            "  - SSE41\n",
            "  - POPCNT\n",
            "  - SSE42\n",
            "  - AVX\n",
            "  - F16C\n",
            "  - FMA3\n",
            "  - AVX2\n",
            "  not found:\n",
            "  - AVX512F\n",
            "  - AVX512CD\n",
            "  - AVX512_KNL\n",
            "  - AVX512_KNM\n",
            "  - AVX512_SKX\n",
            "  - AVX512_CLX\n",
            "  - AVX512_CNL\n",
            "  - AVX512_ICL\n",
            "\n"
          ]
        }
      ],
      "source": [
        "import numpy as np\n",
        "np.show_config()"
      ]
    },
    {
      "cell_type": "markdown",
      "id": "58022558",
      "metadata": {
        "id": "58022558"
      },
      "source": [
        "# Memoria principal y cachés\n",
        "\n",
        "La **memoria** es en realidad una jerarquía de componentes que almacenan datos, que van desde uno o más niveles de **cachés** pequeños y rápidos hasta una **memoria principal** grande y relativamente lenta:\n",
        "\n",
        "\n",
        "Principio arquitectónico: **los procesadores y la memoria principal están muy separados**.\n",
        "\n",
        "\n",
        "Uno de los retos es tratar de reducir el tiempo (latencia) que lleva acceder a la\n",
        "memoria."
      ]
    },
    {
      "cell_type": "markdown",
      "id": "a525ff08",
      "metadata": {
        "id": "a525ff08"
      },
      "source": [
        "# Procesadores\n",
        "\n",
        "Un multiprocesador consta de múltiples **procesadores** de hardware, cada uno de los cuales ejecuta un programa secuencial.\n",
        "\n",
        "En arquitecturas multiprocesador o de un solo procesador, la unidad básica de tiempo es el **ciclo**: el tiempo que tarda un procesador en buscar y ejecutar una sola instrucción...\n",
        "\n",
        "\n",
        "para buscar? ¿dónde? en la memoria principal.\n",
        "\n"
      ]
    },
    {
      "cell_type": "markdown",
      "id": "cbdebd9a",
      "metadata": {
        "id": "cbdebd9a"
      },
      "source": [
        "# Memoria principal y cachés\n",
        "\n",
        "Los procesadores comparten una memoria principal, que es un arreglo de **palabras** indizadas por una **dirección**.\n",
        "\n",
        "El tamaño de una palabra o una dirección depende de la plataforma, pero normalmente es de 32 o 64 bits.\n",
        "\n",
        "![memoria-principal.jpg](attachment:memoria-principal.jpg)"
      ]
    },
    {
      "cell_type": "markdown",
      "id": "a10d757c",
      "metadata": {
        "id": "a10d757c"
      },
      "source": [
        "\n",
        "Un procesador lee un valor de la memoria enviando un mensaje que contiene la dirección deseada a la memoria.\n",
        "\n",
        "![lee-valor.jpg](attachment:lee-valor.jpg)"
      ]
    },
    {
      "cell_type": "markdown",
      "id": "f2be2541",
      "metadata": {
        "id": "f2be2541"
      },
      "source": [
        "\n",
        "El mensaje de respuesta contiene los **datos** asociados, es decir, el contenido de la memoria en esa dirección.\n",
        "\n",
        "![regresa-valor.jpg](attachment:regresa-valor.jpg)"
      ]
    },
    {
      "cell_type": "markdown",
      "id": "562ee2b6",
      "metadata": {
        "id": "562ee2b6"
      },
      "source": [
        "Un procesador escribe un valor enviando la dirección y los nuevos datos a la memoria, y la memoria envía un reconocimiento cuando se han instalado los nuevos datos.\n",
        "\n",
        "![escribe-valor.jpg](attachment:escribe-valor.jpg)"
      ]
    },
    {
      "cell_type": "markdown",
      "id": "6a6378ba",
      "metadata": {
        "id": "6a6378ba"
      },
      "source": [
        "Recuerda:\n",
        "\n",
        "\n",
        "Principio arquitectónico: **los procesadores y la memoria principal están muy separados**.\n",
        "\n",
        "Un acceso a la memoria principal puede tomar cientos de ciclos, por lo que existe un peligro real que un procesador pase gran parte de su tiempo esperando que la memoria responda a las solicitudes.\n",
        "\n",
        "Los sistemas modernos alivian este problema al introducir uno o más *cachés*: pequeñas memorias que están situadas más cerca de los procesadores y, por lo tanto, son mucho más rápidas que la memoria principal.\n",
        "\n",
        "Estos cachés están situados lógicamente \"entre\" el procesador y la memoria: cuando un procesador intenta leer un valor de una dirección de memoria determinada, primero busca si el valor ya está en el caché y, de ser así, no necesita para realizar el acceso (más lento) a la memoria."
      ]
    },
    {
      "cell_type": "markdown",
      "id": "d1f27091",
      "metadata": {
        "id": "d1f27091"
      },
      "source": [
        "### Cachés *L1*, *L2* y *L3*\n",
        "\n",
        "Si el valor deseado se encuentra en el caché, se dice que el procesador logra un **hit** de caché y, de lo contrario, logra un **miss** de caché.\n",
        "\n",
        "En la práctica, la mayoría de los procesadores tienen dos o tres niveles de cachés, llamados cachés *L1*, *L2* y *L3*. Todo los cachés, a excepción del último (el más grande), normalmente residen en el mismo chip que el procesador.\n",
        "\n",
        "![cache_levels.png](attachment:cache_levels.png)"
      ]
    },
    {
      "cell_type": "markdown",
      "id": "642af3d4",
      "metadata": {
        "id": "642af3d4"
      },
      "source": [
        "# Granularidad\n",
        "\n",
        "Si un procesador lee o escribe una ubicación de memoria, también es probable que lea o escriba ubicaciones *cercanas* .\n",
        "\n",
        "Para aprovechar esto, los cachés suelen operar con una **granularidad** mayor que una sola palabra: un caché contiene un grupo de palabras vecinas llamadas **líneas de caché**.\n"
      ]
    },
    {
      "cell_type": "markdown",
      "id": "5c1f5854",
      "metadata": {
        "id": "5c1f5854"
      },
      "source": [
        "# Operaciones vectorizadas\n",
        "\n",
        "Los procesadores tienen unidades vectoriales especiales que pueden cargar y operar en más de un elemento de datos a la vez.\n",
        "\n",
        "**Vectorización** es el proceso de agrupar operaciones para que se pueda realizar más de una a la vez.\n",
        "![vectorized_operation.png](attachment:vectorized_operation.png)"
      ]
    },
    {
      "cell_type": "markdown",
      "id": "f51ade69",
      "metadata": {
        "id": "f51ade69"
      },
      "source": [
        "# mucha teoría por ahora...  manos a la obra"
      ]
    },
    {
      "cell_type": "code",
      "execution_count": 10,
      "id": "9b7a8bd0",
      "metadata": {
        "colab": {
          "base_uri": "https://localhost:8080/"
        },
        "id": "9b7a8bd0",
        "outputId": "ce104648-9fba-40b4-c321-15b79cf32bb9"
      },
      "outputs": [
        {
          "data": {
            "text/plain": [
              "1"
            ]
          },
          "execution_count": 10,
          "metadata": {},
          "output_type": "execute_result"
        }
      ],
      "source": [
        "import numpy as np\n",
        "\n",
        "a = np.array([2,3,4,5])\n",
        "a.ndim"
      ]
    },
    {
      "cell_type": "code",
      "execution_count": 7,
      "id": "UA12IJP73z2w",
      "metadata": {
        "id": "UA12IJP73z2w"
      },
      "outputs": [],
      "source": []
    },
    {
      "cell_type": "code",
      "execution_count": 11,
      "id": "421c589f",
      "metadata": {
        "colab": {
          "base_uri": "https://localhost:8080/"
        },
        "id": "421c589f",
        "outputId": "a6d054fd-6fda-48e6-c1f3-53f7e86fd071"
      },
      "outputs": [
        {
          "data": {
            "text/plain": [
              "2"
            ]
          },
          "execution_count": 11,
          "metadata": {},
          "output_type": "execute_result"
        }
      ],
      "source": [
        "# Creación de un arreglo 2D a partir de una lista de listas\n",
        "b = np.array([[1,2],\n",
        "              [3,4]])\n",
        "b.ndim"
      ]
    },
    {
      "cell_type": "code",
      "execution_count": 17,
      "id": "AMZCM3g14afI",
      "metadata": {
        "colab": {
          "base_uri": "https://localhost:8080/"
        },
        "id": "AMZCM3g14afI",
        "outputId": "ee13ae04-36f9-4758-d113-2fce81a3d34b"
      },
      "outputs": [
        {
          "data": {
            "text/plain": [
              "array([[1, 2],\n",
              "       [3, 4]])"
            ]
          },
          "execution_count": 17,
          "metadata": {},
          "output_type": "execute_result"
        }
      ],
      "source": [
        "# Creación de un arreglo 2D a partir de una lista de listas\n",
        "d = np.array([[12,23],\n",
        "              [35,44]])\n",
        "b"
      ]
    },
    {
      "cell_type": "code",
      "execution_count": 18,
      "id": "184b380a",
      "metadata": {
        "colab": {
          "base_uri": "https://localhost:8080/"
        },
        "id": "184b380a",
        "outputId": "aec084b8-91b1-41c1-9c6c-a7e081aa0693"
      },
      "outputs": [
        {
          "data": {
            "text/plain": [
              "array([[[1, 2],\n",
              "        [3, 4]],\n",
              "\n",
              "       [[5, 6],\n",
              "        [7, 8]]])"
            ]
          },
          "execution_count": 18,
          "metadata": {},
          "output_type": "execute_result"
        }
      ],
      "source": [
        "# Creación de un arreglo 3D a partir de una lista de listas de listas\n",
        "c = np.array([\n",
        "    [[1, 2], [3, 4]],\n",
        "    [[5, 6], [7, 8]]\n",
        "])\n",
        "c"
      ]
    },
    {
      "cell_type": "code",
      "execution_count": 24,
      "id": "HL8rmVuw42at",
      "metadata": {
        "colab": {
          "base_uri": "https://localhost:8080/"
        },
        "id": "HL8rmVuw42at",
        "outputId": "d590d172-cbe4-4ddc-cfa2-eb80d66d1b8e"
      },
      "outputs": [
        {
          "data": {
            "text/plain": [
              "(4,)"
            ]
          },
          "execution_count": 24,
          "metadata": {},
          "output_type": "execute_result"
        }
      ],
      "source": [
        "a.shape"
      ]
    },
    {
      "cell_type": "code",
      "execution_count": 29,
      "id": "K5DeaIWh5abm",
      "metadata": {
        "colab": {
          "base_uri": "https://localhost:8080/"
        },
        "id": "K5DeaIWh5abm",
        "outputId": "430b8ba4-339a-4c47-bf23-6cf8dde0815e"
      },
      "outputs": [
        {
          "data": {
            "text/plain": [
              "array([[1, 2],\n",
              "       [3, 4]])"
            ]
          },
          "execution_count": 29,
          "metadata": {},
          "output_type": "execute_result"
        }
      ],
      "source": [
        "t = np.array(\n",
        "    [[1,2],\n",
        "     [3,4]]\n",
        ")\n",
        "t"
      ]
    },
    {
      "cell_type": "code",
      "execution_count": 25,
      "id": "JrOGqMS35UrV",
      "metadata": {
        "colab": {
          "base_uri": "https://localhost:8080/"
        },
        "id": "JrOGqMS35UrV",
        "outputId": "bca40618-e181-4a7c-fcc4-8086452778e5"
      },
      "outputs": [
        {
          "data": {
            "text/plain": [
              "(2, 2)"
            ]
          },
          "execution_count": 25,
          "metadata": {},
          "output_type": "execute_result"
        }
      ],
      "source": [
        "b.shape"
      ]
    },
    {
      "cell_type": "code",
      "execution_count": 19,
      "id": "BYK_5Mzi43Nk",
      "metadata": {
        "colab": {
          "base_uri": "https://localhost:8080/"
        },
        "id": "BYK_5Mzi43Nk",
        "outputId": "7d522282-070e-4c70-fa8c-bf82ed99e129"
      },
      "outputs": [
        {
          "data": {
            "text/plain": [
              "array([[[ 1,  4],\n",
              "        [ 9, 16]],\n",
              "\n",
              "       [[ 5, 12],\n",
              "        [21, 32]]])"
            ]
          },
          "execution_count": 19,
          "metadata": {},
          "output_type": "execute_result"
        }
      ],
      "source": []
    },
    {
      "cell_type": "markdown",
      "id": "a97cd682",
      "metadata": {
        "id": "a97cd682"
      },
      "source": [
        "Se pueden realizar operaciones aritméticas con los operadores <code>+</code>, <code>-</code>, <code>*</code>, <code>/</code> en numpy arrays.\n",
        "\n",
        "Estas *element-wise operations* combinan dos matrices <code>a</code> y <code>b</code> (por ejemplo, sumándolas con el operador <code>+</code>) combinando cada elemento del arreglo <code>a</code> con el elemento correspondiente del arreglo <code>b</code>."
      ]
    },
    {
      "cell_type": "code",
      "execution_count": 33,
      "id": "2f195ce4",
      "metadata": {
        "colab": {
          "base_uri": "https://localhost:8080/"
        },
        "id": "2f195ce4",
        "outputId": "1d6f066b-4087-4cdd-9352-96f8ff09bbb2"
      },
      "outputs": [
        {
          "data": {
            "text/plain": [
              "array([[ 0, -1, -1],\n",
              "       [ 0,  0, -1],\n",
              "       [ 1, -1, -2]])"
            ]
          },
          "execution_count": 33,
          "metadata": {},
          "output_type": "execute_result"
        }
      ],
      "source": [
        "a = np.array([[1, 0, 0],\n",
        "              [1, 1, 1],\n",
        "              [2, 0, 0]])\n",
        "b = np.array([[1, 1, 1],\n",
        "              [1, 1, 2],\n",
        "              [1, 1, 2]])\n",
        "\n",
        "a - b"
      ]
    },
    {
      "cell_type": "code",
      "execution_count": null,
      "id": "397842ed",
      "metadata": {
        "id": "397842ed",
        "outputId": "0d11488e-cc55-42a9-f481-2066ae1221e1"
      },
      "outputs": [
        {
          "data": {
            "text/plain": [
              "array([[ 0, -1, -1],\n",
              "       [ 0,  0, -1],\n",
              "       [ 1, -1, -2]])"
            ]
          },
          "execution_count": 8,
          "metadata": {},
          "output_type": "execute_result"
        }
      ],
      "source": [
        "\n"
      ]
    },
    {
      "cell_type": "code",
      "execution_count": null,
      "id": "2508018d",
      "metadata": {
        "id": "2508018d",
        "outputId": "1d681509-1953-4949-c911-cda2e65501ad"
      },
      "outputs": [
        {
          "data": {
            "text/plain": [
              "array([[1, 0, 0],\n",
              "       [1, 1, 2],\n",
              "       [2, 0, 0]])"
            ]
          },
          "execution_count": 9,
          "metadata": {},
          "output_type": "execute_result"
        }
      ],
      "source": []
    },
    {
      "cell_type": "code",
      "execution_count": null,
      "id": "7963f4cc",
      "metadata": {
        "id": "7963f4cc",
        "outputId": "60254baf-e993-492b-d80a-d76466120ef5"
      },
      "outputs": [
        {
          "data": {
            "text/plain": [
              "array([[1. , 0. , 0. ],\n",
              "       [1. , 1. , 0.5],\n",
              "       [2. , 0. , 0. ]])"
            ]
          },
          "execution_count": 10,
          "metadata": {},
          "output_type": "execute_result"
        }
      ],
      "source": []
    },
    {
      "cell_type": "markdown",
      "id": "f59a30e2",
      "metadata": {
        "id": "f59a30e2"
      },
      "source": [
        "Numpy proporciona muchas más capacidades para manipular arreglos, como <code>np.max()</code>, <code>np.min()</code>, <code>np.average()</code > funciones que calculan los valores *máximo*,*mínimo* y *promedio* de todos los valores en un arreglo de numpy,respectivamente."
      ]
    },
    {
      "cell_type": "code",
      "execution_count": 38,
      "id": "f3e7ce5b",
      "metadata": {
        "colab": {
          "base_uri": "https://localhost:8080/"
        },
        "id": "f3e7ce5b",
        "outputId": "c1e45b5b-fbc6-4897-f772-29a24299b499"
      },
      "outputs": [
        {
          "data": {
            "text/plain": [
              "array([2, 1, 1])"
            ]
          },
          "execution_count": 38,
          "metadata": {},
          "output_type": "execute_result"
        }
      ],
      "source": [
        "a = np.array([[1, 0, 0],\n",
        "              [1, 1, 1],\n",
        "              [2, 0, 0]])\n",
        "\n",
        "np.max(a, axis= 0)"
      ]
    },
    {
      "cell_type": "code",
      "execution_count": 39,
      "id": "a0e04bdb",
      "metadata": {
        "colab": {
          "base_uri": "https://localhost:8080/"
        },
        "id": "a0e04bdb",
        "outputId": "05341996-0885-4f8e-a648-77361f8824a4"
      },
      "outputs": [
        {
          "data": {
            "text/plain": [
              "array([1, 0, 0])"
            ]
          },
          "execution_count": 39,
          "metadata": {},
          "output_type": "execute_result"
        }
      ],
      "source": [
        "np.min(a, axis= 0)"
      ]
    },
    {
      "cell_type": "code",
      "execution_count": 41,
      "id": "fa1b6f20",
      "metadata": {
        "colab": {
          "base_uri": "https://localhost:8080/"
        },
        "id": "fa1b6f20",
        "outputId": "4d84a46f-897e-4222-cd81-5ec125cce4e5"
      },
      "outputs": [
        {
          "data": {
            "text/plain": [
              "0.6666666666666666"
            ]
          },
          "execution_count": 41,
          "metadata": {},
          "output_type": "execute_result"
        }
      ],
      "source": [
        "np.average(a)"
      ]
    },
    {
      "cell_type": "markdown",
      "id": "f3f2c5d0",
      "metadata": {
        "id": "f3f2c5d0"
      },
      "source": [
        "# Problema 1\n",
        "\n",
        "Abordemos este problema utilizando los datos salariales de Alice, Bob y Tim.\n",
        "\n",
        "Parece que Bob tiene del salario más alto de los últimos tres años.\n",
        "\n",
        "Pero, ¿realmente tiene un mayor ingreso considerando la tasa de impuestos individuales respectiva a cada individuo?"
      ]
    },
    {
      "cell_type": "code",
      "execution_count": 42,
      "id": "3bddb149",
      "metadata": {
        "id": "3bddb149"
      },
      "outputs": [],
      "source": [
        "## Data : yearly, salary in ($1000) [2017, 2018, 2019]\n",
        "alice = [99, 101, 103]\n",
        "bob = [110, 108, 105]\n",
        "tim = [90, 88, 85]\n",
        "\n",
        "salaries = np.array([alice,bob,tim])\n",
        "taxation = np.array([[0.2, 0.25, 0.22],[0.4,0.5,0.5],[0.1,0.2,0.1]])\n",
        "\n",
        "# La multiplicación elemento por elemento de dos arreglos multidimensionales es denominado el producto Hadamard\n"
      ]
    },
    {
      "cell_type": "code",
      "execution_count": 49,
      "id": "5a4842ec",
      "metadata": {
        "colab": {
          "base_uri": "https://localhost:8080/"
        },
        "id": "5a4842ec",
        "outputId": "fca1fef5-6d1c-4f4d-ac34-ea9a3fa175d2"
      },
      "outputs": [
        {
          "data": {
            "text/plain": [
              "81.0"
            ]
          },
          "execution_count": 49,
          "metadata": {},
          "output_type": "execute_result"
        }
      ],
      "source": [
        "np.max(salaries - salaries*taxation)"
      ]
    },
    {
      "cell_type": "code",
      "execution_count": 50,
      "id": "GDAZljbf6xa2",
      "metadata": {
        "colab": {
          "base_uri": "https://localhost:8080/"
        },
        "id": "GDAZljbf6xa2",
        "outputId": "9ffddd5c-a8ec-4599-f4ba-f979437a0d46"
      },
      "outputs": [
        {
          "data": {
            "text/plain": [
              "array([[79.2 , 75.75, 80.34],\n",
              "       [66.  , 54.  , 52.5 ],\n",
              "       [81.  , 70.4 , 76.5 ]])"
            ]
          },
          "execution_count": 50,
          "metadata": {},
          "output_type": "execute_result"
        }
      ],
      "source": [
        "salaries - salaries*taxation"
      ]
    },
    {
      "cell_type": "markdown",
      "id": "23decea4",
      "metadata": {
        "id": "23decea4"
      },
      "source": [
        "# Slicing, Broadcasting y tipos de arreglos\n",
        "\n",
        "La indización y segmentación en numpy son similares a la indización y segmentación en Python: se accede a los elementos de una arreglo unidimensional mediante la operación de paréntesis <code>[]</code> para especificar el índice o el rango del índice.\n",
        "\n",
        "También se puede usar la indización para un arreglo multidimensional especificando el índice para cada dimensión de forma independiente y usando índices separados por comas para acceder a las diferentes dimensiones.\n",
        "\n",
        "Por ejemplo, la operación de indexación <code>y[0,1,2]</code> accedería al primer elemento del primer eje, al segundo elemento del segundo eje y al tercer elemento del tercer eje."
      ]
    },
    {
      "cell_type": "code",
      "execution_count": 56,
      "id": "f8c6991a",
      "metadata": {
        "colab": {
          "base_uri": "https://localhost:8080/"
        },
        "id": "f8c6991a",
        "outputId": "4df9ed61-cefc-4c0c-bf50-81b7918ab034"
      },
      "outputs": [
        {
          "data": {
            "text/plain": [
              "10"
            ]
          },
          "execution_count": 56,
          "metadata": {},
          "output_type": "execute_result"
        }
      ],
      "source": [
        "y = np.array([\n",
        "    [[1, 2, 3], [4, 5, 6]],\n",
        "    [[6, 7, 8], [8, 9, 10]]\n",
        "])\n",
        "\n",
        "y[1,1,2]"
      ]
    },
    {
      "cell_type": "markdown",
      "id": "6ed14624",
      "metadata": {
        "id": "6ed14624"
      },
      "source": [
        "Los siguientes son ejemplos de segmentación en numpy:"
      ]
    },
    {
      "cell_type": "code",
      "execution_count": 58,
      "id": "59260c68",
      "metadata": {
        "colab": {
          "base_uri": "https://localhost:8080/"
        },
        "id": "59260c68",
        "outputId": "551c13c7-fcef-40df-fb50-b0bbda773b34"
      },
      "outputs": [
        {
          "data": {
            "text/plain": [
              "array([57, 58, 59, 60, 61])"
            ]
          },
          "execution_count": 58,
          "metadata": {},
          "output_type": "execute_result"
        }
      ],
      "source": [
        "a = np.array([55, 56, 57, 58, 59, 60, 61])\n",
        "a[2:]"
      ]
    },
    {
      "cell_type": "code",
      "execution_count": 61,
      "id": "bf31f5ae",
      "metadata": {
        "colab": {
          "base_uri": "https://localhost:8080/"
        },
        "id": "bf31f5ae",
        "outputId": "dbd76322-8080-4d11-a0e6-c44427341234"
      },
      "outputs": [
        {
          "data": {
            "text/plain": [
              "array([55, 57])"
            ]
          },
          "execution_count": 61,
          "metadata": {},
          "output_type": "execute_result"
        }
      ],
      "source": [
        "a[:4:2]"
      ]
    },
    {
      "cell_type": "code",
      "execution_count": null,
      "id": "2acfc959",
      "metadata": {
        "id": "2acfc959"
      },
      "outputs": [],
      "source": []
    },
    {
      "cell_type": "code",
      "execution_count": null,
      "id": "a414c3c7",
      "metadata": {
        "id": "a414c3c7"
      },
      "outputs": [],
      "source": []
    },
    {
      "cell_type": "code",
      "execution_count": null,
      "id": "95b92878",
      "metadata": {
        "id": "95b92878"
      },
      "outputs": [],
      "source": [
        "a = np.array([[0, 1, 2, 3],\n",
        "              [4, 5, 6, 7],\n",
        "              [8, 9, 10, 11],\n",
        "              [12, 13, 14, 15]])\n",
        "\n",
        "# obtiene la tercera columna\n"
      ]
    },
    {
      "cell_type": "code",
      "execution_count": null,
      "id": "ce078e32",
      "metadata": {
        "id": "ce078e32"
      },
      "outputs": [],
      "source": [
        "# obtiene la segunda fila\n"
      ]
    },
    {
      "cell_type": "code",
      "execution_count": null,
      "id": "ed372f4d",
      "metadata": {
        "id": "ed372f4d"
      },
      "outputs": [],
      "source": [
        "# obtiene  la segunda fila por cada 2 pasos\n"
      ]
    },
    {
      "cell_type": "code",
      "execution_count": null,
      "id": "97af7e7c",
      "metadata": {
        "id": "97af7e7c"
      },
      "outputs": [],
      "source": [
        "# obtiene todas las columnas a excepción de la última\n"
      ]
    },
    {
      "cell_type": "markdown",
      "id": "20151036",
      "metadata": {
        "id": "20151036"
      },
      "source": [
        "## Broadcasting\n",
        "\n",
        "*Broadcasting* describe el proceso automático de poner dos matrices numpy en la misma forma para que pueda aplicar ciertas *element-wise operations*.\n",
        "\n",
        "\n",
        "En el siguiente ejemplo, cada arreglo consta de varios *ejes*, uno para cada dimensión.\n",
        "\n",
        "El atributo del arreglo <code>ndim</code> almacena el número de ejes de ese arreglo en particular"
      ]
    },
    {
      "cell_type": "code",
      "execution_count": 74,
      "id": "k8IwYquh8UIc",
      "metadata": {
        "colab": {
          "base_uri": "https://localhost:8080/"
        },
        "id": "k8IwYquh8UIc",
        "outputId": "9fc5bdfe-6ad3-4b0a-bd58-5f929e27eebd"
      },
      "outputs": [
        {
          "data": {
            "text/plain": [
              "array([1, 2, 3])"
            ]
          },
          "execution_count": 74,
          "metadata": {},
          "output_type": "execute_result"
        }
      ],
      "source": [
        "a = np.array([1, 2, 3])\n",
        "a"
      ]
    },
    {
      "cell_type": "code",
      "execution_count": 73,
      "id": "14f33bbe",
      "metadata": {
        "colab": {
          "base_uri": "https://localhost:8080/"
        },
        "id": "14f33bbe",
        "outputId": "072c3aad-d427-4095-e7d6-9c21f9f2811d"
      },
      "outputs": [
        {
          "data": {
            "text/plain": [
              "array([[1, 2, 3],\n",
              "       [1, 2, 3],\n",
              "       [1, 2, 3]])"
            ]
          },
          "execution_count": 73,
          "metadata": {},
          "output_type": "execute_result"
        }
      ],
      "source": [
        "a = np.array([[1, 2, 3],\n",
        "              [1, 2, 3],\n",
        "              [1, 2, 3]])\n",
        "a"
      ]
    },
    {
      "cell_type": "code",
      "execution_count": 75,
      "id": "b49a67f1",
      "metadata": {
        "colab": {
          "base_uri": "https://localhost:8080/"
        },
        "id": "b49a67f1",
        "outputId": "8d9fc288-99eb-4045-ec59-4dfd1d2b8d43"
      },
      "outputs": [
        {
          "data": {
            "text/plain": [
              "array([[ 2,  2,  6],\n",
              "       [ 3,  4,  9],\n",
              "       [ 4,  6, 12]])"
            ]
          },
          "execution_count": 75,
          "metadata": {},
          "output_type": "execute_result"
        }
      ],
      "source": [
        "b = np.array([[2, 1, 2] , [3, 2, 3], [4, 3, 4]])\n",
        "b * a"
      ]
    },
    {
      "cell_type": "code",
      "execution_count": 64,
      "id": "97cec988",
      "metadata": {
        "colab": {
          "base_uri": "https://localhost:8080/"
        },
        "id": "97cec988",
        "outputId": "53d26998-dbcb-4c8c-efad-cce8cc90ea73"
      },
      "outputs": [
        {
          "data": {
            "text/plain": [
              "3"
            ]
          },
          "execution_count": 64,
          "metadata": {},
          "output_type": "execute_result"
        }
      ],
      "source": [
        "c = np.array([[[1, 2, 3], [2, 3, 4], [3, 4, 5]],\n",
        "              [[1, 2, 4],[2, 3, 5],[3, 4, 6]]])\n",
        "c.ndim"
      ]
    },
    {
      "cell_type": "markdown",
      "id": "8e30e28c",
      "metadata": {
        "id": "8e30e28c"
      },
      "source": [
        "Cada arreglo tiene asociado un atributo <code>shape</code>, una tupla que da el número de elementos en cada eje.\n",
        "\n",
        "Para un arreglo bidimensional, hay dos valores en la tupla: el número de filas y el número de columnas.\n",
        "\n",
        "Para arreglos de mayor dimensión, la el elemento $\\textit{i}$-ésimo de la tupla  especifica el número de elementos del $\\textit{i}$-ésimo eje ."
      ]
    },
    {
      "cell_type": "code",
      "execution_count": null,
      "id": "3f2bb613",
      "metadata": {
        "id": "3f2bb613",
        "outputId": "751fbb59-bf5a-4a8a-ca1b-92f5328a586f"
      },
      "outputs": [
        {
          "data": {
            "text/plain": [
              "(4,)"
            ]
          },
          "execution_count": 34,
          "metadata": {},
          "output_type": "execute_result"
        }
      ],
      "source": [
        "a.shape"
      ]
    },
    {
      "cell_type": "code",
      "execution_count": null,
      "id": "b81da56f",
      "metadata": {
        "id": "b81da56f",
        "outputId": "9dee7ba4-b8fa-4f9c-f369-8ef2f7f212a9"
      },
      "outputs": [
        {
          "data": {
            "text/plain": [
              "(3, 3)"
            ]
          },
          "execution_count": 39,
          "metadata": {},
          "output_type": "execute_result"
        }
      ],
      "source": [
        "b = np.array([[2, 1, 2] , [3, 3, 3], [4, 3, 4]])\n",
        "b.shape"
      ]
    },
    {
      "cell_type": "code",
      "execution_count": null,
      "id": "929cb519",
      "metadata": {
        "id": "929cb519",
        "outputId": "2fbc677c-38d1-499d-aa9c-a086317a166d"
      },
      "outputs": [
        {
          "data": {
            "text/plain": [
              "(2, 3, 3)"
            ]
          },
          "execution_count": 40,
          "metadata": {},
          "output_type": "execute_result"
        }
      ],
      "source": [
        "c.shape"
      ]
    },
    {
      "cell_type": "markdown",
      "id": "b2034b89",
      "metadata": {
        "id": "b2034b89"
      },
      "source": [
        "Con la idea de <code>shape</code>, será más fácil comprender la idea general del broadcasting: llevar dos arreglos a la misma forma reorganizando los datos.\n",
        "\n",
        "El broadcasting ajusta las operaciones de elementos de arreglos de numpy con diferentes formas.  \n",
        "\n",
        "Por ejemplo, el operador de multiplicación <code>*</code> generalmente realiza la multiplicación por elementos cuando se aplica a arreglos de numpy.\n"
      ]
    },
    {
      "cell_type": "markdown",
      "id": "e2a45ab8",
      "metadata": {
        "id": "e2a45ab8"
      },
      "source": [
        "Pero, ¿qué sucede si los datos de la izquierda y la derecha no coinciden? (Por ejemplo, ¿el operador de la izquierda es una matriz numérica, mientras que el de la derecha es un valor flotante?).\n",
        "\n",
        "En este caso, numpy crea automáticamente un nuevo arreglo a partir de los datos del lado derecho. El nuevo arreglo  tiene el mismo tamaño y dimensionalidad que el arreglo de la izquierda y contiene los mismos valores.\n",
        "\n",
        "Broadcasting, por lo tanto, es el acto de convertir un arreglo de baja dimensión en un arreglo de alta dimensión para realizar operaciones por elementos."
      ]
    },
    {
      "cell_type": "markdown",
      "id": "92110253",
      "metadata": {
        "id": "92110253"
      },
      "source": [
        "## Problema 2\n",
        "\n",
        "Tienes datos para una variedad de profesiones y deseas aumentar los salarios de los científicos de datos en un 10 por ciento cada dos años."
      ]
    },
    {
      "cell_type": "code",
      "execution_count": 91,
      "id": "1e0bdb7f",
      "metadata": {
        "colab": {
          "base_uri": "https://localhost:8080/"
        },
        "id": "1e0bdb7f",
        "outputId": "a7eb1656-1979-4e51-a3d3-17090b92ed26"
      },
      "outputs": [
        {
          "data": {
            "text/plain": [
              "array([[143. , 132. , 150.7],\n",
              "       [127. , 140. , 145. ],\n",
              "       [118. , 118. , 127. ],\n",
              "       [129. , 131. , 137. ]])"
            ]
          },
          "execution_count": 91,
          "metadata": {},
          "output_type": "execute_result"
        }
      ],
      "source": [
        "import numpy as np\n",
        "\n",
        "## Data: yearly salary in ($1000) [2025,2026,2027]\n",
        "dataScientist = [130, 132, 137]\n",
        "productManager = [127, 140, 145]\n",
        "designer = [118, 118, 127]\n",
        "softwareEngineer = [129, 131, 137]\n",
        "\n",
        "employees = np.array([dataScientist,\n",
        "                      productManager,\n",
        "                      designer,\n",
        "                      softwareEngineer])\n",
        "employees = employees.astype(float)\n",
        "employees[0,::2] = employees[0,::2] *1.1\n",
        "employees"
      ]
    },
    {
      "cell_type": "markdown",
      "id": "d1321bfd",
      "metadata": {
        "id": "d1321bfd"
      },
      "source": [
        "### Tipos de arreglos\n",
        "\n",
        "Es posible que se haya dado cuenta de que el tipo de datos resultante no es flotante sino entero, incluso si está realizando aritmética de punto flotante.\n",
        "\n",
        "Cuando se crea la matriz, numpy se da cuenta de que contiene solo valores enteros, por lo que asume que es un arreglo de enteros.\n",
        "\n",
        "Cualquier operación que se realice en el arreglo de enteros no cambiará el tipo de datos y numpy redondeará a valores enteros.\n",
        "\n",
        "Se puede acceder al tipo de arreglo usando la propiedad <code>dtype</code>"
      ]
    },
    {
      "cell_type": "code",
      "execution_count": null,
      "id": "ffffc9fe",
      "metadata": {
        "id": "ffffc9fe",
        "outputId": "36e166a5-53b6-46da-9ec2-6497dd7dd053"
      },
      "outputs": [
        {
          "data": {
            "text/plain": [
              "dtype('float64')"
            ]
          },
          "execution_count": 6,
          "metadata": {},
          "output_type": "execute_result"
        }
      ],
      "source": [
        "employees.dtype"
      ]
    },
    {
      "cell_type": "code",
      "execution_count": null,
      "id": "714086f8",
      "metadata": {
        "id": "714086f8",
        "outputId": "c5ed837c-d50d-4613-88e8-8c7e94dd5201"
      },
      "outputs": [
        {
          "data": {
            "text/plain": [
              "array([[143. , 145.2, 150.7],\n",
              "       [127. , 140. , 145. ],\n",
              "       [118. , 118. , 127. ],\n",
              "       [129. , 131. , 137. ]])"
            ]
          },
          "execution_count": 23,
          "metadata": {},
          "output_type": "execute_result"
        }
      ],
      "source": [
        "dataScientist = [130, 132, 137]\n",
        "productManager = [127, 140, 145]\n",
        "designer = [118, 118, 127]\n",
        "softwareEngineer = [129, 131, 137]\n",
        "\n",
        "employees = np.array([dataScientist,\n",
        "                      productManager,\n",
        "                      designer,\n",
        "                      softwareEngineer])\n",
        "\n",
        "employees = employees.astype('float64')\n",
        "\n",
        "employees[0,::] = employees[0,::] * 1.1\n",
        "employees\n"
      ]
    },
    {
      "cell_type": "markdown",
      "id": "2b18fd6d",
      "metadata": {
        "id": "2b18fd6d"
      },
      "source": [
        "## Búsqueda, filtrado y broadcasting condicional de arreglos para detectar valores atípicos\n",
        "\n",
        "El Índice de calidad del aire (AQI) mide el peligro de efectos adversos para la salud y se usa comúnmente para comparar las diferencias en la calidad del aire de las ciudades. En este ejercicio, observará el AQI de cuatro ciudades: Hong Kong, New York, Berlín y Montreal.\n",
        "\n",
        "La solución encuentra ciudades contaminadas por encima del promedio, definidas como ciudades que tienen un AQI que está por encima del promedio general entre todas las mediciones de todas las ciudades.\n",
        "\n",
        "Una tarea importante en estos casos es encontrar elementos en un arreglo  que cumplan con una determinada condición."
      ]
    },
    {
      "cell_type": "markdown",
      "id": "d8a24abf",
      "metadata": {
        "id": "d8a24abf"
      },
      "source": [
        "Exploremos cómo encontrar elementos de matriz que cumplan una condición específica.\n",
        "\n",
        "Numpy ofrece la función <code>nonzero()</code> que encuentra los índices de los elementos en un arreglo que son distintos de cero."
      ]
    },
    {
      "cell_type": "code",
      "execution_count": null,
      "id": "09e75ac5",
      "metadata": {
        "id": "09e75ac5",
        "outputId": "2fd685ed-5b42-42f2-df4d-06c2e1b795b0"
      },
      "outputs": [
        {
          "data": {
            "text/plain": [
              "(array([0, 1, 1, 2]), array([0, 1, 2, 0]))"
            ]
          },
          "execution_count": 14,
          "metadata": {},
          "output_type": "execute_result"
        }
      ],
      "source": [
        "X = np.array([[1, 0, 0],\n",
        "              [0, 2, 2],\n",
        "              [3, 0, 0]])\n",
        "np.nonzero(X)"
      ]
    },
    {
      "cell_type": "markdown",
      "id": "611067a7",
      "metadata": {
        "id": "611067a7"
      },
      "source": [
        "El resultado es una tupla de dos arreglos de numpy. El pŕimer arreglo da los índices de fila y el segundo arreglo da los índices de columna de los elementos distintos de cero."
      ]
    },
    {
      "cell_type": "markdown",
      "id": "a05b35ca",
      "metadata": {
        "id": "a05b35ca"
      },
      "source": [
        "Podemos encontrar elementos que cumplan una determinada condición en un arreglo con operaciones booleanas de arreglos con broadcasting."
      ]
    },
    {
      "cell_type": "code",
      "execution_count": null,
      "id": "ba83ce9c",
      "metadata": {
        "id": "ba83ce9c",
        "outputId": "9cd37827-d2fe-4af7-837a-c0107c13b23c"
      },
      "outputs": [
        {
          "data": {
            "text/plain": [
              "array([[False, False, False],\n",
              "       [False,  True,  True],\n",
              "       [False, False, False]])"
            ]
          },
          "execution_count": 15,
          "metadata": {},
          "output_type": "execute_result"
        }
      ],
      "source": [
        "X = np.array([[1, 0, 0],\n",
        "              [0, 2, 2],\n",
        "              [3, 0, 0]])\n",
        "X == 2"
      ]
    },
    {
      "cell_type": "markdown",
      "id": "86590568",
      "metadata": {
        "id": "86590568"
      },
      "source": [
        "### Solución"
      ]
    },
    {
      "cell_type": "code",
      "execution_count": null,
      "id": "dfa9382c",
      "metadata": {
        "id": "dfa9382c"
      },
      "outputs": [],
      "source": [
        "## Data: air quality index AQI data (row = city)\n",
        "X = np.array(\n",
        "            [[42, 40, 41, 43, 44, 43], # Hong Kong\n",
        "             [30, 31, 29, 29, 29, 30], # New York\n",
        "             [8, 13, 31, 11, 11, 9],   # Berlin\n",
        "             [11, 11, 12, 13, 11, 12]] # Montreal\n",
        "            )\n",
        "cities = np.array([\"Hong Kong\", \"New York\", \"Berlin\", \"Montreal\"])\n",
        "\n"
      ]
    },
    {
      "cell_type": "code",
      "execution_count": null,
      "id": "581a4b4b",
      "metadata": {
        "id": "581a4b4b"
      },
      "outputs": [],
      "source": []
    },
    {
      "cell_type": "markdown",
      "id": "3b831dcf",
      "metadata": {
        "id": "3b831dcf"
      },
      "source": [
        " ## Reshaping y Resizing\n",
        "\n",
        "Cuando se trabaja con datos en forma de arreglos, suele ser útil reorganizar los arreglos y modificar la forma en que se interpretan.\n",
        "\n",
        "Por ejemplo, una matriz $N\\times N$ podría reorganizarse en un vector de tamaño $N^2$, o un conjunto de arreglos unidimensionales se podrían concatenar o apilar uno al lado del otro para formar una matriz.\n",
        "\n",
        "NumPy proporciona un rico conjunto de funciones para este tipo de manipulaciones.\n"
      ]
    },
    {
      "cell_type": "markdown",
      "id": "61e117f4",
      "metadata": {
        "id": "61e117f4"
      },
      "source": [
        "![reshape_numpy.png](attachment:reshape_numpy.png)"
      ]
    },
    {
      "cell_type": "markdown",
      "id": "e53d93ec",
      "metadata": {
        "id": "e53d93ec"
      },
      "source": [
        "![resize_numpy.png](attachment:resize_numpy.png)"
      ]
    },
    {
      "cell_type": "markdown",
      "id": "e51d148c",
      "metadata": {
        "id": "e51d148c"
      },
      "source": [
        "Hacer un reshape de un arreglo no requiere modificar los datos del arreglo subyacente; sólo\n",
        "se realizan cambios en la forma en que se interpretan los datos, al redefinir el atributo <code>strides</code> del arreglo.\n",
        "\n",
        "Un ejemplo de este tipo de operación es un arreglo 2D que se reinterpreta como un arreglo 1D (vector).\n",
        "\n",
        "En NumPy, la función <code>np.reshape</code>, o el método de clase <code>ndarray</code> <code>reshape</code>, se pueden usar para reconfigurar cómo se interpretan los datos subyacentes.\n",
        "\n",
        "La función <code>np.reshape</code> toma como argumentos un arreglo y la nueva forma de este:"
      ]
    },
    {
      "cell_type": "code",
      "execution_count": null,
      "id": "2c326178",
      "metadata": {
        "id": "2c326178",
        "outputId": "33e348c8-35b2-45c1-b560-bf4f8ccb973a"
      },
      "outputs": [
        {
          "data": {
            "text/plain": [
              "array([[1, 2, 3, 4]])"
            ]
          },
          "execution_count": 16,
          "metadata": {},
          "output_type": "execute_result"
        }
      ],
      "source": [
        "data = np.array([[1, 2], [3, 4]])\n"
      ]
    },
    {
      "cell_type": "code",
      "execution_count": null,
      "id": "6a5a4d7b",
      "metadata": {
        "id": "6a5a4d7b",
        "outputId": "584066f7-811d-4863-b590-84b417790f6e"
      },
      "outputs": [
        {
          "data": {
            "text/plain": [
              "array([1, 2, 3, 4])"
            ]
          },
          "execution_count": 17,
          "metadata": {},
          "output_type": "execute_result"
        }
      ],
      "source": []
    },
    {
      "cell_type": "markdown",
      "id": "a6a252ff",
      "metadata": {
        "id": "a6a252ff"
      },
      "source": [
        "Es necesario que la nueva forma solicitada de la matriz coincida con el número de elementos en el tamaño original.\n",
        "\n",
        "El reshape a un arreglo produce una vista del arreglo, y si se necesita una copia independiente de este, la vista debe copiarse explícitamente (por ejemplo, usando <code>np.copy</code>).\n"
      ]
    },
    {
      "cell_type": "markdown",
      "id": "96d9dd16",
      "metadata": {
        "id": "96d9dd16"
      },
      "source": [
        "El método <code>np.ravel</code> (y su correspondiente método  del objeto <code>ndarray</code>) es un caso especial de reshape que colapsa todas las dimensiones del arreglo y devuelve un arreglo unidimensional *aplanado* (flattened) con una longitud que corresponde al número total de elementos del arreglo original.\n",
        "\n",
        "El método <code>flatten</code> de un objeto  <code>ndarray</code>  realiza la misma función pero devuelve una copia en lugar de una vista."
      ]
    },
    {
      "cell_type": "code",
      "execution_count": null,
      "id": "7bd266d8",
      "metadata": {
        "id": "7bd266d8",
        "outputId": "15fd34bf-896c-4fa0-c13d-7568963359d7"
      },
      "outputs": [
        {
          "data": {
            "text/plain": [
              "array([[1, 2],\n",
              "       [3, 4]])"
            ]
          },
          "execution_count": 24,
          "metadata": {},
          "output_type": "execute_result"
        }
      ],
      "source": [
        "data = np.array([[1, 2], [3, 4]])\n",
        "data"
      ]
    },
    {
      "cell_type": "code",
      "execution_count": null,
      "id": "48a9122d",
      "metadata": {
        "id": "48a9122d",
        "outputId": "8da3a46a-eace-4aa0-cf24-d946c9fb52ed"
      },
      "outputs": [
        {
          "data": {
            "text/plain": [
              "array([1, 2, 3, 4])"
            ]
          },
          "execution_count": 29,
          "metadata": {},
          "output_type": "execute_result"
        }
      ],
      "source": []
    },
    {
      "cell_type": "code",
      "execution_count": null,
      "id": "8b132f88",
      "metadata": {
        "id": "8b132f88",
        "outputId": "66ac982f-c9e5-4dec-9f4c-bb3d2a983887"
      },
      "outputs": [
        {
          "data": {
            "text/plain": [
              "(4,)"
            ]
          },
          "execution_count": 28,
          "metadata": {},
          "output_type": "execute_result"
        }
      ],
      "source": []
    },
    {
      "cell_type": "markdown",
      "id": "b483be65",
      "metadata": {
        "id": "b483be65"
      },
      "source": [
        "Mientras que <code>np.ravel</code> y </code>np.flatten</code> colapsan los ejes de un arreglo en un arreglo unidimensional, también es posible introducir nuevos ejes en un arreglo, ya sea utilizando<code>np.reshape</code> o, al agregar nuevos ejes vacíos, utilizando la notación de indexación y la palabra clave <code>np.newaxis</code> en el lugar de un nuevo eje."
      ]
    },
    {
      "cell_type": "code",
      "execution_count": null,
      "id": "59c5dd6d",
      "metadata": {
        "id": "59c5dd6d",
        "outputId": "deef355f-a43c-42c6-ed23-93bcb6f95028"
      },
      "outputs": [
        {
          "data": {
            "text/plain": [
              "array([[0],\n",
              "       [1],\n",
              "       [2],\n",
              "       [3],\n",
              "       [4]])"
            ]
          },
          "execution_count": 33,
          "metadata": {},
          "output_type": "execute_result"
        }
      ],
      "source": [
        "data = np.arange(0, 5)\n"
      ]
    },
    {
      "cell_type": "code",
      "execution_count": null,
      "id": "7243deff",
      "metadata": {
        "id": "7243deff",
        "outputId": "da0ca483-c579-4cf5-fe9c-e530ce3c59ab"
      },
      "outputs": [
        {
          "data": {
            "text/plain": [
              "array([[0, 1, 2, 3, 4]])"
            ]
          },
          "execution_count": 41,
          "metadata": {},
          "output_type": "execute_result"
        }
      ],
      "source": []
    },
    {
      "cell_type": "markdown",
      "id": "f9e0886e",
      "metadata": {
        "id": "f9e0886e"
      },
      "source": [
        "Además del reshaping y de la selección de subarreglos, con frecuencia es necesario fusionar arreglos en arreglos más grandes, por ejemplo, cuando se unen series de datos medidos o calculados por separado en un arreglo de mayor dimensión, como una matriz.\n",
        "\n",
        "Para esta tarea, NumPy proporciona las funciones <code>np.vstack</code>, para apilar verticalmente, por ejemplo, filas en una matriz, y <code>np.hstack</code> para apilar horizontalmente, por ejemplo , columnas en una matriz.\n",
        "\n",
        "Considere el siguiente caso: supongamos que tenemos arreglos de datos unidimensionales y queremos apilarlos verticalmente para obtener una matriz donde las filas están formadas por arreglos unidimensionales.\n",
        "\n",
        "Podemos usar <code>np.vstack</code> para lograr esto"
      ]
    },
    {
      "cell_type": "code",
      "execution_count": null,
      "id": "4d883767",
      "metadata": {
        "id": "4d883767",
        "outputId": "05069ef0-be0e-408d-a26a-88827e652b5d"
      },
      "outputs": [
        {
          "data": {
            "text/plain": [
              "array([0, 1, 2, 3, 4])"
            ]
          },
          "execution_count": 43,
          "metadata": {},
          "output_type": "execute_result"
        }
      ],
      "source": [
        "data = np.arange(5)\n",
        "data"
      ]
    },
    {
      "cell_type": "code",
      "execution_count": null,
      "id": "b98f07fc",
      "metadata": {
        "id": "b98f07fc",
        "outputId": "66ed57eb-4118-4fb9-dd3b-be3e008e6b2c"
      },
      "outputs": [
        {
          "data": {
            "text/plain": [
              "array([[0, 1, 2, 3, 4],\n",
              "       [0, 1, 2, 3, 4],\n",
              "       [0, 1, 2, 3, 4]])"
            ]
          },
          "execution_count": 42,
          "metadata": {},
          "output_type": "execute_result"
        }
      ],
      "source": []
    },
    {
      "cell_type": "markdown",
      "id": "ed2d126b",
      "metadata": {
        "id": "ed2d126b"
      },
      "source": [
        "Si, en cambio, queremos apilar las matrices horizontalmente, para obtener una matriz donde los arreglos son los vectores columna, primero debemos hacer que los arreglos de entrada (<code>data</code>) sean arreglos bidimensionales de forma (1, 5 ) en lugar de arreglos unidimensionales de forma (5,).\n",
        "\n",
        "\n",
        "Como se discutió anteriormente, podemos insertar un nuevo eje con <code>np.newaxis</code>:"
      ]
    },
    {
      "cell_type": "code",
      "execution_count": null,
      "id": "b4fcc268",
      "metadata": {
        "id": "b4fcc268",
        "outputId": "20eb8f37-f862-45e7-b9c2-62a19cdbfb89"
      },
      "outputs": [
        {
          "data": {
            "text/plain": [
              "array([[0, 0, 0],\n",
              "       [1, 1, 1],\n",
              "       [2, 2, 2],\n",
              "       [3, 3, 3],\n",
              "       [4, 4, 4]])"
            ]
          },
          "execution_count": 44,
          "metadata": {},
          "output_type": "execute_result"
        }
      ],
      "source": []
    },
    {
      "cell_type": "markdown",
      "id": "f16d8fc3",
      "metadata": {
        "id": "f16d8fc3"
      },
      "source": [
        "## Operaciones con matrices y vectores\n",
        "\n",
        "One of the main applications of the numpy arrays is to represent the mathematical concepts of vectors, matrices, and tensors, and in this use-case, we also frequently need to calculate vector and matrix operations such as scalar (inner) products, dot (matrix) products, and tensor (outer) products.\n",
        "\n",
        "Una de las principales aplicaciones de los arreglos de numpy es representar los conceptos matemáticos de vectores, matrices y tensores, así como también realizar operaciones con vectores y matrices, como el producto escalar (internos),producto punto (matriz), producto tensorial (exterior), etc .\n",
        "\n",
        "![numpy_matrix_operations.png](attachment:numpy_matrix_operations.png)"
      ]
    },
    {
      "cell_type": "markdown",
      "id": "e2ebe31c",
      "metadata": {
        "id": "e2ebe31c"
      },
      "source": [
        "\n",
        "En numpy, el operador <code>*</code> se usa para la multiplicación por elementos. Para dos matrices bidimensionales A y B, la expresión A * B, por lo tanto, no calcula un producto matricial.\n",
        "\n",
        "\n",
        "El operador <code>@</code> se utiliza para la multiplicación de matrices. También la función numpy <code>np.dot</code> se utiliza para este propósito.\n",
        "\n",
        "To compute the product of two matrices $A$ and $B$, of size $N \\times M$ and $M \\times P$, which results in a\n",
        "matrix of size $N \\times P$, we can use:\n",
        "\n",
        "Para calcular el producto de dos matrices $A$ y $B$, de tamaño $N \\times M$ y $M \\times P$, lo que da como resultado un matriz de tamaño $N \\times P$, podemos usar:"
      ]
    },
    {
      "cell_type": "code",
      "execution_count": null,
      "id": "42ba4314",
      "metadata": {
        "id": "42ba4314",
        "outputId": "bef015ff-f5e6-4c28-b50c-821cbf9af08c"
      },
      "outputs": [
        {
          "data": {
            "text/plain": [
              "array([[1, 2, 3],\n",
              "       [4, 5, 6]])"
            ]
          },
          "execution_count": 18,
          "metadata": {},
          "output_type": "execute_result"
        }
      ],
      "source": [
        "A = np.arange(1, 7).reshape(2, 3)\n",
        "A"
      ]
    },
    {
      "cell_type": "code",
      "execution_count": null,
      "id": "98396035",
      "metadata": {
        "id": "98396035",
        "outputId": "3c5beb4b-14f8-475f-8000-2519a6b9b9e3"
      },
      "outputs": [
        {
          "data": {
            "text/plain": [
              "array([[1, 2],\n",
              "       [3, 4],\n",
              "       [5, 6]])"
            ]
          },
          "execution_count": 19,
          "metadata": {},
          "output_type": "execute_result"
        }
      ],
      "source": [
        "B = np.arange(1, 7).reshape(3, 2)\n",
        "B"
      ]
    },
    {
      "cell_type": "code",
      "execution_count": null,
      "id": "f72d509b",
      "metadata": {
        "id": "f72d509b",
        "outputId": "ecc2876c-4c98-4da4-c1e1-9d4da165ad5d"
      },
      "outputs": [
        {
          "data": {
            "text/plain": [
              "array([[22, 28],\n",
              "       [49, 64]])"
            ]
          },
          "execution_count": 20,
          "metadata": {},
          "output_type": "execute_result"
        }
      ],
      "source": [
        "A @ B"
      ]
    },
    {
      "cell_type": "code",
      "execution_count": null,
      "id": "b91aa761",
      "metadata": {
        "id": "b91aa761",
        "outputId": "f845cd6a-3d31-4a0c-9fe7-2c8fc4932dcb"
      },
      "outputs": [
        {
          "data": {
            "text/plain": [
              "array([[22, 28],\n",
              "       [49, 64]])"
            ]
          },
          "execution_count": 21,
          "metadata": {},
          "output_type": "execute_result"
        }
      ],
      "source": [
        "np.dot(A, B)"
      ]
    },
    {
      "cell_type": "markdown",
      "id": "9e95f3a0",
      "metadata": {
        "id": "9e95f3a0"
      },
      "source": [
        "\n",
        "Podemos calcular una matriz inversa de la siguiente manera:"
      ]
    },
    {
      "cell_type": "code",
      "execution_count": null,
      "id": "3f7878a9",
      "metadata": {
        "id": "3f7878a9",
        "outputId": "14cd0dfc-e4f1-4c52-8a8c-1ecc83be5cd0"
      },
      "outputs": [
        {
          "data": {
            "text/plain": [
              "array([[0.94812002, 0.36921826, 0.75472651],\n",
              "       [0.83308666, 0.30065259, 0.60104508],\n",
              "       [0.76985114, 0.31240073, 0.80100831]])"
            ]
          },
          "execution_count": 18,
          "metadata": {},
          "output_type": "execute_result"
        }
      ],
      "source": [
        "B = np.random.rand(3,3)\n",
        "B"
      ]
    },
    {
      "cell_type": "code",
      "execution_count": null,
      "id": "f2d9f77c",
      "metadata": {
        "id": "f2d9f77c",
        "outputId": "b3cf52eb-f46b-4688-9c18-7c3cedbe8a78"
      },
      "outputs": [
        {
          "data": {
            "text/plain": [
              "array([[-15.16487706,  17.14028385,   1.42726533],\n",
              "       [ 58.47613306, -50.99659232, -16.8315815 ],\n",
              "       [ -8.23123669,   3.41557734,   6.44115233]])"
            ]
          },
          "execution_count": 19,
          "metadata": {},
          "output_type": "execute_result"
        }
      ],
      "source": [
        "np.linalg.inv(B)"
      ]
    },
    {
      "cell_type": "code",
      "execution_count": null,
      "id": "f04fbe75",
      "metadata": {
        "id": "f04fbe75",
        "outputId": "0b73f524-4001-4b56-f1f3-32ccbe014ba4"
      },
      "outputs": [
        {
          "data": {
            "text/plain": [
              "array([[ 1.00000000e+00, -7.96751619e-16, -5.90722841e-17],\n",
              "       [-7.96184876e-16,  1.00000000e+00, -7.29295141e-16],\n",
              "       [ 1.91365047e-16,  9.76905021e-19,  1.00000000e+00]])"
            ]
          },
          "execution_count": 20,
          "metadata": {},
          "output_type": "execute_result"
        }
      ],
      "source": [
        "np.linalg.inv(B) @ B"
      ]
    },
    {
      "cell_type": "markdown",
      "id": "f50215fc",
      "metadata": {
        "id": "f50215fc"
      },
      "source": [
        "\n",
        "Una expresión como $A^T = BAB^{-1}$, se puede calcular de la siguiente manera:"
      ]
    },
    {
      "cell_type": "code",
      "execution_count": null,
      "id": "3ea82857",
      "metadata": {
        "id": "3ea82857"
      },
      "outputs": [],
      "source": [
        "A = np.random.rand(3,3)"
      ]
    },
    {
      "cell_type": "code",
      "execution_count": null,
      "id": "d767ce0d",
      "metadata": {
        "id": "d767ce0d",
        "outputId": "55803680-2999-466d-db48-1c80916b90a9"
      },
      "outputs": [
        {
          "data": {
            "text/plain": [
              "array([[-5.65635249,  6.30537871,  1.83356312],\n",
              "       [-4.90133851,  5.5418111 ,  1.47935199],\n",
              "       [-5.54363908,  5.94633464,  1.89380072]])"
            ]
          },
          "execution_count": 22,
          "metadata": {},
          "output_type": "execute_result"
        }
      ],
      "source": [
        "B @ A @ np.linalg.inv(B)"
      ]
    },
    {
      "cell_type": "markdown",
      "id": "1ef95378",
      "metadata": {
        "id": "1ef95378"
      },
      "source": [
        "\n",
        "La función <code>np.dot</code> también se puede utilizar para la multiplicación de matriz-vector. $A^T = BAB^{-1}$ se calculará como:"
      ]
    },
    {
      "cell_type": "code",
      "execution_count": null,
      "id": "d1b4b23e",
      "metadata": {
        "id": "d1b4b23e",
        "outputId": "03f18316-b0cd-4ccd-cc49-f7ba31d74b7f"
      },
      "outputs": [
        {
          "data": {
            "text/plain": [
              "array([[-5.65635249,  6.30537871,  1.83356312],\n",
              "       [-4.90133851,  5.5418111 ,  1.47935199],\n",
              "       [-5.54363908,  5.94633464,  1.89380072]])"
            ]
          },
          "execution_count": 25,
          "metadata": {},
          "output_type": "execute_result"
        }
      ],
      "source": [
        "Ap = B.dot(A.dot(np.linalg.inv(B)))\n",
        "Ap"
      ]
    },
    {
      "cell_type": "markdown",
      "id": "6ec4351e",
      "metadata": {
        "id": "6ec4351e"
      },
      "source": [
        "Numpy proporciona una estructura de datos alternativa al arreglo denominada <code>matrix</code>, para la cual expresiones como <code>A * B</code>  se implementan como multiplicación de matrices.\n",
        "\n",
        "También proporciona algunos atributos especiales convenientes, como <code>matrix.I</code> para la matriz inversa.\n",
        "\n",
        "\n",
        "Usando instancias de esta clase <code>matriz</code>, podemos escribir expresiones más legibles:"
      ]
    },
    {
      "cell_type": "code",
      "execution_count": null,
      "id": "2e0a3a8f",
      "metadata": {
        "id": "2e0a3a8f",
        "outputId": "c6661e18-c525-42ba-e734-ed431121f664"
      },
      "outputs": [
        {
          "data": {
            "text/plain": [
              "matrix([[-5.65635249,  6.30537871,  1.83356312],\n",
              "        [-4.90133851,  5.5418111 ,  1.47935199],\n",
              "        [-5.54363908,  5.94633464,  1.89380072]])"
            ]
          },
          "execution_count": 27,
          "metadata": {},
          "output_type": "execute_result"
        }
      ],
      "source": [
        "A = np.matrix(A)\n",
        "B = np.matrix(B)\n",
        "Ap = B * A * B.I\n",
        "Ap"
      ]
    },
    {
      "cell_type": "markdown",
      "id": "2c2c2090",
      "metadata": {
        "id": "2c2c2090"
      },
      "source": [
        "El producto interno (producto escalar) entre dos arreglos que representan vectores se puede calcular usando la función <code>np.inner</code>:"
      ]
    },
    {
      "cell_type": "code",
      "execution_count": null,
      "id": "7266c2e7",
      "metadata": {
        "id": "7266c2e7",
        "outputId": "62df071b-874d-4b24-d2b3-032398aa2514"
      },
      "outputs": [
        {
          "data": {
            "text/plain": [
              "285"
            ]
          },
          "execution_count": 28,
          "metadata": {},
          "output_type": "execute_result"
        }
      ],
      "source": [
        "x = np.arange(1,10)\n",
        "np.inner(x, x)"
      ]
    },
    {
      "cell_type": "markdown",
      "id": "e2b1ccec",
      "metadata": {
        "id": "e2b1ccec"
      },
      "source": [
        "\n",
        "o, de manera equivalente, usando <code>np.dot</code>:"
      ]
    },
    {
      "cell_type": "code",
      "execution_count": null,
      "id": "4b8618ff",
      "metadata": {
        "id": "4b8618ff",
        "outputId": "ff4784c7-8c18-4709-b9c7-e9d3e4b4f71e"
      },
      "outputs": [
        {
          "data": {
            "text/plain": [
              "285"
            ]
          },
          "execution_count": 29,
          "metadata": {},
          "output_type": "execute_result"
        }
      ],
      "source": [
        "np.dot(x, x)"
      ]
    }
  ],
  "metadata": {
    "celltoolbar": "Slideshow",
    "colab": {
      "provenance": []
    },
    "kernelspec": {
      "display_name": "Python 3 (ipykernel)",
      "language": "python",
      "name": "python3"
    },
    "language_info": {
      "codemirror_mode": {
        "name": "ipython",
        "version": 3
      },
      "file_extension": ".py",
      "mimetype": "text/x-python",
      "name": "python",
      "nbconvert_exporter": "python",
      "pygments_lexer": "ipython3",
      "version": "3.7.11"
    }
  },
  "nbformat": 4,
  "nbformat_minor": 5
}
