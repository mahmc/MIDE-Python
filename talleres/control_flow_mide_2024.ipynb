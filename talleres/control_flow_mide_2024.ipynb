{
  "cells": [
    {
      "cell_type": "markdown",
      "id": "37327c5a",
      "metadata": {
        "id": "37327c5a"
      },
      "source": [
        "# Flujos de control\n",
        "<a href=\"https://colab.research.google.com/github/milocortes/diplomado_ciencia_datos_mide/blob/edicion-2024/talleres/control_flow_mide_2024.ipynb\" target=\"_parent\"><img src=\"https://colab.research.google.com/assets/colab-badge.svg\" alt=\"Open In Colab\"/></a>\n",
        "![while_loop.jpeg](attachment:while_loop.jpeg)\n",
        "source: https://t.co/sG0RKAaReM\n"
      ]
    },
    {
      "cell_type": "markdown",
      "id": "5e8c35b2",
      "metadata": {
        "id": "5e8c35b2"
      },
      "source": [
        "#  While loop\n",
        "\n",
        "El <code>while</code> loop se define como:"
      ]
    },
    {
      "cell_type": "code",
      "execution_count": 1,
      "id": "e89a8a5f",
      "metadata": {
        "colab": {
          "base_uri": "https://localhost:8080/"
        },
        "id": "e89a8a5f",
        "outputId": "ea58c775-6f14-4709-a0c3-a92636f68849"
      },
      "outputs": [
        {
          "name": "stdout",
          "output_type": "stream",
          "text": [
            "0\n",
            "1\n",
            "2\n",
            "3\n",
            "4\n"
          ]
        }
      ],
      "source": [
        "\n",
        "contador = 0\n",
        "while contador < 5:\n",
        "  print(contador)\n",
        "  contador = contador + 1\n",
        "\n",
        "\n",
        "\n"
      ]
    },
    {
      "cell_type": "code",
      "execution_count": 4,
      "id": "F58gZzewryDK",
      "metadata": {
        "colab": {
          "base_uri": "https://localhost:8080/"
        },
        "id": "F58gZzewryDK",
        "outputId": "d7476681-a69e-423e-e2e4-25f5e31ad68c"
      },
      "outputs": [
        {
          "name": "stdout",
          "output_type": "stream",
          "text": [
            "está templado\n"
          ]
        }
      ],
      "source": [
        "temperatura = 20\n",
        "\n",
        "if temperatura < 0 :\n",
        " print(\"hace mucho frio\")\n",
        "elif (temperatura > 15) and (temperatura < 25):\n",
        " print(\"está templado\")\n",
        "elif (temperatura > 25) and (temperatura < 35):\n",
        " print(\"hace calor\")\n",
        "else:\n",
        " print(\"N\")"
      ]
    },
    {
      "cell_type": "code",
      "execution_count": 10,
      "id": "qiRIXpYDtyfk",
      "metadata": {
        "colab": {
          "base_uri": "https://localhost:8080/"
        },
        "id": "qiRIXpYDtyfk",
        "outputId": "8791abe4-aa55-4983-e9c3-535dfe1aff2c"
      },
      "outputs": [
        {
          "data": {
            "text/plain": [
              "0.6666666666666666"
            ]
          },
          "execution_count": 10,
          "metadata": {},
          "output_type": "execute_result"
        }
      ],
      "source": [
        "\n",
        "def suma(a,b):\n",
        "  return a +b\n",
        "def resta(a,b):\n",
        "  return a -b\n",
        "def divide(a,b):\n",
        "  return a/b\n",
        "\n",
        "\n",
        "funciones = {\n",
        "    \"suma\" : suma,\n",
        "    \"resta\" : resta,\n",
        "    \"divide\" : divide\n",
        "}\n",
        "\n",
        "funciones[\"divide\"](2,3)"
      ]
    },
    {
      "cell_type": "markdown",
      "id": "32a130ab",
      "metadata": {
        "id": "32a130ab"
      },
      "source": [
        "<code>condition</code> es una expresión booleana, es decir, una que se evalúa como un valor <code>True</code> o <code>False</code>.\n",
        "\n",
        "Siempre que sea <code>True</code>, el cuerpo se ejecuta repetidamente.\n",
        "Cuando <code>condition</code> se evalúa como <code>False</code>, el ciclo <code>while</code> ejecuta la sección <code>post-code</code> y luego termina.\n",
        "\n",
        "Si <code>condition</code> comienza siendo <code>False</code>, el cuerpo no se ejecutará, pero  el <code>post-code</code> sí se ejecutará.\n",
        "\n",
        "El <code>body</code> y el <code>post-code</code> son secuencias de una o más instrucciones de Python que están separadas por saltos de línea y están en el mismo nivel de identación. El intérprete de Python usa este nivel para delimitarlos. No son necesarios otros delimitadores, como llaves o corchetes."
      ]
    },
    {
      "cell_type": "markdown",
      "id": "4f7d271e",
      "metadata": {
        "id": "4f7d271e"
      },
      "source": [
        "La parte <code>else</code> del  <code>while</code> loop es opcional y no se usa con frecuencia."
      ]
    },
    {
      "cell_type": "code",
      "execution_count": null,
      "id": "5a3011ac",
      "metadata": {
        "id": "5a3011ac"
      },
      "outputs": [],
      "source": [
        "while condition:\n",
        "    body\n",
        "else:\n",
        "    post-code"
      ]
    },
    {
      "cell_type": "markdown",
      "id": "dd522ec5",
      "metadata": {
        "id": "dd522ec5"
      },
      "source": [
        "y este loop"
      ]
    },
    {
      "cell_type": "code",
      "execution_count": null,
      "id": "22cecb48",
      "metadata": {
        "id": "22cecb48"
      },
      "outputs": [],
      "source": [
        "while condition:\n",
        "    body\n",
        "post-code"
      ]
    },
    {
      "cell_type": "markdown",
      "id": "8c184664",
      "metadata": {
        "id": "8c184664"
      },
      "source": [
        "hacen las mismas cosas- y la segunda es más sencilla de entender."
      ]
    },
    {
      "cell_type": "markdown",
      "id": "d69d9184",
      "metadata": {
        "id": "d69d9184"
      },
      "source": [
        "Las dos instrucciones especiales <code>break</code> y <code>continue</code> se pueden usar en el <code>body</code> de un <code>while</code> loop. Si se ejecuta <code>break</code>, inmediatamente finaliza el  <code>while</code> loop, y ni siquiera el <code>post-code</code> (si hay un <code>else< /code> cláusula) se ejecuta.\n",
        "\n",
        "Si se ejecuta <code>continue</code>, se salta el resto del <code>body</code>; la <code>condition</code> se evalúa de nuevo y el loop continúa con normalidad."
      ]
    },
    {
      "cell_type": "markdown",
      "id": "7c496849",
      "metadata": {
        "id": "7c496849"
      },
      "source": [
        "# if-elif-else\n",
        "\n",
        "La forma más general de if-elif-else en Python es:"
      ]
    },
    {
      "cell_type": "code",
      "execution_count": null,
      "id": "8ec19af0",
      "metadata": {
        "id": "8ec19af0"
      },
      "outputs": [],
      "source": [
        "if condition1:\n",
        "    body1\n",
        "elif condition2:\n",
        "    body2\n",
        "elif condition3:\n",
        "    body3\n",
        ".\n",
        ".\n",
        ".\n",
        "elif condition(n-1):\n",
        "    body(n-1)\n",
        "else:\n",
        "    body(n)"
      ]
    },
    {
      "cell_type": "markdown",
      "id": "50c40e91",
      "metadata": {
        "id": "50c40e91"
      },
      "source": [
        "Dice: Si <code>condition1</code> es <code>True</code>, se ejecuta <code>body1</code>; de lo contrario, si <code>condition2</code> es <code>True</code>, ejecuta <code>body2</code>; de lo contrario... y así sucesivamente hasta que encuentre una condición que se evalúe como <code>True</code> o se alcancé la instrucción <code>else</code>, en cuyo caso ejecuta <code>body(n)< /código>.\n",
        "\n",
        "\n",
        "Al igual que con el ciclo <code>while</code>, las secciones <code>body</code> son nuevamente secuencias de una o más declaraciones de Python que están separadas por saltos de línea y están en el mismo nivel de identación."
      ]
    },
    {
      "cell_type": "markdown",
      "id": "2368ac90",
      "metadata": {
        "id": "2368ac90"
      },
      "source": [
        "Es requerido el <code>body</code> después de la instrucción <code>if</code>. Pero se puede usar la instrucción <code>pass</code>. La declaración <code>pass</code> sirve como marcador de posición donde se necesita una declaración, pero no realiza ninguna acción."
      ]
    },
    {
      "cell_type": "code",
      "execution_count": null,
      "id": "13091fa4",
      "metadata": {
        "id": "13091fa4"
      },
      "outputs": [],
      "source": [
        "if x < 5:\n",
        "    pass\n",
        "else:\n",
        "    x = 5"
      ]
    },
    {
      "cell_type": "markdown",
      "id": "507071e3",
      "metadata": {
        "id": "507071e3"
      },
      "source": [
        "## ¿Dónde está la declaración de switch case en Python?\n",
        "\n",
        "No hay declaración switch case en Python.\n",
        "\n",
        "Un diccionario de funciones generalmente funciona como reemplazo de un loop switch case:"
      ]
    },
    {
      "cell_type": "code",
      "execution_count": null,
      "id": "0f70746f",
      "metadata": {
        "id": "0f70746f"
      },
      "outputs": [],
      "source": [
        "def do_a_stuff():\n",
        "    # process a\n",
        "def do_b_stuff():\n",
        "    # process b\n",
        "def do_c_stuff():\n",
        "    # process c\n",
        "func_dict = {\"a\" : do_a_stuff,\n",
        "             \"b\" : do_b_stuff,\n",
        "             \"c\" : do_c_stuff}\n",
        "\n",
        "x = \"a\"\n",
        "\n",
        "func_dict[x]()"
      ]
    },
    {
      "cell_type": "markdown",
      "id": "2dc1f0ff",
      "metadata": {
        "id": "2dc1f0ff"
      },
      "source": [
        "#  for loop\n",
        "\n",
        "Un <code>for</code> loop en Python es diferente de los <code>for</code> loops en algunos otros lenguajes. El patrón tradicional es incrementar y testear una variable en cada iteración, que es lo que suelen hacer los  <code>for</code> loops de C.\n",
        "\n",
        "En Python, un  <code>for</code> loop itera sobre los valores devueltos por cualquier objeto iterable, es decir, cualquier objeto que pueda producir una secuencia de valores.\n",
        "\n",
        "Por ejemplo, un bucle <code>for</code> puede iterar sobre cada elemento de una lista, una tupla o string.\n",
        "\n",
        "Pero un iterable también puede ser una función especial llamada <code>range</code> o un tipo especial de función llamada **generador** o una expresión generadora, que puede ser bastante poderosa.\n"
      ]
    },
    {
      "cell_type": "code",
      "execution_count": 13,
      "id": "iTsEGgOfvaJm",
      "metadata": {
        "colab": {
          "base_uri": "https://localhost:8080/"
        },
        "id": "iTsEGgOfvaJm",
        "outputId": "239d79b0-77d0-475c-a24b-921fb6bb6d17"
      },
      "outputs": [
        {
          "name": "stdout",
          "output_type": "stream",
          "text": [
            "0\n",
            "1\n",
            "2\n",
            "3\n",
            "4\n",
            "5\n",
            "6\n",
            "7\n",
            "8\n",
            "9\n"
          ]
        }
      ],
      "source": [
        "x = [0,1,2,3,4,5,6,7,8,9]\n",
        "\n",
        "for i in x:\n",
        "   print(i)"
      ]
    },
    {
      "cell_type": "code",
      "execution_count": 16,
      "id": "lWmnbYavvzMu",
      "metadata": {
        "colab": {
          "base_uri": "https://localhost:8080/"
        },
        "id": "lWmnbYavvzMu",
        "outputId": "6ba82838-47b0-47d9-a35c-8fe060463b68"
      },
      "outputs": [
        {
          "name": "stdout",
          "output_type": "stream",
          "text": [
            "Es un valor negativo en el índice 2\n",
            "Es un valor negativo en el índice 5\n"
          ]
        }
      ],
      "source": [
        "x = [1,3,-7, 4, 9, -5, 4]\n",
        "\n",
        "for i in range(len(x)):\n",
        "  if x[i] < 0:\n",
        "    print(f\"Es un valor negativo en el índice {i}\")\n"
      ]
    },
    {
      "cell_type": "code",
      "execution_count": 23,
      "id": "gGQTnMZnwyG6",
      "metadata": {
        "colab": {
          "base_uri": "https://localhost:8080/"
        },
        "id": "gGQTnMZnwyG6",
        "outputId": "d323c02c-af3d-4848-d9d4-46cdcfdb3bf2"
      },
      "outputs": [
        {
          "data": {
            "text/plain": [
              "4"
            ]
          },
          "execution_count": 23,
          "metadata": {},
          "output_type": "execute_result"
        }
      ],
      "source": [
        "datos = [(2,3), (4,5)]\n",
        "i,j = datos[1]\n",
        "i"
      ]
    },
    {
      "cell_type": "code",
      "execution_count": 25,
      "id": "juoN30W5xKdr",
      "metadata": {
        "colab": {
          "base_uri": "https://localhost:8080/"
        },
        "id": "juoN30W5xKdr",
        "outputId": "08f0812d-5cf6-4feb-9ebe-118ec0176100"
      },
      "outputs": [
        {
          "name": "stdout",
          "output_type": "stream",
          "text": [
            "Es un valor negativo en el indice 2\n",
            "Es un valor negativo en el indice 5\n"
          ]
        }
      ],
      "source": [
        "for i,j in enumerate(x):\n",
        "  if j < 0:\n",
        "    print(f\"Es un valor negativo en el indice {i}\")"
      ]
    },
    {
      "cell_type": "code",
      "execution_count": 28,
      "id": "MKRFLp-Yxgkx",
      "metadata": {
        "colab": {
          "base_uri": "https://localhost:8080/"
        },
        "id": "MKRFLp-Yxgkx",
        "outputId": "770f91f0-9253-4ace-ec6f-6691dfa49c0e"
      },
      "outputs": [
        {
          "name": "stdout",
          "output_type": "stream",
          "text": [
            "El numnero 1 se escribe uno UNO\n",
            "El numnero 2 se escribe dos DOS\n",
            "El numnero 3 se escribe tres TRES\n",
            "El numnero 4 se escribe cuatro CUATRO\n"
          ]
        }
      ],
      "source": [
        "x = [1,2,3,4]\n",
        "y = [\"uno\", \"dos\", \"tres\", \"cuatro\"]\n",
        "o = [\"UNO\", \"DOS\", \"TRES\", \"CUATRO\"]\n",
        "\n",
        "for i,j,z in zip(x,y,o):\n",
        "  print(f\"El numnero {i} se escribe {j} {z}\")"
      ]
    },
    {
      "cell_type": "code",
      "execution_count": 33,
      "id": "KIV0P4YEyJg-",
      "metadata": {
        "colab": {
          "base_uri": "https://localhost:8080/"
        },
        "id": "KIV0P4YEyJg-",
        "outputId": "fc22e2d3-4490-4d87-c9cf-5dd0e9f809ca"
      },
      "outputs": [
        {
          "name": "stdout",
          "output_type": "stream",
          "text": [
            "Me gané la loteria\n"
          ]
        }
      ],
      "source": [
        "for i in range(2, 20, 4):\n",
        "  if i == 6:\n",
        "    print(\"Me gané la loteria\")"
      ]
    },
    {
      "cell_type": "code",
      "execution_count": 32,
      "id": "Sdzhl4ZpyTjI",
      "metadata": {
        "colab": {
          "base_uri": "https://localhost:8080/"
        },
        "id": "Sdzhl4ZpyTjI",
        "outputId": "9f7c99ed-96f5-4c9d-fa29-5d5c403a5a5a"
      },
      "outputs": [
        {
          "name": "stdout",
          "output_type": "stream",
          "text": [
            "10\n",
            "6\n",
            "2\n"
          ]
        }
      ],
      "source": [
        "for i in range(10,  0, -4):\n",
        "  print(i)"
      ]
    },
    {
      "cell_type": "markdown",
      "id": "abccbea9",
      "metadata": {
        "id": "abccbea9"
      },
      "source": [
        "La forma general es:"
      ]
    },
    {
      "cell_type": "code",
      "execution_count": null,
      "id": "c9939151",
      "metadata": {
        "id": "c9939151"
      },
      "outputs": [],
      "source": [
        "for item in sequence:\n",
        "    body\n",
        "else:\n",
        "    post-code"
      ]
    },
    {
      "cell_type": "markdown",
      "id": "d21489fb",
      "metadata": {
        "id": "d21489fb"
      },
      "source": [
        "<code>body</code> se ejecuta una vez por cada elemento de <code>sequence</code>. <code>item</code> se establece como el primer elemento de <code>sequence</code>, y se ejecuta el <code>body</code>; luego <code>item</code> se establece como el segundo elemento de <code>sequence</code>, y se ejecuta el <code>body</code>, y así sucesivamente para cada elemento restante de <code>sequence</code>."
      ]
    },
    {
      "cell_type": "markdown",
      "id": "5799abca",
      "metadata": {
        "id": "5799abca"
      },
      "source": [
        "La parte <code>else</code> es opcional. Al igual que la parte <code>else</code> del <code>while</code> loop, rara vez se usa. <code>break</code> y <code>continue</code> hacen lo mismo en un <code>for</code> loop que en el  <code>while</code> loop."
      ]
    },
    {
      "cell_type": "markdown",
      "id": "2805e76c",
      "metadata": {
        "id": "2805e76c"
      },
      "source": [
        "Este <code>for</code> loop imprime los números dentro de la lista:"
      ]
    },
    {
      "cell_type": "code",
      "execution_count": null,
      "id": "18b441de",
      "metadata": {
        "id": "18b441de",
        "outputId": "c915b4af-d267-4c1f-9b9a-6dd6f34039ff"
      },
      "outputs": [
        {
          "name": "stdout",
          "output_type": "stream",
          "text": [
            "1.0\n",
            "2.0\n",
            "3.0\n"
          ]
        }
      ],
      "source": [
        "x = [1.0, 2.0, 3.0]\n",
        "\n",
        "for n in x:\n",
        "    print(n)"
      ]
    },
    {
      "cell_type": "markdown",
      "id": "39f8c21f",
      "metadata": {
        "id": "39f8c21f"
      },
      "source": [
        "# La función <code>range</code>\n",
        "\n",
        "En ocasiones se necesita hacer un <code>for</code> loop con índices explícitos. Podemos usar el comando <code>range</code> junto con el comando <code>len</code> en la lista para generar una secuencia de índices para que los use el <code>for</code> loop.\n",
        "\n",
        "\n",
        "Este código imprime todas las posiciones en una lista donde encuentra números negativos:"
      ]
    },
    {
      "cell_type": "code",
      "execution_count": null,
      "id": "4f8cc46b",
      "metadata": {
        "id": "4f8cc46b",
        "outputId": "8234da79-1d3f-4ba1-b732-1e7f62a80876"
      },
      "outputs": [
        {
          "name": "stdout",
          "output_type": "stream",
          "text": [
            "Found a negative number at index 2\n",
            "Found a negative number at index 5\n"
          ]
        }
      ],
      "source": [
        "x = [1, 3, -7, 4, 9, -5, 4]\n",
        "\n",
        "for i in range(len(x)):\n",
        "    if x[i] < 0:\n",
        "        print(\"Found a negative number at index\",i)"
      ]
    },
    {
      "cell_type": "markdown",
      "id": "a5582d80",
      "metadata": {
        "id": "a5582d80"
      },
      "source": [
        "Dado un número *n*, <code>range(n)</code> devuelve una secuencia $0,1,2, \\dots, n-2,n-1$. Al pasarle el tamaño de la lista (que se encuentra usando la función <code>len</code>) produce una secuencia de índices para los elementos de esa lista.\n",
        "\n",
        "\n",
        "La función <code>range</code> no construye una lista Python de enteros; lo aparenta. En su lugar, crea un objeto <code>range</code> que produce números enteros sobre demanda.\n",
        "\n",
        "Esto es útil cuando se usan loops para iterar sobre una lista muy grande. En lugar de crear una lista con 10 millones de elementos, por ejemplo, que ocuparía bastante memoria, se puede usar <code>range(1000000)</code>, que ocupa solo una pequeña cantidad de memoria y genera un secuencia de enteros desde 0 hasta (pero **sin** incluir) 1000000 según lo necesite el  <code>for</code> loop."
      ]
    },
    {
      "cell_type": "markdown",
      "id": "381d1f75",
      "metadata": {
        "id": "381d1f75"
      },
      "source": [
        "## Manejo del rango con valores iniciales y escalonados\n",
        "\n",
        "Es posible usar dos variantes en la función <code>range</code> para obtener más control sobre la secuencia que produce. Si se usa <code>range</code> con dos argumentos numéricos, el primer argumento es el número inicial de la secuencia  y el segundo número es el número final de la secuencia  (pero que no se incluye).\n"
      ]
    },
    {
      "cell_type": "code",
      "execution_count": null,
      "id": "f92a36be",
      "metadata": {
        "id": "f92a36be",
        "outputId": "b45af617-ba9b-44fb-c464-c6af65e9b81b"
      },
      "outputs": [
        {
          "data": {
            "text/plain": [
              "[3, 4, 5, 6]"
            ]
          },
          "execution_count": 7,
          "metadata": {},
          "output_type": "execute_result"
        }
      ],
      "source": [
        "list(range(3,7))"
      ]
    },
    {
      "cell_type": "code",
      "execution_count": null,
      "id": "f77a8b84",
      "metadata": {
        "id": "f77a8b84",
        "outputId": "e3a80ae5-8fef-4ef9-9b7a-f25d14b25169"
      },
      "outputs": [
        {
          "data": {
            "text/plain": [
              "[2, 3, 4, 5, 6, 7, 8, 9]"
            ]
          },
          "execution_count": 8,
          "metadata": {},
          "output_type": "execute_result"
        }
      ],
      "source": [
        "list(range(2,10))"
      ]
    },
    {
      "cell_type": "markdown",
      "id": "c02676fc",
      "metadata": {
        "id": "c02676fc"
      },
      "source": [
        "\n",
        "<code>list()</code> se usa solo para forzar que los elementos que generaría <code>range</code> aparezcan como una lista."
      ]
    },
    {
      "cell_type": "markdown",
      "id": "04264c80",
      "metadata": {
        "id": "04264c80"
      },
      "source": [
        "Para contar hacia atrás, o para contar por cualquier cantidad que no sea 1, se debe usar el tercer argumento opcional para <code>range</code>, que proporciona el valor de paso de la secuencia:"
      ]
    },
    {
      "cell_type": "code",
      "execution_count": null,
      "id": "b860a697",
      "metadata": {
        "id": "b860a697",
        "outputId": "1b3bdc21-c4d9-4079-be31-5b8fafd659c5"
      },
      "outputs": [
        {
          "data": {
            "text/plain": [
              "[0, 2, 4, 6, 8]"
            ]
          },
          "execution_count": 9,
          "metadata": {},
          "output_type": "execute_result"
        }
      ],
      "source": [
        "list(range(0,10,2))"
      ]
    },
    {
      "cell_type": "code",
      "execution_count": null,
      "id": "9bb4a748",
      "metadata": {
        "id": "9bb4a748",
        "outputId": "d264666a-bab4-40d0-c21a-752604a0a95f"
      },
      "outputs": [
        {
          "data": {
            "text/plain": [
              "[5, 4, 3, 2, 1]"
            ]
          },
          "execution_count": 10,
          "metadata": {},
          "output_type": "execute_result"
        }
      ],
      "source": [
        "list(range(5,0,-1))"
      ]
    },
    {
      "cell_type": "markdown",
      "id": "be93a757",
      "metadata": {
        "id": "be93a757"
      },
      "source": [
        "# Foor loop y desempaquetado de tuplas\n",
        "\n",
        "Se puede usar el desempaquetado de tuplas para hacer que algunos  <code>for</code> loop sean más limpios.\n",
        "\n",
        "El siguiente código toma una lista de tuplas de dos elementos y calcula el valor de la suma de todas las parejas de tuplas en la lista:"
      ]
    },
    {
      "cell_type": "code",
      "execution_count": null,
      "id": "9dca877d",
      "metadata": {
        "id": "9dca877d"
      },
      "outputs": [],
      "source": [
        "somelist = [(1,2), (3,7), (9,5)]\n",
        "result = 0\n",
        "for t in somelist:\n",
        "    result = result + (t[0] + t[1])"
      ]
    },
    {
      "cell_type": "markdown",
      "id": "a9b5d82a",
      "metadata": {
        "id": "a9b5d82a"
      },
      "source": [
        "La siguiente implementación hace lo mismo pero más limpio:"
      ]
    },
    {
      "cell_type": "code",
      "execution_count": null,
      "id": "a770c47c",
      "metadata": {
        "id": "a770c47c"
      },
      "outputs": [],
      "source": [
        "somelist = [(1,2), (3,7), (9,5)]\n",
        "result = 0\n",
        "for x,y in somelist:\n",
        "    result = result + (x + y)"
      ]
    },
    {
      "cell_type": "markdown",
      "id": "d9c2697f",
      "metadata": {
        "id": "d9c2697f"
      },
      "source": [
        "Este código utiliza una tupla <code>x, y</code> inmediatamente después del <code>for</code> en lugar de la variable única. En cada iteración del ciclo <code>for</code>, <code>x</code> contiene el elemento 0 de la tupla actual de <code>list</code>, y <code>y</code> contiene elemento 1 de la tupla actual de <code>list</code>."
      ]
    },
    {
      "cell_type": "markdown",
      "id": "2f4892e4",
      "metadata": {
        "id": "2f4892e4"
      },
      "source": [
        "## La función <code>enumerate</code>\n",
        "\n",
        "Puedes combinar el desempaquetado de tuplas con la función <code>enumerate</code> para recorrer tanto los elementos como su índice.\n",
        "\n",
        "Esto es similar a usar <code>range</code> pero tiene la ventaja de que el código es más claro y fácil de entender."
      ]
    },
    {
      "cell_type": "code",
      "execution_count": null,
      "id": "454edb73",
      "metadata": {
        "id": "454edb73",
        "outputId": "fbb9dd0a-8fb1-4e76-a0e6-ae087423283e"
      },
      "outputs": [
        {
          "name": "stdout",
          "output_type": "stream",
          "text": [
            "Found a negative number at index 2\n",
            "Found a negative number at index 5\n"
          ]
        }
      ],
      "source": [
        "x = [1, 3, -7, 4, 9, -5, 4]\n",
        "for i,n in enumerate(x):\n",
        "    if n < 0:\n",
        "        print(\"Found a negative number at index\",i)"
      ]
    },
    {
      "cell_type": "markdown",
      "id": "20829767",
      "metadata": {
        "id": "20829767"
      },
      "source": [
        "## La función <code>zip</code>\n",
        "\n",
        "A veces resulta útil combinar dos o más iterables. La función <code>zip</code> toma los elementos correspondientes de uno o más iterables y los combina en tuplas hasta que llega al final del iterable más pequeño:"
      ]
    },
    {
      "cell_type": "code",
      "execution_count": null,
      "id": "44c70ea1",
      "metadata": {
        "id": "44c70ea1",
        "outputId": "4e73ad51-bf9e-48e0-b271-545d8087096f"
      },
      "outputs": [
        {
          "data": {
            "text/plain": [
              "[(1, 'a'), (2, 'b'), (3, 'c')]"
            ]
          },
          "execution_count": 12,
          "metadata": {},
          "output_type": "execute_result"
        }
      ],
      "source": [
        "x = [1, 2, 3, 4 ]\n",
        "y = [\"a\", \"b\", \"c\"]\n",
        "list(zip(x,y))"
      ]
    }
  ],
  "metadata": {
    "celltoolbar": "Slideshow",
    "colab": {
      "provenance": []
    },
    "kernelspec": {
      "display_name": "Python 3 (ipykernel)",
      "language": "python",
      "name": "python3"
    },
    "language_info": {
      "codemirror_mode": {
        "name": "ipython",
        "version": 3
      },
      "file_extension": ".py",
      "mimetype": "text/x-python",
      "name": "python",
      "nbconvert_exporter": "python",
      "pygments_lexer": "ipython3",
      "version": "3.7.13"
    }
  },
  "nbformat": 4,
  "nbformat_minor": 5
}
